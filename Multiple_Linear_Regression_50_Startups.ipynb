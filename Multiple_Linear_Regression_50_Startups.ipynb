{
 "cells": [
  {
   "cell_type": "markdown",
   "id": "0071a03d",
   "metadata": {},
   "source": [
    "# Multiple Linear Regression-50_Startups"
   ]
  },
  {
   "cell_type": "markdown",
   "id": "da2f7ff9",
   "metadata": {},
   "source": [
    "## Prepare a prediction model for profit of 50_startups data."
   ]
  },
  {
   "cell_type": "markdown",
   "id": "06ba26dc",
   "metadata": {},
   "source": [
    "#### Features"
   ]
  },
  {
   "cell_type": "markdown",
   "id": "8e7d93d9",
   "metadata": {},
   "source": [
    "##### R&D Spend -- Research and devolop spend in the past few years\n",
    "##### Administration -- spend on administration in the past few years\n",
    "##### Marketing Spend -- spend on Marketing in the past few years\n",
    "##### State -- states from which data is collected\n",
    "##### Profit  -- profit of each state in the past few years"
   ]
  },
  {
   "cell_type": "markdown",
   "id": "e2cf5410",
   "metadata": {},
   "source": [
    "### Step-1 : Import libraries"
   ]
  },
  {
   "cell_type": "code",
   "execution_count": 1,
   "id": "bf73d1cb",
   "metadata": {
    "ExecuteTime": {
     "end_time": "2022-11-03T18:28:19.071970Z",
     "start_time": "2022-11-03T18:28:16.297610Z"
    }
   },
   "outputs": [],
   "source": [
    "import pandas as pd\n",
    "import numpy as np\n",
    "import matplotlib.pyplot as plt\n",
    "import seaborn as sb\n",
    "import warnings as warnings\n",
    "warnings.filterwarnings(\"ignore\")\n",
    "from scipy import stats\n",
    "import statsmodels.api as sm\n",
    "import statsmodels.formula.api as smf\n",
    "from statsmodels.graphics.regressionplots import influence_plot"
   ]
  },
  {
   "cell_type": "markdown",
   "id": "23e5d914",
   "metadata": {},
   "source": [
    "### Step-2 : Descriptive analysis"
   ]
  },
  {
   "cell_type": "markdown",
   "id": "9f55ab4f",
   "metadata": {},
   "source": [
    "### Step-2.1 : Working with Dataset"
   ]
  },
  {
   "cell_type": "markdown",
   "id": "30024290",
   "metadata": {},
   "source": [
    "#### Loading the Dataset"
   ]
  },
  {
   "cell_type": "code",
   "execution_count": 2,
   "id": "826ed971",
   "metadata": {
    "ExecuteTime": {
     "end_time": "2022-11-03T18:28:19.087928Z",
     "start_time": "2022-11-03T18:28:19.074962Z"
    }
   },
   "outputs": [],
   "source": [
    "# Profit with respect to R&D spend, Administration spend, Marketing spend and State\n",
    "stup_pft = pd.read_csv(\"50_Startups.csv\")"
   ]
  },
  {
   "cell_type": "markdown",
   "id": "c5e8b654",
   "metadata": {},
   "source": [
    "#### Exploring the dataset"
   ]
  },
  {
   "cell_type": "code",
   "execution_count": 3,
   "id": "48a3e928",
   "metadata": {
    "ExecuteTime": {
     "end_time": "2022-11-03T18:28:19.119846Z",
     "start_time": "2022-11-03T18:28:19.091917Z"
    }
   },
   "outputs": [
    {
     "data": {
      "text/html": [
       "<div>\n",
       "<style scoped>\n",
       "    .dataframe tbody tr th:only-of-type {\n",
       "        vertical-align: middle;\n",
       "    }\n",
       "\n",
       "    .dataframe tbody tr th {\n",
       "        vertical-align: top;\n",
       "    }\n",
       "\n",
       "    .dataframe thead th {\n",
       "        text-align: right;\n",
       "    }\n",
       "</style>\n",
       "<table border=\"1\" class=\"dataframe\">\n",
       "  <thead>\n",
       "    <tr style=\"text-align: right;\">\n",
       "      <th></th>\n",
       "      <th>R&amp;D Spend</th>\n",
       "      <th>Administration</th>\n",
       "      <th>Marketing Spend</th>\n",
       "      <th>State</th>\n",
       "      <th>Profit</th>\n",
       "    </tr>\n",
       "  </thead>\n",
       "  <tbody>\n",
       "    <tr>\n",
       "      <th>0</th>\n",
       "      <td>165349.20</td>\n",
       "      <td>136897.80</td>\n",
       "      <td>471784.10</td>\n",
       "      <td>New York</td>\n",
       "      <td>192261.83</td>\n",
       "    </tr>\n",
       "    <tr>\n",
       "      <th>1</th>\n",
       "      <td>162597.70</td>\n",
       "      <td>151377.59</td>\n",
       "      <td>443898.53</td>\n",
       "      <td>California</td>\n",
       "      <td>191792.06</td>\n",
       "    </tr>\n",
       "    <tr>\n",
       "      <th>2</th>\n",
       "      <td>153441.51</td>\n",
       "      <td>101145.55</td>\n",
       "      <td>407934.54</td>\n",
       "      <td>Florida</td>\n",
       "      <td>191050.39</td>\n",
       "    </tr>\n",
       "    <tr>\n",
       "      <th>3</th>\n",
       "      <td>144372.41</td>\n",
       "      <td>118671.85</td>\n",
       "      <td>383199.62</td>\n",
       "      <td>New York</td>\n",
       "      <td>182901.99</td>\n",
       "    </tr>\n",
       "    <tr>\n",
       "      <th>4</th>\n",
       "      <td>142107.34</td>\n",
       "      <td>91391.77</td>\n",
       "      <td>366168.42</td>\n",
       "      <td>Florida</td>\n",
       "      <td>166187.94</td>\n",
       "    </tr>\n",
       "    <tr>\n",
       "      <th>5</th>\n",
       "      <td>131876.90</td>\n",
       "      <td>99814.71</td>\n",
       "      <td>362861.36</td>\n",
       "      <td>New York</td>\n",
       "      <td>156991.12</td>\n",
       "    </tr>\n",
       "    <tr>\n",
       "      <th>6</th>\n",
       "      <td>134615.46</td>\n",
       "      <td>147198.87</td>\n",
       "      <td>127716.82</td>\n",
       "      <td>California</td>\n",
       "      <td>156122.51</td>\n",
       "    </tr>\n",
       "    <tr>\n",
       "      <th>7</th>\n",
       "      <td>130298.13</td>\n",
       "      <td>145530.06</td>\n",
       "      <td>323876.68</td>\n",
       "      <td>Florida</td>\n",
       "      <td>155752.60</td>\n",
       "    </tr>\n",
       "    <tr>\n",
       "      <th>8</th>\n",
       "      <td>120542.52</td>\n",
       "      <td>148718.95</td>\n",
       "      <td>311613.29</td>\n",
       "      <td>New York</td>\n",
       "      <td>152211.77</td>\n",
       "    </tr>\n",
       "    <tr>\n",
       "      <th>9</th>\n",
       "      <td>123334.88</td>\n",
       "      <td>108679.17</td>\n",
       "      <td>304981.62</td>\n",
       "      <td>California</td>\n",
       "      <td>149759.96</td>\n",
       "    </tr>\n",
       "  </tbody>\n",
       "</table>\n",
       "</div>"
      ],
      "text/plain": [
       "   R&D Spend  Administration  Marketing Spend       State     Profit\n",
       "0  165349.20       136897.80        471784.10    New York  192261.83\n",
       "1  162597.70       151377.59        443898.53  California  191792.06\n",
       "2  153441.51       101145.55        407934.54     Florida  191050.39\n",
       "3  144372.41       118671.85        383199.62    New York  182901.99\n",
       "4  142107.34        91391.77        366168.42     Florida  166187.94\n",
       "5  131876.90        99814.71        362861.36    New York  156991.12\n",
       "6  134615.46       147198.87        127716.82  California  156122.51\n",
       "7  130298.13       145530.06        323876.68     Florida  155752.60\n",
       "8  120542.52       148718.95        311613.29    New York  152211.77\n",
       "9  123334.88       108679.17        304981.62  California  149759.96"
      ]
     },
     "execution_count": 3,
     "metadata": {},
     "output_type": "execute_result"
    }
   ],
   "source": [
    "# Displaying first ten records\n",
    "stup_pft.head(10)"
   ]
  },
  {
   "cell_type": "code",
   "execution_count": 4,
   "id": "9530e992",
   "metadata": {
    "ExecuteTime": {
     "end_time": "2022-11-03T18:28:19.135323Z",
     "start_time": "2022-11-03T18:28:19.124352Z"
    }
   },
   "outputs": [
    {
     "data": {
      "text/plain": [
       "(50, 5)"
      ]
     },
     "execution_count": 4,
     "metadata": {},
     "output_type": "execute_result"
    }
   ],
   "source": [
    "# Shape of the data\n",
    "stup_pft.shape"
   ]
  },
  {
   "cell_type": "code",
   "execution_count": 5,
   "id": "85ecb66a",
   "metadata": {
    "ExecuteTime": {
     "end_time": "2022-11-03T18:28:19.181200Z",
     "start_time": "2022-11-03T18:28:19.138314Z"
    },
    "scrolled": true
   },
   "outputs": [
    {
     "data": {
      "text/html": [
       "<div>\n",
       "<style scoped>\n",
       "    .dataframe tbody tr th:only-of-type {\n",
       "        vertical-align: middle;\n",
       "    }\n",
       "\n",
       "    .dataframe tbody tr th {\n",
       "        vertical-align: top;\n",
       "    }\n",
       "\n",
       "    .dataframe thead th {\n",
       "        text-align: right;\n",
       "    }\n",
       "</style>\n",
       "<table border=\"1\" class=\"dataframe\">\n",
       "  <thead>\n",
       "    <tr style=\"text-align: right;\">\n",
       "      <th></th>\n",
       "      <th>R&amp;D Spend</th>\n",
       "      <th>Administration</th>\n",
       "      <th>Marketing Spend</th>\n",
       "      <th>Profit</th>\n",
       "    </tr>\n",
       "  </thead>\n",
       "  <tbody>\n",
       "    <tr>\n",
       "      <th>count</th>\n",
       "      <td>50.000000</td>\n",
       "      <td>50.000000</td>\n",
       "      <td>50.000000</td>\n",
       "      <td>50.000000</td>\n",
       "    </tr>\n",
       "    <tr>\n",
       "      <th>mean</th>\n",
       "      <td>73721.615600</td>\n",
       "      <td>121344.639600</td>\n",
       "      <td>211025.097800</td>\n",
       "      <td>112012.639200</td>\n",
       "    </tr>\n",
       "    <tr>\n",
       "      <th>std</th>\n",
       "      <td>45902.256482</td>\n",
       "      <td>28017.802755</td>\n",
       "      <td>122290.310726</td>\n",
       "      <td>40306.180338</td>\n",
       "    </tr>\n",
       "    <tr>\n",
       "      <th>min</th>\n",
       "      <td>0.000000</td>\n",
       "      <td>51283.140000</td>\n",
       "      <td>0.000000</td>\n",
       "      <td>14681.400000</td>\n",
       "    </tr>\n",
       "    <tr>\n",
       "      <th>25%</th>\n",
       "      <td>39936.370000</td>\n",
       "      <td>103730.875000</td>\n",
       "      <td>129300.132500</td>\n",
       "      <td>90138.902500</td>\n",
       "    </tr>\n",
       "    <tr>\n",
       "      <th>50%</th>\n",
       "      <td>73051.080000</td>\n",
       "      <td>122699.795000</td>\n",
       "      <td>212716.240000</td>\n",
       "      <td>107978.190000</td>\n",
       "    </tr>\n",
       "    <tr>\n",
       "      <th>75%</th>\n",
       "      <td>101602.800000</td>\n",
       "      <td>144842.180000</td>\n",
       "      <td>299469.085000</td>\n",
       "      <td>139765.977500</td>\n",
       "    </tr>\n",
       "    <tr>\n",
       "      <th>max</th>\n",
       "      <td>165349.200000</td>\n",
       "      <td>182645.560000</td>\n",
       "      <td>471784.100000</td>\n",
       "      <td>192261.830000</td>\n",
       "    </tr>\n",
       "  </tbody>\n",
       "</table>\n",
       "</div>"
      ],
      "text/plain": [
       "           R&D Spend  Administration  Marketing Spend         Profit\n",
       "count      50.000000       50.000000        50.000000      50.000000\n",
       "mean    73721.615600   121344.639600    211025.097800  112012.639200\n",
       "std     45902.256482    28017.802755    122290.310726   40306.180338\n",
       "min         0.000000    51283.140000         0.000000   14681.400000\n",
       "25%     39936.370000   103730.875000    129300.132500   90138.902500\n",
       "50%     73051.080000   122699.795000    212716.240000  107978.190000\n",
       "75%    101602.800000   144842.180000    299469.085000  139765.977500\n",
       "max    165349.200000   182645.560000    471784.100000  192261.830000"
      ]
     },
     "execution_count": 5,
     "metadata": {},
     "output_type": "execute_result"
    }
   ],
   "source": [
    "# Summary of the data\n",
    "stup_pft.describe()"
   ]
  },
  {
   "cell_type": "code",
   "execution_count": 6,
   "id": "fab60c59",
   "metadata": {
    "ExecuteTime": {
     "end_time": "2022-11-03T18:28:19.212126Z",
     "start_time": "2022-11-03T18:28:19.184192Z"
    }
   },
   "outputs": [
    {
     "name": "stdout",
     "output_type": "stream",
     "text": [
      "<class 'pandas.core.frame.DataFrame'>\n",
      "RangeIndex: 50 entries, 0 to 49\n",
      "Data columns (total 5 columns):\n",
      " #   Column           Non-Null Count  Dtype  \n",
      "---  ------           --------------  -----  \n",
      " 0   R&D Spend        50 non-null     float64\n",
      " 1   Administration   50 non-null     float64\n",
      " 2   Marketing Spend  50 non-null     float64\n",
      " 3   State            50 non-null     object \n",
      " 4   Profit           50 non-null     float64\n",
      "dtypes: float64(4), object(1)\n",
      "memory usage: 2.1+ KB\n"
     ]
    }
   ],
   "source": [
    "# Check the data types\n",
    "stup_pft.info()"
   ]
  },
  {
   "cell_type": "markdown",
   "id": "d402a8b0",
   "metadata": {},
   "source": [
    "#### Modifying the dataset"
   ]
  },
  {
   "cell_type": "code",
   "execution_count": 7,
   "id": "f8b02219",
   "metadata": {
    "ExecuteTime": {
     "end_time": "2022-11-03T18:28:19.243584Z",
     "start_time": "2022-11-03T18:28:19.215116Z"
    }
   },
   "outputs": [
    {
     "data": {
      "text/html": [
       "<div>\n",
       "<style scoped>\n",
       "    .dataframe tbody tr th:only-of-type {\n",
       "        vertical-align: middle;\n",
       "    }\n",
       "\n",
       "    .dataframe tbody tr th {\n",
       "        vertical-align: top;\n",
       "    }\n",
       "\n",
       "    .dataframe thead th {\n",
       "        text-align: right;\n",
       "    }\n",
       "</style>\n",
       "<table border=\"1\" class=\"dataframe\">\n",
       "  <thead>\n",
       "    <tr style=\"text-align: right;\">\n",
       "      <th></th>\n",
       "      <th>RnD_Exp</th>\n",
       "      <th>Admin_Exp</th>\n",
       "      <th>Mktg_Exp</th>\n",
       "      <th>State</th>\n",
       "      <th>Profit</th>\n",
       "    </tr>\n",
       "  </thead>\n",
       "  <tbody>\n",
       "    <tr>\n",
       "      <th>0</th>\n",
       "      <td>165349.20</td>\n",
       "      <td>136897.80</td>\n",
       "      <td>471784.10</td>\n",
       "      <td>New York</td>\n",
       "      <td>192261.83</td>\n",
       "    </tr>\n",
       "    <tr>\n",
       "      <th>1</th>\n",
       "      <td>162597.70</td>\n",
       "      <td>151377.59</td>\n",
       "      <td>443898.53</td>\n",
       "      <td>California</td>\n",
       "      <td>191792.06</td>\n",
       "    </tr>\n",
       "    <tr>\n",
       "      <th>2</th>\n",
       "      <td>153441.51</td>\n",
       "      <td>101145.55</td>\n",
       "      <td>407934.54</td>\n",
       "      <td>Florida</td>\n",
       "      <td>191050.39</td>\n",
       "    </tr>\n",
       "    <tr>\n",
       "      <th>3</th>\n",
       "      <td>144372.41</td>\n",
       "      <td>118671.85</td>\n",
       "      <td>383199.62</td>\n",
       "      <td>New York</td>\n",
       "      <td>182901.99</td>\n",
       "    </tr>\n",
       "    <tr>\n",
       "      <th>4</th>\n",
       "      <td>142107.34</td>\n",
       "      <td>91391.77</td>\n",
       "      <td>366168.42</td>\n",
       "      <td>Florida</td>\n",
       "      <td>166187.94</td>\n",
       "    </tr>\n",
       "    <tr>\n",
       "      <th>5</th>\n",
       "      <td>131876.90</td>\n",
       "      <td>99814.71</td>\n",
       "      <td>362861.36</td>\n",
       "      <td>New York</td>\n",
       "      <td>156991.12</td>\n",
       "    </tr>\n",
       "    <tr>\n",
       "      <th>6</th>\n",
       "      <td>134615.46</td>\n",
       "      <td>147198.87</td>\n",
       "      <td>127716.82</td>\n",
       "      <td>California</td>\n",
       "      <td>156122.51</td>\n",
       "    </tr>\n",
       "    <tr>\n",
       "      <th>7</th>\n",
       "      <td>130298.13</td>\n",
       "      <td>145530.06</td>\n",
       "      <td>323876.68</td>\n",
       "      <td>Florida</td>\n",
       "      <td>155752.60</td>\n",
       "    </tr>\n",
       "    <tr>\n",
       "      <th>8</th>\n",
       "      <td>120542.52</td>\n",
       "      <td>148718.95</td>\n",
       "      <td>311613.29</td>\n",
       "      <td>New York</td>\n",
       "      <td>152211.77</td>\n",
       "    </tr>\n",
       "    <tr>\n",
       "      <th>9</th>\n",
       "      <td>123334.88</td>\n",
       "      <td>108679.17</td>\n",
       "      <td>304981.62</td>\n",
       "      <td>California</td>\n",
       "      <td>149759.96</td>\n",
       "    </tr>\n",
       "  </tbody>\n",
       "</table>\n",
       "</div>"
      ],
      "text/plain": [
       "     RnD_Exp  Admin_Exp   Mktg_Exp       State     Profit\n",
       "0  165349.20  136897.80  471784.10    New York  192261.83\n",
       "1  162597.70  151377.59  443898.53  California  191792.06\n",
       "2  153441.51  101145.55  407934.54     Florida  191050.39\n",
       "3  144372.41  118671.85  383199.62    New York  182901.99\n",
       "4  142107.34   91391.77  366168.42     Florida  166187.94\n",
       "5  131876.90   99814.71  362861.36    New York  156991.12\n",
       "6  134615.46  147198.87  127716.82  California  156122.51\n",
       "7  130298.13  145530.06  323876.68     Florida  155752.60\n",
       "8  120542.52  148718.95  311613.29    New York  152211.77\n",
       "9  123334.88  108679.17  304981.62  California  149759.96"
      ]
     },
     "execution_count": 7,
     "metadata": {},
     "output_type": "execute_result"
    }
   ],
   "source": [
    "stup_pft=stup_pft.rename(columns={'R&D Spend':'RnD_Exp', 'Administration':'Admin_Exp', 'Marketing Spend':'Mktg_Exp'})\n",
    "stup_pft.head(10)"
   ]
  },
  {
   "cell_type": "markdown",
   "id": "8fc274b3",
   "metadata": {},
   "source": [
    "### Step-2.2 : Handling missing values"
   ]
  },
  {
   "cell_type": "code",
   "execution_count": 8,
   "id": "d1afc980",
   "metadata": {
    "ExecuteTime": {
     "end_time": "2022-11-03T18:28:19.274499Z",
     "start_time": "2022-11-03T18:28:19.247570Z"
    }
   },
   "outputs": [
    {
     "data": {
      "text/plain": [
       "RnD_Exp      0\n",
       "Admin_Exp    0\n",
       "Mktg_Exp     0\n",
       "State        0\n",
       "Profit       0\n",
       "dtype: int64"
      ]
     },
     "execution_count": 8,
     "metadata": {},
     "output_type": "execute_result"
    }
   ],
   "source": [
    "# Check for Null values\n",
    "stup_pft.isnull().sum()"
   ]
  },
  {
   "cell_type": "code",
   "execution_count": 9,
   "id": "b4fa93bf",
   "metadata": {
    "ExecuteTime": {
     "end_time": "2022-11-03T18:28:19.306422Z",
     "start_time": "2022-11-03T18:28:19.278489Z"
    }
   },
   "outputs": [
    {
     "data": {
      "text/plain": [
       "(0, 5)"
      ]
     },
     "execution_count": 9,
     "metadata": {},
     "output_type": "execute_result"
    }
   ],
   "source": [
    "# Check for duplicate values\n",
    "stup_pft[stup_pft.duplicated()].shape"
   ]
  },
  {
   "cell_type": "code",
   "execution_count": 10,
   "id": "953f27b7",
   "metadata": {
    "ExecuteTime": {
     "end_time": "2022-11-03T18:28:19.336915Z",
     "start_time": "2022-11-03T18:28:19.316399Z"
    },
    "scrolled": true
   },
   "outputs": [
    {
     "data": {
      "text/html": [
       "<div>\n",
       "<style scoped>\n",
       "    .dataframe tbody tr th:only-of-type {\n",
       "        vertical-align: middle;\n",
       "    }\n",
       "\n",
       "    .dataframe tbody tr th {\n",
       "        vertical-align: top;\n",
       "    }\n",
       "\n",
       "    .dataframe thead th {\n",
       "        text-align: right;\n",
       "    }\n",
       "</style>\n",
       "<table border=\"1\" class=\"dataframe\">\n",
       "  <thead>\n",
       "    <tr style=\"text-align: right;\">\n",
       "      <th></th>\n",
       "      <th>RnD_Exp</th>\n",
       "      <th>Admin_Exp</th>\n",
       "      <th>Mktg_Exp</th>\n",
       "      <th>State</th>\n",
       "      <th>Profit</th>\n",
       "    </tr>\n",
       "  </thead>\n",
       "  <tbody>\n",
       "  </tbody>\n",
       "</table>\n",
       "</div>"
      ],
      "text/plain": [
       "Empty DataFrame\n",
       "Columns: [RnD_Exp, Admin_Exp, Mktg_Exp, State, Profit]\n",
       "Index: []"
      ]
     },
     "execution_count": 10,
     "metadata": {},
     "output_type": "execute_result"
    }
   ],
   "source": [
    "stup_pft[stup_pft.duplicated()]"
   ]
  },
  {
   "cell_type": "markdown",
   "id": "6e3397fb",
   "metadata": {},
   "source": [
    "### Step-2.3 : Exploring data using Visualisation"
   ]
  },
  {
   "cell_type": "markdown",
   "id": "3fde07fb",
   "metadata": {},
   "source": [
    "#### Histogram"
   ]
  },
  {
   "cell_type": "code",
   "execution_count": 11,
   "id": "c85d1898",
   "metadata": {
    "ExecuteTime": {
     "end_time": "2022-11-03T18:28:19.961297Z",
     "start_time": "2022-11-03T18:28:19.343896Z"
    }
   },
   "outputs": [
    {
     "data": {
      "image/png": "[encoded data removed]",
      "text/plain": [
       "<Figure size 864x720 with 4 Axes>"
      ]
     },
     "metadata": {
      "needs_background": "light"
     },
     "output_type": "display_data"
    }
   ],
   "source": [
    "plt.subplots(figsize = (12,10))\n",
    "plt.subplot(2,2,1)\n",
    "plt.hist(stup_pft['RnD_Exp'])\n",
    "plt.title('R&D Expenditure')\n",
    "plt.subplot(2,2,2)\n",
    "plt.hist(stup_pft['Admin_Exp'])\n",
    "plt.title('Administration Expenditure')\n",
    "plt.subplot(2,2,3)\n",
    "plt.hist(stup_pft['Mktg_Exp'])\n",
    "plt.title('Marketing Expenditure')\n",
    "plt.subplot(2,2,4)\n",
    "plt.hist(stup_pft['Profit'])\n",
    "plt.title('Profit')\n",
    "plt.show()"
   ]
  },
  {
   "cell_type": "markdown",
   "id": "e0d1d2ef",
   "metadata": {},
   "source": [
    "#### Boxplot"
   ]
  },
  {
   "cell_type": "code",
   "execution_count": 12,
   "id": "21780b7d",
   "metadata": {
    "ExecuteTime": {
     "end_time": "2022-11-03T18:28:20.410126Z",
     "start_time": "2022-11-03T18:28:19.963293Z"
    },
    "scrolled": true
   },
   "outputs": [
    {
     "data": {
      "image/png": "[encoded data removed]",
      "text/plain": [
       "<Figure size 864x720 with 4 Axes>"
      ]
     },
     "metadata": {
      "needs_background": "light"
     },
     "output_type": "display_data"
    }
   ],
   "source": [
    "plt.subplots(figsize = (12,10))\n",
    "plt.subplot(2,2,1)\n",
    "plt.boxplot(stup_pft['RnD_Exp'])\n",
    "plt.title('R&D Expenditure')\n",
    "plt.subplot(2,2,2)\n",
    "plt.boxplot(stup_pft['Admin_Exp'])\n",
    "plt.title('Administration Expenditure')\n",
    "plt.subplot(2,2,3)\n",
    "plt.boxplot(stup_pft['Mktg_Exp'])\n",
    "plt.title('Marketing Expenditure')\n",
    "plt.subplot(2,2,4)\n",
    "plt.boxplot(stup_pft['Profit'])\n",
    "plt.title('Profit')\n",
    "plt.show()"
   ]
  },
  {
   "cell_type": "markdown",
   "id": "9d325b77",
   "metadata": {},
   "source": [
    "#### We can observe that there is an outlier in the profit column. But in other columns, there are no outliers. The outliers are to be investigated to get accurate model."
   ]
  },
  {
   "cell_type": "markdown",
   "id": "8d1fe2f7",
   "metadata": {},
   "source": [
    "#### Distribution plot"
   ]
  },
  {
   "cell_type": "code",
   "execution_count": 13,
   "id": "50d27955",
   "metadata": {
    "ExecuteTime": {
     "end_time": "2022-11-03T18:28:21.524938Z",
     "start_time": "2022-11-03T18:28:20.412120Z"
    },
    "scrolled": true
   },
   "outputs": [
    {
     "data": {
      "image/png": "[encoded data removed]",
      "text/plain": [
       "<Figure size 648x432 with 1 Axes>"
      ]
     },
     "metadata": {
      "needs_background": "light"
     },
     "output_type": "display_data"
    }
   ],
   "source": [
    "plt.figure(figsize = (9,6))\n",
    "labels = ['R&D Expenditure', 'Administration Expenditure','Marketing Expenditure','Profit']\n",
    "sb.distplot(stup_pft['RnD_Exp'])\n",
    "sb.distplot(stup_pft['Admin_Exp'])\n",
    "sb.distplot(stup_pft['Mktg_Exp'])\n",
    "sb.distplot(stup_pft['Profit'])\n",
    "plt.legend(labels)\n",
    "plt.show()"
   ]
  },
  {
   "cell_type": "markdown",
   "id": "014fb501",
   "metadata": {},
   "source": [
    "#### Q-Q plot"
   ]
  },
  {
   "cell_type": "code",
   "execution_count": 14,
   "id": "803d8059",
   "metadata": {
    "ExecuteTime": {
     "end_time": "2022-11-03T18:28:22.116180Z",
     "start_time": "2022-11-03T18:28:21.527911Z"
    },
    "scrolled": false
   },
   "outputs": [
    {
     "data": {
      "image/png": "[encoded data removed]",
      "text/plain": [
       "<Figure size 432x288 with 1 Axes>"
      ]
     },
     "metadata": {
      "needs_background": "light"
     },
     "output_type": "display_data"
    },
    {
     "data": {
      "image/png": "[encoded data removed]",
      "text/plain": [
       "<Figure size 432x288 with 1 Axes>"
      ]
     },
     "metadata": {
      "needs_background": "light"
     },
     "output_type": "display_data"
    },
    {
     "data": {
      "image/png": "[encoded data removed]",
      "text/plain": [
       "<Figure size 432x288 with 1 Axes>"
      ]
     },
     "metadata": {
      "needs_background": "light"
     },
     "output_type": "display_data"
    },
    {
     "data": {
      "image/png": "[encoded data removed]",
      "text/plain": [
       "<Figure size 432x288 with 1 Axes>"
      ]
     },
     "metadata": {
      "needs_background": "light"
     },
     "output_type": "display_data"
    }
   ],
   "source": [
    "# To check whether the data is following normal distribution\n",
    "sm.qqplot(stup_pft['RnD_Exp'], line = 'q')\n",
    "plt.title('R&D Expenditure')\n",
    "sm.qqplot(stup_pft['Admin_Exp'], line = 'q')\n",
    "plt.title('Administration Expenditure')\n",
    "sm.qqplot(stup_pft['Mktg_Exp'], line = 'q')\n",
    "plt.title('Marketing Expenditure')\n",
    "sm.qqplot(stup_pft['Profit'], line = 'q')\n",
    "plt.title('Profit')\n",
    "plt.show()"
   ]
  },
  {
   "cell_type": "markdown",
   "id": "7783845b",
   "metadata": {},
   "source": [
    "#### Correlation and Heat map"
   ]
  },
  {
   "cell_type": "code",
   "execution_count": 15,
   "id": "e42dfd84",
   "metadata": {
    "ExecuteTime": {
     "end_time": "2022-11-03T18:28:22.146418Z",
     "start_time": "2022-11-03T18:28:22.118904Z"
    }
   },
   "outputs": [
    {
     "data": {
      "text/html": [
       "<div>\n",
       "<style scoped>\n",
       "    .dataframe tbody tr th:only-of-type {\n",
       "        vertical-align: middle;\n",
       "    }\n",
       "\n",
       "    .dataframe tbody tr th {\n",
       "        vertical-align: top;\n",
       "    }\n",
       "\n",
       "    .dataframe thead th {\n",
       "        text-align: right;\n",
       "    }\n",
       "</style>\n",
       "<table border=\"1\" class=\"dataframe\">\n",
       "  <thead>\n",
       "    <tr style=\"text-align: right;\">\n",
       "      <th></th>\n",
       "      <th>RnD_Exp</th>\n",
       "      <th>Admin_Exp</th>\n",
       "      <th>Mktg_Exp</th>\n",
       "      <th>Profit</th>\n",
       "    </tr>\n",
       "  </thead>\n",
       "  <tbody>\n",
       "    <tr>\n",
       "      <th>RnD_Exp</th>\n",
       "      <td>1.000000</td>\n",
       "      <td>0.241955</td>\n",
       "      <td>0.724248</td>\n",
       "      <td>0.972900</td>\n",
       "    </tr>\n",
       "    <tr>\n",
       "      <th>Admin_Exp</th>\n",
       "      <td>0.241955</td>\n",
       "      <td>1.000000</td>\n",
       "      <td>-0.032154</td>\n",
       "      <td>0.200717</td>\n",
       "    </tr>\n",
       "    <tr>\n",
       "      <th>Mktg_Exp</th>\n",
       "      <td>0.724248</td>\n",
       "      <td>-0.032154</td>\n",
       "      <td>1.000000</td>\n",
       "      <td>0.747766</td>\n",
       "    </tr>\n",
       "    <tr>\n",
       "      <th>Profit</th>\n",
       "      <td>0.972900</td>\n",
       "      <td>0.200717</td>\n",
       "      <td>0.747766</td>\n",
       "      <td>1.000000</td>\n",
       "    </tr>\n",
       "  </tbody>\n",
       "</table>\n",
       "</div>"
      ],
      "text/plain": [
       "            RnD_Exp  Admin_Exp  Mktg_Exp    Profit\n",
       "RnD_Exp    1.000000   0.241955  0.724248  0.972900\n",
       "Admin_Exp  0.241955   1.000000 -0.032154  0.200717\n",
       "Mktg_Exp   0.724248  -0.032154  1.000000  0.747766\n",
       "Profit     0.972900   0.200717  0.747766  1.000000"
      ]
     },
     "execution_count": 15,
     "metadata": {},
     "output_type": "execute_result"
    }
   ],
   "source": [
    "# Checking for Correlation between variables\n",
    "stup_pft.corr()"
   ]
  },
  {
   "cell_type": "code",
   "execution_count": 16,
   "id": "d5eb6640",
   "metadata": {
    "ExecuteTime": {
     "end_time": "2022-11-03T18:28:22.395888Z",
     "start_time": "2022-11-03T18:28:22.149372Z"
    }
   },
   "outputs": [
    {
     "data": {
      "image/png": "[encoded data removed]",
      "text/plain": [
       "<Figure size 432x288 with 2 Axes>"
      ]
     },
     "metadata": {
      "needs_background": "light"
     },
     "output_type": "display_data"
    }
   ],
   "source": [
    "sb.heatmap(stup_pft.corr(),annot=True)\n",
    "plt.show()"
   ]
  },
  {
   "cell_type": "code",
   "execution_count": 17,
   "id": "51eef4b5",
   "metadata": {
    "ExecuteTime": {
     "end_time": "2022-11-03T18:28:23.316629Z",
     "start_time": "2022-11-03T18:28:22.401919Z"
    },
    "scrolled": true
   },
   "outputs": [
    {
     "data": {
      "image/png": "[encoded data removed]",
      "text/plain": [
       "<Figure size 1008x864 with 3 Axes>"
      ]
     },
     "metadata": {
      "needs_background": "light"
     },
     "output_type": "display_data"
    }
   ],
   "source": [
    "plt.subplots(figsize = (14,12))\n",
    "plt.subplot(2,2,1)\n",
    "sb.regplot(x=stup_pft['RnD_Exp'],y=stup_pft['Profit'])\n",
    "plt.title('R&D Expenditure vs Profit')\n",
    "plt.subplot(2,2,2)\n",
    "sb.regplot(x=stup_pft['Admin_Exp'],y=stup_pft['Profit'])\n",
    "plt.title('Administration Expenditure vs Profit')\n",
    "plt.subplot(2,2,3)\n",
    "sb.regplot(x=stup_pft['Mktg_Exp'],y=stup_pft['Profit'])\n",
    "plt.title('Marketing Expenditure vs Profit')\n",
    "plt.show()"
   ]
  },
  {
   "cell_type": "code",
   "execution_count": 18,
   "id": "46b1861f",
   "metadata": {
    "ExecuteTime": {
     "end_time": "2022-11-03T18:28:23.332813Z",
     "start_time": "2022-11-03T18:28:23.318635Z"
    }
   },
   "outputs": [],
   "source": [
    "# There is a good correlation between R&D expenditure and Profit variables.\n",
    "# The correlation value is more than 0.8 which represents that the variables are strongly related."
   ]
  },
  {
   "cell_type": "markdown",
   "id": "aee5207b",
   "metadata": {},
   "source": [
    "#### Pair plot"
   ]
  },
  {
   "cell_type": "code",
   "execution_count": 19,
   "id": "912106ab",
   "metadata": {
    "ExecuteTime": {
     "end_time": "2022-11-03T18:28:25.929921Z",
     "start_time": "2022-11-03T18:28:23.334740Z"
    }
   },
   "outputs": [
    {
     "data": {
      "image/png": "[encoded data removed]",
      "text/plain": [
       "<Figure size 720x720 with 20 Axes>"
      ]
     },
     "metadata": {},
     "output_type": "display_data"
    }
   ],
   "source": [
    "sb.set_style(style='darkgrid')\n",
    "sb.pairplot(stup_pft)\n",
    "plt.show()"
   ]
  },
  {
   "cell_type": "markdown",
   "id": "4eae76b6",
   "metadata": {
    "ExecuteTime": {
     "end_time": "2022-10-13T10:27:50.557483Z",
     "start_time": "2022-10-13T10:27:50.543361Z"
    }
   },
   "source": [
    "### Step-3 : Build a Multiple Linear Regeression model"
   ]
  },
  {
   "cell_type": "markdown",
   "id": "a75cdde9",
   "metadata": {},
   "source": [
    "### Step-3.1 : Fitting the model"
   ]
  },
  {
   "cell_type": "code",
   "execution_count": 20,
   "id": "59cdcf70",
   "metadata": {
    "ExecuteTime": {
     "end_time": "2022-11-03T18:28:25.960023Z",
     "start_time": "2022-11-03T18:28:25.931875Z"
    },
    "scrolled": true
   },
   "outputs": [],
   "source": [
    "# The Multiple Linear regression equation is Profit=βo+β1(RnD_Exp)+β2(Admin_Exp)+β3(Mktg_Exp).\n",
    "# Using the following code we build a Multiple linear regression model, which predicts the profit for given parameters\n",
    "model=smf.ols(\"Profit~RnD_Exp+Admin_Exp+Mktg_Exp\",data=stup_pft).fit()"
   ]
  },
  {
   "cell_type": "markdown",
   "id": "f51c1fb3",
   "metadata": {},
   "source": [
    "#### Printing Estimated Parameters"
   ]
  },
  {
   "cell_type": "code",
   "execution_count": 21,
   "id": "bcfb8e25",
   "metadata": {
    "ExecuteTime": {
     "end_time": "2022-11-03T18:28:25.975978Z",
     "start_time": "2022-11-03T18:28:25.962016Z"
    }
   },
   "outputs": [
    {
     "data": {
      "text/plain": [
       "Intercept    50122.192990\n",
       "RnD_Exp          0.805715\n",
       "Admin_Exp       -0.026816\n",
       "Mktg_Exp         0.027228\n",
       "dtype: float64"
      ]
     },
     "execution_count": 21,
     "metadata": {},
     "output_type": "execute_result"
    }
   ],
   "source": [
    "# We get values of βo,β1,β2,β3\n",
    "model.params"
   ]
  },
  {
   "cell_type": "markdown",
   "id": "5745e7af",
   "metadata": {},
   "source": [
    "### Step-4 : Model Diagnostics"
   ]
  },
  {
   "cell_type": "markdown",
   "id": "8438e45e",
   "metadata": {},
   "source": [
    "#### Residuals"
   ]
  },
  {
   "cell_type": "code",
   "execution_count": 22,
   "id": "32625811",
   "metadata": {
    "ExecuteTime": {
     "end_time": "2022-11-03T18:28:26.006526Z",
     "start_time": "2022-11-03T18:28:25.977973Z"
    }
   },
   "outputs": [
    {
     "data": {
      "text/plain": [
       "0      -259.422890\n",
       "1      2635.291768\n",
       "2      8903.110904\n",
       "3      9205.289974\n",
       "4     -5951.574183\n",
       "5     -6589.660571\n",
       "6     -1991.586669\n",
       "7     -4268.763048\n",
       "8       470.070301\n",
       "9     -5124.724110\n",
       "10    10612.933633\n",
       "11     8685.687039\n",
       "12    12447.465818\n",
       "13     6819.358337\n",
       "14   -16945.996335\n",
       "15   -16318.119985\n",
       "16    10077.524599\n",
       "17    -4822.077208\n",
       "18    -4747.326806\n",
       "19     7141.643633\n",
       "20     1834.360769\n",
       "21    -6006.431640\n",
       "22    -4354.731717\n",
       "23    -1262.625221\n",
       "24    -4810.926113\n",
       "25     5166.614935\n",
       "26    -4867.035350\n",
       "27    -9399.761457\n",
       "28     1622.353995\n",
       "29     -790.343452\n",
       "30      485.217064\n",
       "31     -204.296276\n",
       "32    -1573.488985\n",
       "33    -1136.087805\n",
       "34     7673.526259\n",
       "35     5967.910432\n",
       "36    15422.015415\n",
       "37      329.602292\n",
       "38    11531.629352\n",
       "39    -2723.251977\n",
       "40     3423.956009\n",
       "41     2996.273761\n",
       "42      878.078179\n",
       "43     9591.940037\n",
       "44      588.975084\n",
       "45    17275.430313\n",
       "46    -6675.456853\n",
       "47    -3930.858983\n",
       "48   -13497.978158\n",
       "49   -33533.734111\n",
       "dtype: float64"
      ]
     },
     "execution_count": 22,
     "metadata": {},
     "output_type": "execute_result"
    }
   ],
   "source": [
    "# Residuals or errors of the model for each observation. Error = Actual value - Predicted value\n",
    "model.resid"
   ]
  },
  {
   "cell_type": "code",
   "execution_count": 23,
   "id": "1c6bebb0",
   "metadata": {
    "ExecuteTime": {
     "end_time": "2022-11-03T18:28:26.021491Z",
     "start_time": "2022-11-03T18:28:26.011513Z"
    },
    "scrolled": true
   },
   "outputs": [
    {
     "data": {
      "text/plain": [
       "array([-0.02809938,  0.28544153,  0.96434012,  0.99707064, -0.64464453,\n",
       "       -0.71375884, -0.21571863, -0.46237091,  0.05091565, -0.5550843 ,\n",
       "        1.14953951,  0.94078986,  1.34824679,  0.73863854, -1.83550495,\n",
       "       -1.76749655,  1.0915467 , -0.52230311, -0.51420652,  0.77354686,\n",
       "        0.19868872, -0.65058642, -0.4716826 , -0.1367612 , -0.52109528,\n",
       "        0.5596217 , -0.52717275, -1.01813481,  0.17572521, -0.08560602,\n",
       "        0.05255627, -0.02212834, -0.1704324 , -0.12305531,  0.83115771,\n",
       "        0.64641399,  1.67043502,  0.03570086,  1.249048  , -0.29496894,\n",
       "        0.37086567,  0.32454128,  0.095109  ,  1.03895062,  0.06379481,\n",
       "        1.87118758, -0.72305186, -0.42577084, -1.462033  , -3.63220515])"
      ]
     },
     "execution_count": 23,
     "metadata": {},
     "output_type": "execute_result"
    }
   ],
   "source": [
    "# Standardised residuals\n",
    "model.resid_pearson"
   ]
  },
  {
   "cell_type": "markdown",
   "id": "681e95d1",
   "metadata": {},
   "source": [
    "#### Predicted values"
   ]
  },
  {
   "cell_type": "code",
   "execution_count": 24,
   "id": "caa09090",
   "metadata": {
    "ExecuteTime": {
     "end_time": "2022-11-03T18:28:26.052553Z",
     "start_time": "2022-11-03T18:28:26.026505Z"
    }
   },
   "outputs": [
    {
     "data": {
      "text/plain": [
       "0     192521.252890\n",
       "1     189156.768232\n",
       "2     182147.279096\n",
       "3     173696.700026\n",
       "4     172139.514183\n",
       "5     163580.780571\n",
       "6     158114.096669\n",
       "7     160021.363048\n",
       "8     151741.699699\n",
       "9     154884.684110\n",
       "10    135509.016367\n",
       "11    135573.712961\n",
       "12    129138.054182\n",
       "13    127487.991663\n",
       "14    149548.646335\n",
       "15    146235.159985\n",
       "16    116915.405401\n",
       "17    130192.447208\n",
       "18    129014.226806\n",
       "19    115635.216367\n",
       "20    116639.669231\n",
       "21    117319.451640\n",
       "22    114706.981717\n",
       "23    109996.615221\n",
       "24    113362.966113\n",
       "25    102237.725065\n",
       "26    110600.575350\n",
       "27    114408.071457\n",
       "28    101660.026005\n",
       "29    101794.983452\n",
       "30     99452.372936\n",
       "31     97687.856276\n",
       "32     99001.328985\n",
       "33     97915.007805\n",
       "34     89039.273741\n",
       "35     90511.599568\n",
       "36     75286.174585\n",
       "37     89619.537708\n",
       "38     69697.430648\n",
       "39     83729.011977\n",
       "40     74815.953991\n",
       "41     74802.556239\n",
       "42     70620.411821\n",
       "43     60167.039963\n",
       "44     64611.354916\n",
       "45     47650.649687\n",
       "46     56166.206853\n",
       "47     46490.588983\n",
       "48     49171.388158\n",
       "49     48215.134111\n",
       "dtype: float64"
      ]
     },
     "execution_count": 24,
     "metadata": {},
     "output_type": "execute_result"
    }
   ],
   "source": [
    "pred=model.predict(stup_pft)\n",
    "pred"
   ]
  },
  {
   "cell_type": "markdown",
   "id": "26d3d12e",
   "metadata": {},
   "source": [
    "#### Overall Summary"
   ]
  },
  {
   "cell_type": "code",
   "execution_count": 25,
   "id": "bf12b9b2",
   "metadata": {
    "ExecuteTime": {
     "end_time": "2022-11-03T18:28:26.098430Z",
     "start_time": "2022-11-03T18:28:26.057555Z"
    },
    "scrolled": true
   },
   "outputs": [
    {
     "data": {
      "text/html": [
       "<table class=\"simpletable\">\n",
       "<caption>OLS Regression Results</caption>\n",
       "<tr>\n",
       "  <th>Dep. Variable:</th>         <td>Profit</td>      <th>  R-squared:         </th> <td>   0.951</td>\n",
       "</tr>\n",
       "<tr>\n",
       "  <th>Model:</th>                   <td>OLS</td>       <th>  Adj. R-squared:    </th> <td>   0.948</td>\n",
       "</tr>\n",
       "<tr>\n",
       "  <th>Method:</th>             <td>Least Squares</td>  <th>  F-statistic:       </th> <td>   296.0</td>\n",
       "</tr>\n",
       "<tr>\n",
       "  <th>Date:</th>             <td>Thu, 03 Nov 2022</td> <th>  Prob (F-statistic):</th> <td>4.53e-30</td>\n",
       "</tr>\n",
       "<tr>\n",
       "  <th>Time:</th>                 <td>23:58:26</td>     <th>  Log-Likelihood:    </th> <td> -525.39</td>\n",
       "</tr>\n",
       "<tr>\n",
       "  <th>No. Observations:</th>      <td>    50</td>      <th>  AIC:               </th> <td>   1059.</td>\n",
       "</tr>\n",
       "<tr>\n",
       "  <th>Df Residuals:</th>          <td>    46</td>      <th>  BIC:               </th> <td>   1066.</td>\n",
       "</tr>\n",
       "<tr>\n",
       "  <th>Df Model:</th>              <td>     3</td>      <th>                     </th>     <td> </td>   \n",
       "</tr>\n",
       "<tr>\n",
       "  <th>Covariance Type:</th>      <td>nonrobust</td>    <th>                     </th>     <td> </td>   \n",
       "</tr>\n",
       "</table>\n",
       "<table class=\"simpletable\">\n",
       "<tr>\n",
       "      <td></td>         <th>coef</th>     <th>std err</th>      <th>t</th>      <th>P>|t|</th>  <th>[0.025</th>    <th>0.975]</th>  \n",
       "</tr>\n",
       "<tr>\n",
       "  <th>Intercept</th> <td> 5.012e+04</td> <td> 6572.353</td> <td>    7.626</td> <td> 0.000</td> <td> 3.69e+04</td> <td> 6.34e+04</td>\n",
       "</tr>\n",
       "<tr>\n",
       "  <th>RnD_Exp</th>   <td>    0.8057</td> <td>    0.045</td> <td>   17.846</td> <td> 0.000</td> <td>    0.715</td> <td>    0.897</td>\n",
       "</tr>\n",
       "<tr>\n",
       "  <th>Admin_Exp</th> <td>   -0.0268</td> <td>    0.051</td> <td>   -0.526</td> <td> 0.602</td> <td>   -0.130</td> <td>    0.076</td>\n",
       "</tr>\n",
       "<tr>\n",
       "  <th>Mktg_Exp</th>  <td>    0.0272</td> <td>    0.016</td> <td>    1.655</td> <td> 0.105</td> <td>   -0.006</td> <td>    0.060</td>\n",
       "</tr>\n",
       "</table>\n",
       "<table class=\"simpletable\">\n",
       "<tr>\n",
       "  <th>Omnibus:</th>       <td>14.838</td> <th>  Durbin-Watson:     </th> <td>   1.282</td>\n",
       "</tr>\n",
       "<tr>\n",
       "  <th>Prob(Omnibus):</th> <td> 0.001</td> <th>  Jarque-Bera (JB):  </th> <td>  21.442</td>\n",
       "</tr>\n",
       "<tr>\n",
       "  <th>Skew:</th>          <td>-0.949</td> <th>  Prob(JB):          </th> <td>2.21e-05</td>\n",
       "</tr>\n",
       "<tr>\n",
       "  <th>Kurtosis:</th>      <td> 5.586</td> <th>  Cond. No.          </th> <td>1.40e+06</td>\n",
       "</tr>\n",
       "</table><br/><br/>Notes:<br/>[1] Standard Errors assume that the covariance matrix of the errors is correctly specified.<br/>[2] The condition number is large, 1.4e+06. This might indicate that there are<br/>strong multicollinearity or other numerical problems."
      ],
      "text/plain": [
       "<class 'statsmodels.iolib.summary.Summary'>\n",
       "\"\"\"\n",
       "                            OLS Regression Results                            \n",
       "==============================================================================\n",
       "Dep. Variable:                 Profit   R-squared:                       0.951\n",
       "Model:                            OLS   Adj. R-squared:                  0.948\n",
       "Method:                 Least Squares   F-statistic:                     296.0\n",
       "Date:                Thu, 03 Nov 2022   Prob (F-statistic):           4.53e-30\n",
       "Time:                        23:58:26   Log-Likelihood:                -525.39\n",
       "No. Observations:                  50   AIC:                             1059.\n",
       "Df Residuals:                      46   BIC:                             1066.\n",
       "Df Model:                           3                                         \n",
       "Covariance Type:            nonrobust                                         \n",
       "==============================================================================\n",
       "                 coef    std err          t      P>|t|      [0.025      0.975]\n",
       "------------------------------------------------------------------------------\n",
       "Intercept   5.012e+04   6572.353      7.626      0.000    3.69e+04    6.34e+04\n",
       "RnD_Exp        0.8057      0.045     17.846      0.000       0.715       0.897\n",
       "Admin_Exp     -0.0268      0.051     -0.526      0.602      -0.130       0.076\n",
       "Mktg_Exp       0.0272      0.016      1.655      0.105      -0.006       0.060\n",
       "==============================================================================\n",
       "Omnibus:                       14.838   Durbin-Watson:                   1.282\n",
       "Prob(Omnibus):                  0.001   Jarque-Bera (JB):               21.442\n",
       "Skew:                          -0.949   Prob(JB):                     2.21e-05\n",
       "Kurtosis:                       5.586   Cond. No.                     1.40e+06\n",
       "==============================================================================\n",
       "\n",
       "Notes:\n",
       "[1] Standard Errors assume that the covariance matrix of the errors is correctly specified.\n",
       "[2] The condition number is large, 1.4e+06. This might indicate that there are\n",
       "strong multicollinearity or other numerical problems.\n",
       "\"\"\""
      ]
     },
     "execution_count": 25,
     "metadata": {},
     "output_type": "execute_result"
    }
   ],
   "source": [
    "model.summary()"
   ]
  },
  {
   "cell_type": "markdown",
   "id": "cef6b260",
   "metadata": {},
   "source": [
    "#### Root Mean Square Error(RMSE)"
   ]
  },
  {
   "cell_type": "code",
   "execution_count": 26,
   "id": "de3b04ce",
   "metadata": {
    "ExecuteTime": {
     "end_time": "2022-11-03T18:28:26.113391Z",
     "start_time": "2022-11-03T18:28:26.101421Z"
    }
   },
   "outputs": [
    {
     "data": {
      "text/plain": [
       "9232.334837002692"
      ]
     },
     "execution_count": 26,
     "metadata": {},
     "output_type": "execute_result"
    }
   ],
   "source": [
    "rmse = np.sqrt(model.mse_resid)\n",
    "rmse"
   ]
  },
  {
   "cell_type": "markdown",
   "id": "59acc480",
   "metadata": {
    "ExecuteTime": {
     "end_time": "2022-10-21T17:54:23.827920Z",
     "start_time": "2022-10-21T17:54:23.800990Z"
    }
   },
   "source": [
    "#### From the Summary, we can see that the R² value is good and the Root Mean Square Error value is low.\n",
    "#### As the pvalues for Administration and Marketing expenditures are greater than 0.05. They seem to be insignificant."
   ]
  },
  {
   "cell_type": "markdown",
   "id": "d054cfe2",
   "metadata": {},
   "source": [
    "### Step-5 : Treating the Outlier "
   ]
  },
  {
   "cell_type": "markdown",
   "id": "3961625f",
   "metadata": {},
   "source": [
    "#### In the boxplot, we observed that there is an outlier. The same is to be detected now."
   ]
  },
  {
   "cell_type": "markdown",
   "id": "c52e3147",
   "metadata": {},
   "source": [
    "### Step-5.1 : Detecting the outlier"
   ]
  },
  {
   "cell_type": "markdown",
   "id": "04baff62",
   "metadata": {},
   "source": [
    "#### Using Interquartile range method"
   ]
  },
  {
   "cell_type": "code",
   "execution_count": 27,
   "id": "61579ccd",
   "metadata": {
    "ExecuteTime": {
     "end_time": "2022-11-03T18:28:26.143798Z",
     "start_time": "2022-11-03T18:28:26.115384Z"
    }
   },
   "outputs": [
    {
     "name": "stdout",
     "output_type": "stream",
     "text": [
      "First Quartile= 90138.9025 \n",
      "Third Quartile= 139765.97749999998 \n",
      "Inter-Quartile Range= 49627.07499999998 \n",
      "Upper fence = 214206.58999999997 \n",
      "Lower fence= 15698.290000000023\n"
     ]
    }
   ],
   "source": [
    "Q1 = np.quantile(stup_pft.Profit,0.25)\n",
    "Q3 = np.quantile(stup_pft.Profit,0.75)\n",
    "IQR = Q3 - Q1\n",
    "upper_fence = Q3+(1.5*IQR)\n",
    "lower_fence = Q1-(1.5*IQR)\n",
    "print('First Quartile=', Q1,'\\n' 'Third Quartile=', Q3,'\\n'\n",
    "      'Inter-Quartile Range=', IQR,'\\n' 'Upper fence =', upper_fence,'\\n' 'Lower fence=', lower_fence)"
   ]
  },
  {
   "cell_type": "code",
   "execution_count": 28,
   "id": "7295e88a",
   "metadata": {
    "ExecuteTime": {
     "end_time": "2022-11-03T18:28:26.175698Z",
     "start_time": "2022-11-03T18:28:26.151763Z"
    },
    "scrolled": true
   },
   "outputs": [
    {
     "data": {
      "text/html": [
       "<div>\n",
       "<style scoped>\n",
       "    .dataframe tbody tr th:only-of-type {\n",
       "        vertical-align: middle;\n",
       "    }\n",
       "\n",
       "    .dataframe tbody tr th {\n",
       "        vertical-align: top;\n",
       "    }\n",
       "\n",
       "    .dataframe thead th {\n",
       "        text-align: right;\n",
       "    }\n",
       "</style>\n",
       "<table border=\"1\" class=\"dataframe\">\n",
       "  <thead>\n",
       "    <tr style=\"text-align: right;\">\n",
       "      <th></th>\n",
       "      <th>RnD_Exp</th>\n",
       "      <th>Admin_Exp</th>\n",
       "      <th>Mktg_Exp</th>\n",
       "      <th>State</th>\n",
       "      <th>Profit</th>\n",
       "    </tr>\n",
       "  </thead>\n",
       "  <tbody>\n",
       "    <tr>\n",
       "      <th>49</th>\n",
       "      <td>0.0</td>\n",
       "      <td>116983.8</td>\n",
       "      <td>45173.06</td>\n",
       "      <td>California</td>\n",
       "      <td>14681.4</td>\n",
       "    </tr>\n",
       "  </tbody>\n",
       "</table>\n",
       "</div>"
      ],
      "text/plain": [
       "    RnD_Exp  Admin_Exp  Mktg_Exp       State   Profit\n",
       "49      0.0   116983.8  45173.06  California  14681.4"
      ]
     },
     "execution_count": 28,
     "metadata": {},
     "output_type": "execute_result"
    }
   ],
   "source": [
    "outlier_IQR = stup_pft[(stup_pft.Profit <= lower_fence) | (stup_pft.Profit >= upper_fence)]\n",
    "outlier_IQR"
   ]
  },
  {
   "cell_type": "markdown",
   "id": "91728d64",
   "metadata": {},
   "source": [
    "#### Using Statistical outlier detection method"
   ]
  },
  {
   "cell_type": "code",
   "execution_count": 29,
   "id": "1449531d",
   "metadata": {
    "ExecuteTime": {
     "end_time": "2022-11-03T18:28:26.191656Z",
     "start_time": "2022-11-03T18:28:26.178691Z"
    }
   },
   "outputs": [
    {
     "data": {
      "text/plain": [
       "2.4393132298487346"
      ]
     },
     "execution_count": 29,
     "metadata": {},
     "output_type": "execute_result"
    }
   ],
   "source": [
    "# Calculate the z-scores and select the observation with maximum z-score\n",
    "outlier_stat = np.abs(stats.zscore(stup_pft.Profit))\n",
    "np.max(outlier_stat)"
   ]
  },
  {
   "cell_type": "code",
   "execution_count": 30,
   "id": "3182c590",
   "metadata": {
    "ExecuteTime": {
     "end_time": "2022-11-03T18:28:26.223570Z",
     "start_time": "2022-11-03T18:28:26.195649Z"
    }
   },
   "outputs": [
    {
     "data": {
      "text/html": [
       "<div>\n",
       "<style scoped>\n",
       "    .dataframe tbody tr th:only-of-type {\n",
       "        vertical-align: middle;\n",
       "    }\n",
       "\n",
       "    .dataframe tbody tr th {\n",
       "        vertical-align: top;\n",
       "    }\n",
       "\n",
       "    .dataframe thead th {\n",
       "        text-align: right;\n",
       "    }\n",
       "</style>\n",
       "<table border=\"1\" class=\"dataframe\">\n",
       "  <thead>\n",
       "    <tr style=\"text-align: right;\">\n",
       "      <th></th>\n",
       "      <th>RnD_Exp</th>\n",
       "      <th>Admin_Exp</th>\n",
       "      <th>Mktg_Exp</th>\n",
       "      <th>State</th>\n",
       "      <th>Profit</th>\n",
       "    </tr>\n",
       "  </thead>\n",
       "  <tbody>\n",
       "    <tr>\n",
       "      <th>49</th>\n",
       "      <td>0.0</td>\n",
       "      <td>116983.8</td>\n",
       "      <td>45173.06</td>\n",
       "      <td>California</td>\n",
       "      <td>14681.4</td>\n",
       "    </tr>\n",
       "  </tbody>\n",
       "</table>\n",
       "</div>"
      ],
      "text/plain": [
       "    RnD_Exp  Admin_Exp  Mktg_Exp       State   Profit\n",
       "49      0.0   116983.8  45173.06  California  14681.4"
      ]
     },
     "execution_count": 30,
     "metadata": {},
     "output_type": "execute_result"
    }
   ],
   "source": [
    "stup_pft[outlier_stat==np.max(outlier_stat)]"
   ]
  },
  {
   "cell_type": "markdown",
   "id": "79c3c6af",
   "metadata": {},
   "source": [
    "#### Hence we can see that the 50th observation in the profit column is the outlier and shall be treated."
   ]
  },
  {
   "cell_type": "markdown",
   "id": "ebb31352",
   "metadata": {},
   "source": [
    "### Step-5.2 : Treating the outlier"
   ]
  },
  {
   "cell_type": "markdown",
   "id": "95b114e8",
   "metadata": {},
   "source": [
    "#### a.) Mean Imputation method"
   ]
  },
  {
   "cell_type": "code",
   "execution_count": 31,
   "id": "6c0a6782",
   "metadata": {
    "ExecuteTime": {
     "end_time": "2022-11-03T18:28:26.301930Z",
     "start_time": "2022-11-03T18:28:26.227571Z"
    }
   },
   "outputs": [
    {
     "data": {
      "text/html": [
       "<div>\n",
       "<style scoped>\n",
       "    .dataframe tbody tr th:only-of-type {\n",
       "        vertical-align: middle;\n",
       "    }\n",
       "\n",
       "    .dataframe tbody tr th {\n",
       "        vertical-align: top;\n",
       "    }\n",
       "\n",
       "    .dataframe thead th {\n",
       "        text-align: right;\n",
       "    }\n",
       "</style>\n",
       "<table border=\"1\" class=\"dataframe\">\n",
       "  <thead>\n",
       "    <tr style=\"text-align: right;\">\n",
       "      <th></th>\n",
       "      <th>RnD_Exp</th>\n",
       "      <th>Admin_Exp</th>\n",
       "      <th>Mktg_Exp</th>\n",
       "      <th>State</th>\n",
       "      <th>Profit</th>\n",
       "    </tr>\n",
       "  </thead>\n",
       "  <tbody>\n",
       "    <tr>\n",
       "      <th>0</th>\n",
       "      <td>165349.20</td>\n",
       "      <td>136897.80</td>\n",
       "      <td>471784.10</td>\n",
       "      <td>New York</td>\n",
       "      <td>192261.8300</td>\n",
       "    </tr>\n",
       "    <tr>\n",
       "      <th>1</th>\n",
       "      <td>162597.70</td>\n",
       "      <td>151377.59</td>\n",
       "      <td>443898.53</td>\n",
       "      <td>California</td>\n",
       "      <td>191792.0600</td>\n",
       "    </tr>\n",
       "    <tr>\n",
       "      <th>2</th>\n",
       "      <td>153441.51</td>\n",
       "      <td>101145.55</td>\n",
       "      <td>407934.54</td>\n",
       "      <td>Florida</td>\n",
       "      <td>191050.3900</td>\n",
       "    </tr>\n",
       "    <tr>\n",
       "      <th>3</th>\n",
       "      <td>144372.41</td>\n",
       "      <td>118671.85</td>\n",
       "      <td>383199.62</td>\n",
       "      <td>New York</td>\n",
       "      <td>182901.9900</td>\n",
       "    </tr>\n",
       "    <tr>\n",
       "      <th>4</th>\n",
       "      <td>142107.34</td>\n",
       "      <td>91391.77</td>\n",
       "      <td>366168.42</td>\n",
       "      <td>Florida</td>\n",
       "      <td>166187.9400</td>\n",
       "    </tr>\n",
       "    <tr>\n",
       "      <th>5</th>\n",
       "      <td>131876.90</td>\n",
       "      <td>99814.71</td>\n",
       "      <td>362861.36</td>\n",
       "      <td>New York</td>\n",
       "      <td>156991.1200</td>\n",
       "    </tr>\n",
       "    <tr>\n",
       "      <th>6</th>\n",
       "      <td>134615.46</td>\n",
       "      <td>147198.87</td>\n",
       "      <td>127716.82</td>\n",
       "      <td>California</td>\n",
       "      <td>156122.5100</td>\n",
       "    </tr>\n",
       "    <tr>\n",
       "      <th>7</th>\n",
       "      <td>130298.13</td>\n",
       "      <td>145530.06</td>\n",
       "      <td>323876.68</td>\n",
       "      <td>Florida</td>\n",
       "      <td>155752.6000</td>\n",
       "    </tr>\n",
       "    <tr>\n",
       "      <th>8</th>\n",
       "      <td>120542.52</td>\n",
       "      <td>148718.95</td>\n",
       "      <td>311613.29</td>\n",
       "      <td>New York</td>\n",
       "      <td>152211.7700</td>\n",
       "    </tr>\n",
       "    <tr>\n",
       "      <th>9</th>\n",
       "      <td>123334.88</td>\n",
       "      <td>108679.17</td>\n",
       "      <td>304981.62</td>\n",
       "      <td>California</td>\n",
       "      <td>149759.9600</td>\n",
       "    </tr>\n",
       "    <tr>\n",
       "      <th>10</th>\n",
       "      <td>101913.08</td>\n",
       "      <td>110594.11</td>\n",
       "      <td>229160.95</td>\n",
       "      <td>Florida</td>\n",
       "      <td>146121.9500</td>\n",
       "    </tr>\n",
       "    <tr>\n",
       "      <th>11</th>\n",
       "      <td>100671.96</td>\n",
       "      <td>91790.61</td>\n",
       "      <td>249744.55</td>\n",
       "      <td>California</td>\n",
       "      <td>144259.4000</td>\n",
       "    </tr>\n",
       "    <tr>\n",
       "      <th>12</th>\n",
       "      <td>93863.75</td>\n",
       "      <td>127320.38</td>\n",
       "      <td>249839.44</td>\n",
       "      <td>Florida</td>\n",
       "      <td>141585.5200</td>\n",
       "    </tr>\n",
       "    <tr>\n",
       "      <th>13</th>\n",
       "      <td>91992.39</td>\n",
       "      <td>135495.07</td>\n",
       "      <td>252664.93</td>\n",
       "      <td>California</td>\n",
       "      <td>134307.3500</td>\n",
       "    </tr>\n",
       "    <tr>\n",
       "      <th>14</th>\n",
       "      <td>119943.24</td>\n",
       "      <td>156547.42</td>\n",
       "      <td>256512.92</td>\n",
       "      <td>Florida</td>\n",
       "      <td>132602.6500</td>\n",
       "    </tr>\n",
       "    <tr>\n",
       "      <th>15</th>\n",
       "      <td>114523.61</td>\n",
       "      <td>122616.84</td>\n",
       "      <td>261776.23</td>\n",
       "      <td>New York</td>\n",
       "      <td>129917.0400</td>\n",
       "    </tr>\n",
       "    <tr>\n",
       "      <th>16</th>\n",
       "      <td>78013.11</td>\n",
       "      <td>121597.55</td>\n",
       "      <td>264346.06</td>\n",
       "      <td>California</td>\n",
       "      <td>126992.9300</td>\n",
       "    </tr>\n",
       "    <tr>\n",
       "      <th>17</th>\n",
       "      <td>94657.16</td>\n",
       "      <td>145077.58</td>\n",
       "      <td>282574.31</td>\n",
       "      <td>New York</td>\n",
       "      <td>125370.3700</td>\n",
       "    </tr>\n",
       "    <tr>\n",
       "      <th>18</th>\n",
       "      <td>91749.16</td>\n",
       "      <td>114175.79</td>\n",
       "      <td>294919.57</td>\n",
       "      <td>Florida</td>\n",
       "      <td>124266.9000</td>\n",
       "    </tr>\n",
       "    <tr>\n",
       "      <th>19</th>\n",
       "      <td>86419.70</td>\n",
       "      <td>153514.11</td>\n",
       "      <td>0.00</td>\n",
       "      <td>New York</td>\n",
       "      <td>122776.8600</td>\n",
       "    </tr>\n",
       "    <tr>\n",
       "      <th>20</th>\n",
       "      <td>76253.86</td>\n",
       "      <td>113867.30</td>\n",
       "      <td>298664.47</td>\n",
       "      <td>California</td>\n",
       "      <td>118474.0300</td>\n",
       "    </tr>\n",
       "    <tr>\n",
       "      <th>21</th>\n",
       "      <td>78389.47</td>\n",
       "      <td>153773.43</td>\n",
       "      <td>299737.29</td>\n",
       "      <td>New York</td>\n",
       "      <td>111313.0200</td>\n",
       "    </tr>\n",
       "    <tr>\n",
       "      <th>22</th>\n",
       "      <td>73994.56</td>\n",
       "      <td>122782.75</td>\n",
       "      <td>303319.26</td>\n",
       "      <td>Florida</td>\n",
       "      <td>110352.2500</td>\n",
       "    </tr>\n",
       "    <tr>\n",
       "      <th>23</th>\n",
       "      <td>67532.53</td>\n",
       "      <td>105751.03</td>\n",
       "      <td>304768.73</td>\n",
       "      <td>Florida</td>\n",
       "      <td>108733.9900</td>\n",
       "    </tr>\n",
       "    <tr>\n",
       "      <th>24</th>\n",
       "      <td>77044.01</td>\n",
       "      <td>99281.34</td>\n",
       "      <td>140574.81</td>\n",
       "      <td>New York</td>\n",
       "      <td>108552.0400</td>\n",
       "    </tr>\n",
       "    <tr>\n",
       "      <th>25</th>\n",
       "      <td>64664.71</td>\n",
       "      <td>139553.16</td>\n",
       "      <td>137962.62</td>\n",
       "      <td>California</td>\n",
       "      <td>107404.3400</td>\n",
       "    </tr>\n",
       "    <tr>\n",
       "      <th>26</th>\n",
       "      <td>75328.87</td>\n",
       "      <td>144135.98</td>\n",
       "      <td>134050.07</td>\n",
       "      <td>Florida</td>\n",
       "      <td>105733.5400</td>\n",
       "    </tr>\n",
       "    <tr>\n",
       "      <th>27</th>\n",
       "      <td>72107.60</td>\n",
       "      <td>127864.55</td>\n",
       "      <td>353183.81</td>\n",
       "      <td>New York</td>\n",
       "      <td>105008.3100</td>\n",
       "    </tr>\n",
       "    <tr>\n",
       "      <th>28</th>\n",
       "      <td>66051.52</td>\n",
       "      <td>182645.56</td>\n",
       "      <td>118148.20</td>\n",
       "      <td>Florida</td>\n",
       "      <td>103282.3800</td>\n",
       "    </tr>\n",
       "    <tr>\n",
       "      <th>29</th>\n",
       "      <td>65605.48</td>\n",
       "      <td>153032.06</td>\n",
       "      <td>107138.38</td>\n",
       "      <td>New York</td>\n",
       "      <td>101004.6400</td>\n",
       "    </tr>\n",
       "    <tr>\n",
       "      <th>30</th>\n",
       "      <td>61994.48</td>\n",
       "      <td>115641.28</td>\n",
       "      <td>91131.24</td>\n",
       "      <td>Florida</td>\n",
       "      <td>99937.5900</td>\n",
       "    </tr>\n",
       "    <tr>\n",
       "      <th>31</th>\n",
       "      <td>61136.38</td>\n",
       "      <td>152701.92</td>\n",
       "      <td>88218.23</td>\n",
       "      <td>New York</td>\n",
       "      <td>97483.5600</td>\n",
       "    </tr>\n",
       "    <tr>\n",
       "      <th>32</th>\n",
       "      <td>63408.86</td>\n",
       "      <td>129219.61</td>\n",
       "      <td>46085.25</td>\n",
       "      <td>California</td>\n",
       "      <td>97427.8400</td>\n",
       "    </tr>\n",
       "    <tr>\n",
       "      <th>33</th>\n",
       "      <td>55493.95</td>\n",
       "      <td>103057.49</td>\n",
       "      <td>214634.81</td>\n",
       "      <td>Florida</td>\n",
       "      <td>96778.9200</td>\n",
       "    </tr>\n",
       "    <tr>\n",
       "      <th>34</th>\n",
       "      <td>46426.07</td>\n",
       "      <td>157693.92</td>\n",
       "      <td>210797.67</td>\n",
       "      <td>California</td>\n",
       "      <td>96712.8000</td>\n",
       "    </tr>\n",
       "    <tr>\n",
       "      <th>35</th>\n",
       "      <td>46014.02</td>\n",
       "      <td>85047.44</td>\n",
       "      <td>205517.64</td>\n",
       "      <td>New York</td>\n",
       "      <td>96479.5100</td>\n",
       "    </tr>\n",
       "    <tr>\n",
       "      <th>36</th>\n",
       "      <td>28663.76</td>\n",
       "      <td>127056.21</td>\n",
       "      <td>201126.82</td>\n",
       "      <td>Florida</td>\n",
       "      <td>90708.1900</td>\n",
       "    </tr>\n",
       "    <tr>\n",
       "      <th>37</th>\n",
       "      <td>44069.95</td>\n",
       "      <td>51283.14</td>\n",
       "      <td>197029.42</td>\n",
       "      <td>California</td>\n",
       "      <td>89949.1400</td>\n",
       "    </tr>\n",
       "    <tr>\n",
       "      <th>38</th>\n",
       "      <td>20229.59</td>\n",
       "      <td>65947.93</td>\n",
       "      <td>185265.10</td>\n",
       "      <td>New York</td>\n",
       "      <td>81229.0600</td>\n",
       "    </tr>\n",
       "    <tr>\n",
       "      <th>39</th>\n",
       "      <td>38558.51</td>\n",
       "      <td>82982.09</td>\n",
       "      <td>174999.30</td>\n",
       "      <td>California</td>\n",
       "      <td>81005.7600</td>\n",
       "    </tr>\n",
       "    <tr>\n",
       "      <th>40</th>\n",
       "      <td>28754.33</td>\n",
       "      <td>118546.05</td>\n",
       "      <td>172795.67</td>\n",
       "      <td>California</td>\n",
       "      <td>78239.9100</td>\n",
       "    </tr>\n",
       "    <tr>\n",
       "      <th>41</th>\n",
       "      <td>27892.92</td>\n",
       "      <td>84710.77</td>\n",
       "      <td>164470.71</td>\n",
       "      <td>Florida</td>\n",
       "      <td>77798.8300</td>\n",
       "    </tr>\n",
       "    <tr>\n",
       "      <th>42</th>\n",
       "      <td>23640.93</td>\n",
       "      <td>96189.63</td>\n",
       "      <td>148001.11</td>\n",
       "      <td>California</td>\n",
       "      <td>71498.4900</td>\n",
       "    </tr>\n",
       "    <tr>\n",
       "      <th>43</th>\n",
       "      <td>15505.73</td>\n",
       "      <td>127382.30</td>\n",
       "      <td>35534.17</td>\n",
       "      <td>New York</td>\n",
       "      <td>69758.9800</td>\n",
       "    </tr>\n",
       "    <tr>\n",
       "      <th>44</th>\n",
       "      <td>22177.74</td>\n",
       "      <td>154806.14</td>\n",
       "      <td>28334.72</td>\n",
       "      <td>California</td>\n",
       "      <td>65200.3300</td>\n",
       "    </tr>\n",
       "    <tr>\n",
       "      <th>45</th>\n",
       "      <td>1000.23</td>\n",
       "      <td>124153.04</td>\n",
       "      <td>1903.93</td>\n",
       "      <td>New York</td>\n",
       "      <td>64926.0800</td>\n",
       "    </tr>\n",
       "    <tr>\n",
       "      <th>46</th>\n",
       "      <td>1315.46</td>\n",
       "      <td>115816.21</td>\n",
       "      <td>297114.46</td>\n",
       "      <td>Florida</td>\n",
       "      <td>49490.7500</td>\n",
       "    </tr>\n",
       "    <tr>\n",
       "      <th>47</th>\n",
       "      <td>0.00</td>\n",
       "      <td>135426.92</td>\n",
       "      <td>0.00</td>\n",
       "      <td>California</td>\n",
       "      <td>42559.7300</td>\n",
       "    </tr>\n",
       "    <tr>\n",
       "      <th>48</th>\n",
       "      <td>542.05</td>\n",
       "      <td>51743.15</td>\n",
       "      <td>0.00</td>\n",
       "      <td>New York</td>\n",
       "      <td>35673.4100</td>\n",
       "    </tr>\n",
       "    <tr>\n",
       "      <th>49</th>\n",
       "      <td>0.00</td>\n",
       "      <td>116983.80</td>\n",
       "      <td>45173.06</td>\n",
       "      <td>California</td>\n",
       "      <td>112012.6392</td>\n",
       "    </tr>\n",
       "  </tbody>\n",
       "</table>\n",
       "</div>"
      ],
      "text/plain": [
       "      RnD_Exp  Admin_Exp   Mktg_Exp       State       Profit\n",
       "0   165349.20  136897.80  471784.10    New York  192261.8300\n",
       "1   162597.70  151377.59  443898.53  California  191792.0600\n",
       "2   153441.51  101145.55  407934.54     Florida  191050.3900\n",
       "3   144372.41  118671.85  383199.62    New York  182901.9900\n",
       "4   142107.34   91391.77  366168.42     Florida  166187.9400\n",
       "5   131876.90   99814.71  362861.36    New York  156991.1200\n",
       "6   134615.46  147198.87  127716.82  California  156122.5100\n",
       "7   130298.13  145530.06  323876.68     Florida  155752.6000\n",
       "8   120542.52  148718.95  311613.29    New York  152211.7700\n",
       "9   123334.88  108679.17  304981.62  California  149759.9600\n",
       "10  101913.08  110594.11  229160.95     Florida  146121.9500\n",
       "11  100671.96   91790.61  249744.55  California  144259.4000\n",
       "12   93863.75  127320.38  249839.44     Florida  141585.5200\n",
       "13   91992.39  135495.07  252664.93  California  134307.3500\n",
       "14  119943.24  156547.42  256512.92     Florida  132602.6500\n",
       "15  114523.61  122616.84  261776.23    New York  129917.0400\n",
       "16   78013.11  121597.55  264346.06  California  126992.9300\n",
       "17   94657.16  145077.58  282574.31    New York  125370.3700\n",
       "18   91749.16  114175.79  294919.57     Florida  124266.9000\n",
       "19   86419.70  153514.11       0.00    New York  122776.8600\n",
       "20   76253.86  113867.30  298664.47  California  118474.0300\n",
       "21   78389.47  153773.43  299737.29    New York  111313.0200\n",
       "22   73994.56  122782.75  303319.26     Florida  110352.2500\n",
       "23   67532.53  105751.03  304768.73     Florida  108733.9900\n",
       "24   77044.01   99281.34  140574.81    New York  108552.0400\n",
       "25   64664.71  139553.16  137962.62  California  107404.3400\n",
       "26   75328.87  144135.98  134050.07     Florida  105733.5400\n",
       "27   72107.60  127864.55  353183.81    New York  105008.3100\n",
       "28   66051.52  182645.56  118148.20     Florida  103282.3800\n",
       "29   65605.48  153032.06  107138.38    New York  101004.6400\n",
       "30   61994.48  115641.28   91131.24     Florida   99937.5900\n",
       "31   61136.38  152701.92   88218.23    New York   97483.5600\n",
       "32   63408.86  129219.61   46085.25  California   97427.8400\n",
       "33   55493.95  103057.49  214634.81     Florida   96778.9200\n",
       "34   46426.07  157693.92  210797.67  California   96712.8000\n",
       "35   46014.02   85047.44  205517.64    New York   96479.5100\n",
       "36   28663.76  127056.21  201126.82     Florida   90708.1900\n",
       "37   44069.95   51283.14  197029.42  California   89949.1400\n",
       "38   20229.59   65947.93  185265.10    New York   81229.0600\n",
       "39   38558.51   82982.09  174999.30  California   81005.7600\n",
       "40   28754.33  118546.05  172795.67  California   78239.9100\n",
       "41   27892.92   84710.77  164470.71     Florida   77798.8300\n",
       "42   23640.93   96189.63  148001.11  California   71498.4900\n",
       "43   15505.73  127382.30   35534.17    New York   69758.9800\n",
       "44   22177.74  154806.14   28334.72  California   65200.3300\n",
       "45    1000.23  124153.04    1903.93    New York   64926.0800\n",
       "46    1315.46  115816.21  297114.46     Florida   49490.7500\n",
       "47       0.00  135426.92       0.00  California   42559.7300\n",
       "48     542.05   51743.15       0.00    New York   35673.4100\n",
       "49       0.00  116983.80   45173.06  California  112012.6392"
      ]
     },
     "execution_count": 31,
     "metadata": {},
     "output_type": "execute_result"
    }
   ],
   "source": [
    "# Replace the outlier value with the mean of the column\n",
    "stup_pft1 = stup_pft.copy()\n",
    "for i in stup_pft1['Profit']:\n",
    "    Q1 = np.quantile(stup_pft1.Profit,0.25)\n",
    "    Q3 = np.quantile(stup_pft1.Profit,0.75)\n",
    "    IQR = Q3 - Q1\n",
    "    upper_fence = Q3+(1.5*IQR)\n",
    "    lower_fence = Q1-(1.5*IQR)\n",
    "    if i > upper_fence or i < lower_fence:\n",
    "        stup_pft1['Profit']=stup_pft1['Profit'].replace(i,np.mean(stup_pft1['Profit']))\n",
    "stup_pft1"
   ]
  },
  {
   "cell_type": "code",
   "execution_count": 32,
   "id": "e358cc62",
   "metadata": {
    "ExecuteTime": {
     "end_time": "2022-11-03T18:28:26.442739Z",
     "start_time": "2022-11-03T18:28:26.303925Z"
    }
   },
   "outputs": [
    {
     "data": {
      "image/png": "[encoded data removed]",
      "text/plain": [
       "<Figure size 432x288 with 1 Axes>"
      ]
     },
     "metadata": {},
     "output_type": "display_data"
    }
   ],
   "source": [
    "# Check for Outlier\n",
    "plt.boxplot(stup_pft1['Profit'])\n",
    "plt.show()"
   ]
  },
  {
   "cell_type": "markdown",
   "id": "d6c313a4",
   "metadata": {
    "ExecuteTime": {
     "end_time": "2022-10-25T11:31:29.409475Z",
     "start_time": "2022-10-25T11:31:29.346991Z"
    }
   },
   "source": [
    "#### b.) Median Imputation method"
   ]
  },
  {
   "cell_type": "code",
   "execution_count": 33,
   "id": "60f8949a",
   "metadata": {
    "ExecuteTime": {
     "end_time": "2022-11-03T18:28:26.504534Z",
     "start_time": "2022-11-03T18:28:26.445690Z"
    }
   },
   "outputs": [
    {
     "data": {
      "text/html": [
       "<div>\n",
       "<style scoped>\n",
       "    .dataframe tbody tr th:only-of-type {\n",
       "        vertical-align: middle;\n",
       "    }\n",
       "\n",
       "    .dataframe tbody tr th {\n",
       "        vertical-align: top;\n",
       "    }\n",
       "\n",
       "    .dataframe thead th {\n",
       "        text-align: right;\n",
       "    }\n",
       "</style>\n",
       "<table border=\"1\" class=\"dataframe\">\n",
       "  <thead>\n",
       "    <tr style=\"text-align: right;\">\n",
       "      <th></th>\n",
       "      <th>RnD_Exp</th>\n",
       "      <th>Admin_Exp</th>\n",
       "      <th>Mktg_Exp</th>\n",
       "      <th>State</th>\n",
       "      <th>Profit</th>\n",
       "    </tr>\n",
       "  </thead>\n",
       "  <tbody>\n",
       "    <tr>\n",
       "      <th>0</th>\n",
       "      <td>165349.20</td>\n",
       "      <td>136897.80</td>\n",
       "      <td>471784.10</td>\n",
       "      <td>New York</td>\n",
       "      <td>192261.83</td>\n",
       "    </tr>\n",
       "    <tr>\n",
       "      <th>1</th>\n",
       "      <td>162597.70</td>\n",
       "      <td>151377.59</td>\n",
       "      <td>443898.53</td>\n",
       "      <td>California</td>\n",
       "      <td>191792.06</td>\n",
       "    </tr>\n",
       "    <tr>\n",
       "      <th>2</th>\n",
       "      <td>153441.51</td>\n",
       "      <td>101145.55</td>\n",
       "      <td>407934.54</td>\n",
       "      <td>Florida</td>\n",
       "      <td>191050.39</td>\n",
       "    </tr>\n",
       "    <tr>\n",
       "      <th>3</th>\n",
       "      <td>144372.41</td>\n",
       "      <td>118671.85</td>\n",
       "      <td>383199.62</td>\n",
       "      <td>New York</td>\n",
       "      <td>182901.99</td>\n",
       "    </tr>\n",
       "    <tr>\n",
       "      <th>4</th>\n",
       "      <td>142107.34</td>\n",
       "      <td>91391.77</td>\n",
       "      <td>366168.42</td>\n",
       "      <td>Florida</td>\n",
       "      <td>166187.94</td>\n",
       "    </tr>\n",
       "    <tr>\n",
       "      <th>5</th>\n",
       "      <td>131876.90</td>\n",
       "      <td>99814.71</td>\n",
       "      <td>362861.36</td>\n",
       "      <td>New York</td>\n",
       "      <td>156991.12</td>\n",
       "    </tr>\n",
       "    <tr>\n",
       "      <th>6</th>\n",
       "      <td>134615.46</td>\n",
       "      <td>147198.87</td>\n",
       "      <td>127716.82</td>\n",
       "      <td>California</td>\n",
       "      <td>156122.51</td>\n",
       "    </tr>\n",
       "    <tr>\n",
       "      <th>7</th>\n",
       "      <td>130298.13</td>\n",
       "      <td>145530.06</td>\n",
       "      <td>323876.68</td>\n",
       "      <td>Florida</td>\n",
       "      <td>155752.60</td>\n",
       "    </tr>\n",
       "    <tr>\n",
       "      <th>8</th>\n",
       "      <td>120542.52</td>\n",
       "      <td>148718.95</td>\n",
       "      <td>311613.29</td>\n",
       "      <td>New York</td>\n",
       "      <td>152211.77</td>\n",
       "    </tr>\n",
       "    <tr>\n",
       "      <th>9</th>\n",
       "      <td>123334.88</td>\n",
       "      <td>108679.17</td>\n",
       "      <td>304981.62</td>\n",
       "      <td>California</td>\n",
       "      <td>149759.96</td>\n",
       "    </tr>\n",
       "    <tr>\n",
       "      <th>10</th>\n",
       "      <td>101913.08</td>\n",
       "      <td>110594.11</td>\n",
       "      <td>229160.95</td>\n",
       "      <td>Florida</td>\n",
       "      <td>146121.95</td>\n",
       "    </tr>\n",
       "    <tr>\n",
       "      <th>11</th>\n",
       "      <td>100671.96</td>\n",
       "      <td>91790.61</td>\n",
       "      <td>249744.55</td>\n",
       "      <td>California</td>\n",
       "      <td>144259.40</td>\n",
       "    </tr>\n",
       "    <tr>\n",
       "      <th>12</th>\n",
       "      <td>93863.75</td>\n",
       "      <td>127320.38</td>\n",
       "      <td>249839.44</td>\n",
       "      <td>Florida</td>\n",
       "      <td>141585.52</td>\n",
       "    </tr>\n",
       "    <tr>\n",
       "      <th>13</th>\n",
       "      <td>91992.39</td>\n",
       "      <td>135495.07</td>\n",
       "      <td>252664.93</td>\n",
       "      <td>California</td>\n",
       "      <td>134307.35</td>\n",
       "    </tr>\n",
       "    <tr>\n",
       "      <th>14</th>\n",
       "      <td>119943.24</td>\n",
       "      <td>156547.42</td>\n",
       "      <td>256512.92</td>\n",
       "      <td>Florida</td>\n",
       "      <td>132602.65</td>\n",
       "    </tr>\n",
       "    <tr>\n",
       "      <th>15</th>\n",
       "      <td>114523.61</td>\n",
       "      <td>122616.84</td>\n",
       "      <td>261776.23</td>\n",
       "      <td>New York</td>\n",
       "      <td>129917.04</td>\n",
       "    </tr>\n",
       "    <tr>\n",
       "      <th>16</th>\n",
       "      <td>78013.11</td>\n",
       "      <td>121597.55</td>\n",
       "      <td>264346.06</td>\n",
       "      <td>California</td>\n",
       "      <td>126992.93</td>\n",
       "    </tr>\n",
       "    <tr>\n",
       "      <th>17</th>\n",
       "      <td>94657.16</td>\n",
       "      <td>145077.58</td>\n",
       "      <td>282574.31</td>\n",
       "      <td>New York</td>\n",
       "      <td>125370.37</td>\n",
       "    </tr>\n",
       "    <tr>\n",
       "      <th>18</th>\n",
       "      <td>91749.16</td>\n",
       "      <td>114175.79</td>\n",
       "      <td>294919.57</td>\n",
       "      <td>Florida</td>\n",
       "      <td>124266.90</td>\n",
       "    </tr>\n",
       "    <tr>\n",
       "      <th>19</th>\n",
       "      <td>86419.70</td>\n",
       "      <td>153514.11</td>\n",
       "      <td>0.00</td>\n",
       "      <td>New York</td>\n",
       "      <td>122776.86</td>\n",
       "    </tr>\n",
       "    <tr>\n",
       "      <th>20</th>\n",
       "      <td>76253.86</td>\n",
       "      <td>113867.30</td>\n",
       "      <td>298664.47</td>\n",
       "      <td>California</td>\n",
       "      <td>118474.03</td>\n",
       "    </tr>\n",
       "    <tr>\n",
       "      <th>21</th>\n",
       "      <td>78389.47</td>\n",
       "      <td>153773.43</td>\n",
       "      <td>299737.29</td>\n",
       "      <td>New York</td>\n",
       "      <td>111313.02</td>\n",
       "    </tr>\n",
       "    <tr>\n",
       "      <th>22</th>\n",
       "      <td>73994.56</td>\n",
       "      <td>122782.75</td>\n",
       "      <td>303319.26</td>\n",
       "      <td>Florida</td>\n",
       "      <td>110352.25</td>\n",
       "    </tr>\n",
       "    <tr>\n",
       "      <th>23</th>\n",
       "      <td>67532.53</td>\n",
       "      <td>105751.03</td>\n",
       "      <td>304768.73</td>\n",
       "      <td>Florida</td>\n",
       "      <td>108733.99</td>\n",
       "    </tr>\n",
       "    <tr>\n",
       "      <th>24</th>\n",
       "      <td>77044.01</td>\n",
       "      <td>99281.34</td>\n",
       "      <td>140574.81</td>\n",
       "      <td>New York</td>\n",
       "      <td>108552.04</td>\n",
       "    </tr>\n",
       "    <tr>\n",
       "      <th>25</th>\n",
       "      <td>64664.71</td>\n",
       "      <td>139553.16</td>\n",
       "      <td>137962.62</td>\n",
       "      <td>California</td>\n",
       "      <td>107404.34</td>\n",
       "    </tr>\n",
       "    <tr>\n",
       "      <th>26</th>\n",
       "      <td>75328.87</td>\n",
       "      <td>144135.98</td>\n",
       "      <td>134050.07</td>\n",
       "      <td>Florida</td>\n",
       "      <td>105733.54</td>\n",
       "    </tr>\n",
       "    <tr>\n",
       "      <th>27</th>\n",
       "      <td>72107.60</td>\n",
       "      <td>127864.55</td>\n",
       "      <td>353183.81</td>\n",
       "      <td>New York</td>\n",
       "      <td>105008.31</td>\n",
       "    </tr>\n",
       "    <tr>\n",
       "      <th>28</th>\n",
       "      <td>66051.52</td>\n",
       "      <td>182645.56</td>\n",
       "      <td>118148.20</td>\n",
       "      <td>Florida</td>\n",
       "      <td>103282.38</td>\n",
       "    </tr>\n",
       "    <tr>\n",
       "      <th>29</th>\n",
       "      <td>65605.48</td>\n",
       "      <td>153032.06</td>\n",
       "      <td>107138.38</td>\n",
       "      <td>New York</td>\n",
       "      <td>101004.64</td>\n",
       "    </tr>\n",
       "    <tr>\n",
       "      <th>30</th>\n",
       "      <td>61994.48</td>\n",
       "      <td>115641.28</td>\n",
       "      <td>91131.24</td>\n",
       "      <td>Florida</td>\n",
       "      <td>99937.59</td>\n",
       "    </tr>\n",
       "    <tr>\n",
       "      <th>31</th>\n",
       "      <td>61136.38</td>\n",
       "      <td>152701.92</td>\n",
       "      <td>88218.23</td>\n",
       "      <td>New York</td>\n",
       "      <td>97483.56</td>\n",
       "    </tr>\n",
       "    <tr>\n",
       "      <th>32</th>\n",
       "      <td>63408.86</td>\n",
       "      <td>129219.61</td>\n",
       "      <td>46085.25</td>\n",
       "      <td>California</td>\n",
       "      <td>97427.84</td>\n",
       "    </tr>\n",
       "    <tr>\n",
       "      <th>33</th>\n",
       "      <td>55493.95</td>\n",
       "      <td>103057.49</td>\n",
       "      <td>214634.81</td>\n",
       "      <td>Florida</td>\n",
       "      <td>96778.92</td>\n",
       "    </tr>\n",
       "    <tr>\n",
       "      <th>34</th>\n",
       "      <td>46426.07</td>\n",
       "      <td>157693.92</td>\n",
       "      <td>210797.67</td>\n",
       "      <td>California</td>\n",
       "      <td>96712.80</td>\n",
       "    </tr>\n",
       "    <tr>\n",
       "      <th>35</th>\n",
       "      <td>46014.02</td>\n",
       "      <td>85047.44</td>\n",
       "      <td>205517.64</td>\n",
       "      <td>New York</td>\n",
       "      <td>96479.51</td>\n",
       "    </tr>\n",
       "    <tr>\n",
       "      <th>36</th>\n",
       "      <td>28663.76</td>\n",
       "      <td>127056.21</td>\n",
       "      <td>201126.82</td>\n",
       "      <td>Florida</td>\n",
       "      <td>90708.19</td>\n",
       "    </tr>\n",
       "    <tr>\n",
       "      <th>37</th>\n",
       "      <td>44069.95</td>\n",
       "      <td>51283.14</td>\n",
       "      <td>197029.42</td>\n",
       "      <td>California</td>\n",
       "      <td>89949.14</td>\n",
       "    </tr>\n",
       "    <tr>\n",
       "      <th>38</th>\n",
       "      <td>20229.59</td>\n",
       "      <td>65947.93</td>\n",
       "      <td>185265.10</td>\n",
       "      <td>New York</td>\n",
       "      <td>81229.06</td>\n",
       "    </tr>\n",
       "    <tr>\n",
       "      <th>39</th>\n",
       "      <td>38558.51</td>\n",
       "      <td>82982.09</td>\n",
       "      <td>174999.30</td>\n",
       "      <td>California</td>\n",
       "      <td>81005.76</td>\n",
       "    </tr>\n",
       "    <tr>\n",
       "      <th>40</th>\n",
       "      <td>28754.33</td>\n",
       "      <td>118546.05</td>\n",
       "      <td>172795.67</td>\n",
       "      <td>California</td>\n",
       "      <td>78239.91</td>\n",
       "    </tr>\n",
       "    <tr>\n",
       "      <th>41</th>\n",
       "      <td>27892.92</td>\n",
       "      <td>84710.77</td>\n",
       "      <td>164470.71</td>\n",
       "      <td>Florida</td>\n",
       "      <td>77798.83</td>\n",
       "    </tr>\n",
       "    <tr>\n",
       "      <th>42</th>\n",
       "      <td>23640.93</td>\n",
       "      <td>96189.63</td>\n",
       "      <td>148001.11</td>\n",
       "      <td>California</td>\n",
       "      <td>71498.49</td>\n",
       "    </tr>\n",
       "    <tr>\n",
       "      <th>43</th>\n",
       "      <td>15505.73</td>\n",
       "      <td>127382.30</td>\n",
       "      <td>35534.17</td>\n",
       "      <td>New York</td>\n",
       "      <td>69758.98</td>\n",
       "    </tr>\n",
       "    <tr>\n",
       "      <th>44</th>\n",
       "      <td>22177.74</td>\n",
       "      <td>154806.14</td>\n",
       "      <td>28334.72</td>\n",
       "      <td>California</td>\n",
       "      <td>65200.33</td>\n",
       "    </tr>\n",
       "    <tr>\n",
       "      <th>45</th>\n",
       "      <td>1000.23</td>\n",
       "      <td>124153.04</td>\n",
       "      <td>1903.93</td>\n",
       "      <td>New York</td>\n",
       "      <td>64926.08</td>\n",
       "    </tr>\n",
       "    <tr>\n",
       "      <th>46</th>\n",
       "      <td>1315.46</td>\n",
       "      <td>115816.21</td>\n",
       "      <td>297114.46</td>\n",
       "      <td>Florida</td>\n",
       "      <td>49490.75</td>\n",
       "    </tr>\n",
       "    <tr>\n",
       "      <th>47</th>\n",
       "      <td>0.00</td>\n",
       "      <td>135426.92</td>\n",
       "      <td>0.00</td>\n",
       "      <td>California</td>\n",
       "      <td>42559.73</td>\n",
       "    </tr>\n",
       "    <tr>\n",
       "      <th>48</th>\n",
       "      <td>542.05</td>\n",
       "      <td>51743.15</td>\n",
       "      <td>0.00</td>\n",
       "      <td>New York</td>\n",
       "      <td>35673.41</td>\n",
       "    </tr>\n",
       "    <tr>\n",
       "      <th>49</th>\n",
       "      <td>0.00</td>\n",
       "      <td>116983.80</td>\n",
       "      <td>45173.06</td>\n",
       "      <td>California</td>\n",
       "      <td>107978.19</td>\n",
       "    </tr>\n",
       "  </tbody>\n",
       "</table>\n",
       "</div>"
      ],
      "text/plain": [
       "      RnD_Exp  Admin_Exp   Mktg_Exp       State     Profit\n",
       "0   165349.20  136897.80  471784.10    New York  192261.83\n",
       "1   162597.70  151377.59  443898.53  California  191792.06\n",
       "2   153441.51  101145.55  407934.54     Florida  191050.39\n",
       "3   144372.41  118671.85  383199.62    New York  182901.99\n",
       "4   142107.34   91391.77  366168.42     Florida  166187.94\n",
       "5   131876.90   99814.71  362861.36    New York  156991.12\n",
       "6   134615.46  147198.87  127716.82  California  156122.51\n",
       "7   130298.13  145530.06  323876.68     Florida  155752.60\n",
       "8   120542.52  148718.95  311613.29    New York  152211.77\n",
       "9   123334.88  108679.17  304981.62  California  149759.96\n",
       "10  101913.08  110594.11  229160.95     Florida  146121.95\n",
       "11  100671.96   91790.61  249744.55  California  144259.40\n",
       "12   93863.75  127320.38  249839.44     Florida  141585.52\n",
       "13   91992.39  135495.07  252664.93  California  134307.35\n",
       "14  119943.24  156547.42  256512.92     Florida  132602.65\n",
       "15  114523.61  122616.84  261776.23    New York  129917.04\n",
       "16   78013.11  121597.55  264346.06  California  126992.93\n",
       "17   94657.16  145077.58  282574.31    New York  125370.37\n",
       "18   91749.16  114175.79  294919.57     Florida  124266.90\n",
       "19   86419.70  153514.11       0.00    New York  122776.86\n",
       "20   76253.86  113867.30  298664.47  California  118474.03\n",
       "21   78389.47  153773.43  299737.29    New York  111313.02\n",
       "22   73994.56  122782.75  303319.26     Florida  110352.25\n",
       "23   67532.53  105751.03  304768.73     Florida  108733.99\n",
       "24   77044.01   99281.34  140574.81    New York  108552.04\n",
       "25   64664.71  139553.16  137962.62  California  107404.34\n",
       "26   75328.87  144135.98  134050.07     Florida  105733.54\n",
       "27   72107.60  127864.55  353183.81    New York  105008.31\n",
       "28   66051.52  182645.56  118148.20     Florida  103282.38\n",
       "29   65605.48  153032.06  107138.38    New York  101004.64\n",
       "30   61994.48  115641.28   91131.24     Florida   99937.59\n",
       "31   61136.38  152701.92   88218.23    New York   97483.56\n",
       "32   63408.86  129219.61   46085.25  California   97427.84\n",
       "33   55493.95  103057.49  214634.81     Florida   96778.92\n",
       "34   46426.07  157693.92  210797.67  California   96712.80\n",
       "35   46014.02   85047.44  205517.64    New York   96479.51\n",
       "36   28663.76  127056.21  201126.82     Florida   90708.19\n",
       "37   44069.95   51283.14  197029.42  California   89949.14\n",
       "38   20229.59   65947.93  185265.10    New York   81229.06\n",
       "39   38558.51   82982.09  174999.30  California   81005.76\n",
       "40   28754.33  118546.05  172795.67  California   78239.91\n",
       "41   27892.92   84710.77  164470.71     Florida   77798.83\n",
       "42   23640.93   96189.63  148001.11  California   71498.49\n",
       "43   15505.73  127382.30   35534.17    New York   69758.98\n",
       "44   22177.74  154806.14   28334.72  California   65200.33\n",
       "45    1000.23  124153.04    1903.93    New York   64926.08\n",
       "46    1315.46  115816.21  297114.46     Florida   49490.75\n",
       "47       0.00  135426.92       0.00  California   42559.73\n",
       "48     542.05   51743.15       0.00    New York   35673.41\n",
       "49       0.00  116983.80   45173.06  California  107978.19"
      ]
     },
     "execution_count": 33,
     "metadata": {},
     "output_type": "execute_result"
    }
   ],
   "source": [
    "# Replace the outlier value with the median of the column\n",
    "stup_pft2 = stup_pft.copy()\n",
    "for i in stup_pft2['Profit']:\n",
    "    Q1 = np.quantile(stup_pft2.Profit,0.25)\n",
    "    Q3 = np.quantile(stup_pft2.Profit,0.75)\n",
    "    IQR = Q3 - Q1\n",
    "    upper_fence = Q3+(1.5*IQR)\n",
    "    lower_fence = Q1-(1.5*IQR)\n",
    "    if i > upper_fence or i < lower_fence:\n",
    "        stup_pft2['Profit']=stup_pft2['Profit'].replace(i,np.median(stup_pft2['Profit']))\n",
    "stup_pft2"
   ]
  },
  {
   "cell_type": "code",
   "execution_count": 34,
   "id": "2b27d46b",
   "metadata": {
    "ExecuteTime": {
     "end_time": "2022-11-03T18:28:26.646193Z",
     "start_time": "2022-11-03T18:28:26.507526Z"
    }
   },
   "outputs": [
    {
     "data": {
      "image/png": "[encoded data removed]",
      "text/plain": [
       "<Figure size 432x288 with 1 Axes>"
      ]
     },
     "metadata": {},
     "output_type": "display_data"
    }
   ],
   "source": [
    "# Check for Outlier\n",
    "plt.boxplot(stup_pft2['Profit'])\n",
    "plt.show()"
   ]
  },
  {
   "cell_type": "markdown",
   "id": "6ad5af5b",
   "metadata": {},
   "source": [
    "#### c.) Remove the outlier"
   ]
  },
  {
   "cell_type": "code",
   "execution_count": 35,
   "id": "c8487072",
   "metadata": {
    "ExecuteTime": {
     "end_time": "2022-11-03T18:28:26.678108Z",
     "start_time": "2022-11-03T18:28:26.648189Z"
    }
   },
   "outputs": [
    {
     "data": {
      "text/plain": [
       "(49, 5)"
      ]
     },
     "execution_count": 35,
     "metadata": {},
     "output_type": "execute_result"
    }
   ],
   "source": [
    "# Remove entire observation containing the outlier\n",
    "stup_pft3=stup_pft.copy()\n",
    "for i in stup_pft3['Profit']:\n",
    "    Q1 = np.quantile(stup_pft3.Profit,0.25)\n",
    "    Q3 = np.quantile(stup_pft3.Profit,0.75)\n",
    "    IQR = Q3 - Q1\n",
    "    upper_fence = Q3+(1.5*IQR)\n",
    "    lower_fence = Q1-(1.5*IQR)\n",
    "    if i > upper_fence or i < lower_fence:\n",
    "        stup_pft3.drop(stup_pft3[stup_pft3['Profit']==i].index,inplace=True)\n",
    "stup_pft3.shape"
   ]
  },
  {
   "cell_type": "code",
   "execution_count": 36,
   "id": "d3ad6bec",
   "metadata": {
    "ExecuteTime": {
     "end_time": "2022-11-03T18:28:26.817382Z",
     "start_time": "2022-11-03T18:28:26.680102Z"
    }
   },
   "outputs": [
    {
     "data": {
      "image/png": "[encoded data removed]",
      "text/plain": [
       "<Figure size 432x288 with 1 Axes>"
      ]
     },
     "metadata": {},
     "output_type": "display_data"
    }
   ],
   "source": [
    "# Check for Outlier\n",
    "plt.boxplot(stup_pft3['Profit'])\n",
    "plt.show()"
   ]
  },
  {
   "cell_type": "markdown",
   "id": "3752ead2",
   "metadata": {},
   "source": [
    "### Step-6 : Apply Transformations to the model"
   ]
  },
  {
   "cell_type": "markdown",
   "id": "f99878ee",
   "metadata": {},
   "source": [
    "### Step-6.1 : Model after applying Mean imputation method"
   ]
  },
  {
   "cell_type": "code",
   "execution_count": 37,
   "id": "83664dff",
   "metadata": {
    "ExecuteTime": {
     "end_time": "2022-11-03T18:28:26.848926Z",
     "start_time": "2022-11-03T18:28:26.824407Z"
    }
   },
   "outputs": [],
   "source": [
    "model_1 = smf.ols(\"Profit~RnD_Exp+Admin_Exp+Mktg_Exp\",data=stup_pft1).fit()"
   ]
  },
  {
   "cell_type": "code",
   "execution_count": 38,
   "id": "23273aac",
   "metadata": {
    "ExecuteTime": {
     "end_time": "2022-11-03T18:28:26.879075Z",
     "start_time": "2022-11-03T18:28:26.850900Z"
    },
    "scrolled": true
   },
   "outputs": [
    {
     "data": {
      "text/plain": [
       "0     187675.127497\n",
       "1     184807.265576\n",
       "2     177926.392235\n",
       "3     170378.659289\n",
       "4     168712.787096\n",
       "5     160900.156407\n",
       "6     157113.068012\n",
       "7     158212.359358\n",
       "8     150632.944360\n",
       "9     153144.939630\n",
       "10    135505.730205\n",
       "11    135302.864104\n",
       "12    129722.264382\n",
       "13    128272.516630\n",
       "14    148868.575045\n",
       "15    145436.991421\n",
       "16    118317.815699\n",
       "17    130772.988580\n",
       "18    129323.075827\n",
       "19    118336.221491\n",
       "20    117869.780405\n",
       "21    118908.085181\n",
       "22    116160.452264\n",
       "23    111625.413719\n",
       "24    115210.855428\n",
       "25    105353.748840\n",
       "26    113143.881459\n",
       "27    115772.538953\n",
       "28    105331.602959\n",
       "29    105185.754436\n",
       "30    102685.772937\n",
       "31    101448.467106\n",
       "32    102557.991993\n",
       "33    100727.482761\n",
       "34     93102.473773\n",
       "35     93727.951738\n",
       "36     80104.918383\n",
       "37     92581.513049\n",
       "38     74358.300356\n",
       "39     87537.977965\n",
       "40     79675.454131\n",
       "41     79339.888189\n",
       "42     75647.557056\n",
       "43     66679.318781\n",
       "44     71095.077671\n",
       "45     55187.803363\n",
       "46     61999.672673\n",
       "47     54238.659491\n",
       "48     55849.357211\n",
       "49     55492.704087\n",
       "dtype: float64"
      ]
     },
     "execution_count": 38,
     "metadata": {},
     "output_type": "execute_result"
    }
   ],
   "source": [
    "pred_1 = model_1.predict(stup_pft1)\n",
    "pred_1"
   ]
  },
  {
   "cell_type": "code",
   "execution_count": 39,
   "id": "a60bdd7a",
   "metadata": {
    "ExecuteTime": {
     "end_time": "2022-11-03T18:28:27.004317Z",
     "start_time": "2022-11-03T18:28:26.881031Z"
    }
   },
   "outputs": [
    {
     "data": {
      "text/html": [
       "<table class=\"simpletable\">\n",
       "<caption>OLS Regression Results</caption>\n",
       "<tr>\n",
       "  <th>Dep. Variable:</th>         <td>Profit</td>      <th>  R-squared:         </th> <td>   0.912</td>\n",
       "</tr>\n",
       "<tr>\n",
       "  <th>Model:</th>                   <td>OLS</td>       <th>  Adj. R-squared:    </th> <td>   0.906</td>\n",
       "</tr>\n",
       "<tr>\n",
       "  <th>Method:</th>             <td>Least Squares</td>  <th>  F-statistic:       </th> <td>   158.8</td>\n",
       "</tr>\n",
       "<tr>\n",
       "  <th>Date:</th>             <td>Thu, 03 Nov 2022</td> <th>  Prob (F-statistic):</th> <td>2.82e-24</td>\n",
       "</tr>\n",
       "<tr>\n",
       "  <th>Time:</th>                 <td>23:58:26</td>     <th>  Log-Likelihood:    </th> <td> -536.67</td>\n",
       "</tr>\n",
       "<tr>\n",
       "  <th>No. Observations:</th>      <td>    50</td>      <th>  AIC:               </th> <td>   1081.</td>\n",
       "</tr>\n",
       "<tr>\n",
       "  <th>Df Residuals:</th>          <td>    46</td>      <th>  BIC:               </th> <td>   1089.</td>\n",
       "</tr>\n",
       "<tr>\n",
       "  <th>Df Model:</th>              <td>     3</td>      <th>                     </th>     <td> </td>   \n",
       "</tr>\n",
       "<tr>\n",
       "  <th>Covariance Type:</th>      <td>nonrobust</td>    <th>                     </th>     <td> </td>   \n",
       "</tr>\n",
       "</table>\n",
       "<table class=\"simpletable\">\n",
       "<tr>\n",
       "      <td></td>         <th>coef</th>     <th>std err</th>      <th>t</th>      <th>P>|t|</th>  <th>[0.025</th>    <th>0.975]</th>  \n",
       "</tr>\n",
       "<tr>\n",
       "  <th>Intercept</th> <td> 5.619e+04</td> <td> 8236.731</td> <td>    6.822</td> <td> 0.000</td> <td> 3.96e+04</td> <td> 7.28e+04</td>\n",
       "</tr>\n",
       "<tr>\n",
       "  <th>RnD_Exp</th>   <td>    0.7447</td> <td>    0.057</td> <td>   13.162</td> <td> 0.000</td> <td>    0.631</td> <td>    0.859</td>\n",
       "</tr>\n",
       "<tr>\n",
       "  <th>Admin_Exp</th> <td>   -0.0144</td> <td>    0.064</td> <td>   -0.226</td> <td> 0.823</td> <td>   -0.143</td> <td>    0.114</td>\n",
       "</tr>\n",
       "<tr>\n",
       "  <th>Mktg_Exp</th>  <td>    0.0219</td> <td>    0.021</td> <td>    1.061</td> <td> 0.294</td> <td>   -0.020</td> <td>    0.063</td>\n",
       "</tr>\n",
       "</table>\n",
       "<table class=\"simpletable\">\n",
       "<tr>\n",
       "  <th>Omnibus:</th>       <td>50.346</td> <th>  Durbin-Watson:     </th> <td>   1.580</td>\n",
       "</tr>\n",
       "<tr>\n",
       "  <th>Prob(Omnibus):</th> <td> 0.000</td> <th>  Jarque-Bera (JB):  </th> <td> 307.669</td>\n",
       "</tr>\n",
       "<tr>\n",
       "  <th>Skew:</th>          <td> 2.466</td> <th>  Prob(JB):          </th> <td>1.55e-67</td>\n",
       "</tr>\n",
       "<tr>\n",
       "  <th>Kurtosis:</th>      <td>14.107</td> <th>  Cond. No.          </th> <td>1.40e+06</td>\n",
       "</tr>\n",
       "</table><br/><br/>Notes:<br/>[1] Standard Errors assume that the covariance matrix of the errors is correctly specified.<br/>[2] The condition number is large, 1.4e+06. This might indicate that there are<br/>strong multicollinearity or other numerical problems."
      ],
      "text/plain": [
       "<class 'statsmodels.iolib.summary.Summary'>\n",
       "\"\"\"\n",
       "                            OLS Regression Results                            \n",
       "==============================================================================\n",
       "Dep. Variable:                 Profit   R-squared:                       0.912\n",
       "Model:                            OLS   Adj. R-squared:                  0.906\n",
       "Method:                 Least Squares   F-statistic:                     158.8\n",
       "Date:                Thu, 03 Nov 2022   Prob (F-statistic):           2.82e-24\n",
       "Time:                        23:58:26   Log-Likelihood:                -536.67\n",
       "No. Observations:                  50   AIC:                             1081.\n",
       "Df Residuals:                      46   BIC:                             1089.\n",
       "Df Model:                           3                                         \n",
       "Covariance Type:            nonrobust                                         \n",
       "==============================================================================\n",
       "                 coef    std err          t      P>|t|      [0.025      0.975]\n",
       "------------------------------------------------------------------------------\n",
       "Intercept   5.619e+04   8236.731      6.822      0.000    3.96e+04    7.28e+04\n",
       "RnD_Exp        0.7447      0.057     13.162      0.000       0.631       0.859\n",
       "Admin_Exp     -0.0144      0.064     -0.226      0.823      -0.143       0.114\n",
       "Mktg_Exp       0.0219      0.021      1.061      0.294      -0.020       0.063\n",
       "==============================================================================\n",
       "Omnibus:                       50.346   Durbin-Watson:                   1.580\n",
       "Prob(Omnibus):                  0.000   Jarque-Bera (JB):              307.669\n",
       "Skew:                           2.466   Prob(JB):                     1.55e-67\n",
       "Kurtosis:                      14.107   Cond. No.                     1.40e+06\n",
       "==============================================================================\n",
       "\n",
       "Notes:\n",
       "[1] Standard Errors assume that the covariance matrix of the errors is correctly specified.\n",
       "[2] The condition number is large, 1.4e+06. This might indicate that there are\n",
       "strong multicollinearity or other numerical problems.\n",
       "\"\"\""
      ]
     },
     "execution_count": 39,
     "metadata": {},
     "output_type": "execute_result"
    }
   ],
   "source": [
    "# Overall Summary\n",
    "model_1.summary()"
   ]
  },
  {
   "cell_type": "code",
   "execution_count": 40,
   "id": "92c19c0e",
   "metadata": {
    "ExecuteTime": {
     "end_time": "2022-11-03T18:28:27.019538Z",
     "start_time": "2022-11-03T18:28:27.006312Z"
    }
   },
   "outputs": [
    {
     "data": {
      "text/plain": [
       "11570.325357997475"
      ]
     },
     "execution_count": 40,
     "metadata": {},
     "output_type": "execute_result"
    }
   ],
   "source": [
    "# Root Mean Square Error(RMSE)\n",
    "rmse_1 = np.sqrt(model_1.mse_resid)\n",
    "rmse_1"
   ]
  },
  {
   "cell_type": "markdown",
   "id": "2041f7a7",
   "metadata": {
    "ExecuteTime": {
     "end_time": "2022-10-21T17:54:24.184166Z",
     "start_time": "2022-10-21T17:54:24.157240Z"
    }
   },
   "source": [
    "#### The R² value is decreased and the RMSE value increased.\n",
    "#### Apply all other transformations and select the model with best R² value and low RMSE."
   ]
  },
  {
   "cell_type": "markdown",
   "id": "822a6a84",
   "metadata": {},
   "source": [
    "### Step-6.2 : Model after applying Median imputation method"
   ]
  },
  {
   "cell_type": "code",
   "execution_count": 41,
   "id": "0976c09b",
   "metadata": {
    "ExecuteTime": {
     "end_time": "2022-11-03T18:28:27.050590Z",
     "start_time": "2022-11-03T18:28:27.021272Z"
    }
   },
   "outputs": [],
   "source": [
    "model_2 = smf.ols(\"Profit~RnD_Exp+Admin_Exp+Mktg_Exp\",data=stup_pft2).fit()"
   ]
  },
  {
   "cell_type": "code",
   "execution_count": 42,
   "id": "c7f8495a",
   "metadata": {
    "ExecuteTime": {
     "end_time": "2022-11-03T18:28:27.080773Z",
     "start_time": "2022-11-03T18:28:27.052588Z"
    }
   },
   "outputs": [
    {
     "data": {
      "text/plain": [
       "0     187876.002847\n",
       "1     184987.555560\n",
       "2     178101.351002\n",
       "3     170516.194441\n",
       "4     168854.827375\n",
       "5     161011.270188\n",
       "6     157154.561362\n",
       "7     158287.343850\n",
       "8     150678.903059\n",
       "9     153217.053278\n",
       "10    135505.866418\n",
       "11    135314.090982\n",
       "12    129698.048453\n",
       "13    128239.997511\n",
       "14    148896.764485\n",
       "15    145470.076076\n",
       "16    118259.684793\n",
       "17    130748.924726\n",
       "18    129310.273815\n",
       "19    118224.262905\n",
       "20    117818.791421\n",
       "21    118842.235189\n",
       "22    116100.204874\n",
       "23    111557.898861\n",
       "24    115134.259100\n",
       "25    105224.587435\n",
       "26    113038.459609\n",
       "27    115715.980803\n",
       "28    105179.413479\n",
       "29    105045.204563\n",
       "30    102551.746204\n",
       "31    101292.587108\n",
       "32    102410.565778\n",
       "33    100610.903671\n",
       "34     92934.051237\n",
       "35     93594.631649\n",
       "36     79905.178020\n",
       "37     92458.737061\n",
       "38     74165.103986\n",
       "39     87380.093611\n",
       "40     79474.024388\n",
       "41     79151.812547\n",
       "42     75439.178305\n",
       "43     66409.380184\n",
       "44     70826.322744\n",
       "45     54875.382974\n",
       "46     61757.871359\n",
       "47     53917.496449\n",
       "48     55572.550636\n",
       "49     55191.043627\n",
       "dtype: float64"
      ]
     },
     "execution_count": 42,
     "metadata": {},
     "output_type": "execute_result"
    }
   ],
   "source": [
    "pred_2 = model_2.predict(stup_pft2)\n",
    "pred_2"
   ]
  },
  {
   "cell_type": "code",
   "execution_count": 43,
   "id": "ceb264aa",
   "metadata": {
    "ExecuteTime": {
     "end_time": "2022-11-03T18:28:27.112309Z",
     "start_time": "2022-11-03T18:28:27.082786Z"
    }
   },
   "outputs": [
    {
     "data": {
      "text/html": [
       "<table class=\"simpletable\">\n",
       "<caption>OLS Regression Results</caption>\n",
       "<tr>\n",
       "  <th>Dep. Variable:</th>         <td>Profit</td>      <th>  R-squared:         </th> <td>   0.918</td>\n",
       "</tr>\n",
       "<tr>\n",
       "  <th>Model:</th>                   <td>OLS</td>       <th>  Adj. R-squared:    </th> <td>   0.913</td>\n",
       "</tr>\n",
       "<tr>\n",
       "  <th>Method:</th>             <td>Least Squares</td>  <th>  F-statistic:       </th> <td>   172.3</td>\n",
       "</tr>\n",
       "<tr>\n",
       "  <th>Date:</th>             <td>Thu, 03 Nov 2022</td> <th>  Prob (F-statistic):</th> <td>5.06e-25</td>\n",
       "</tr>\n",
       "<tr>\n",
       "  <th>Time:</th>                 <td>23:58:27</td>     <th>  Log-Likelihood:    </th> <td> -534.81</td>\n",
       "</tr>\n",
       "<tr>\n",
       "  <th>No. Observations:</th>      <td>    50</td>      <th>  AIC:               </th> <td>   1078.</td>\n",
       "</tr>\n",
       "<tr>\n",
       "  <th>Df Residuals:</th>          <td>    46</td>      <th>  BIC:               </th> <td>   1085.</td>\n",
       "</tr>\n",
       "<tr>\n",
       "  <th>Df Model:</th>              <td>     3</td>      <th>                     </th>     <td> </td>   \n",
       "</tr>\n",
       "<tr>\n",
       "  <th>Covariance Type:</th>      <td>nonrobust</td>    <th>                     </th>     <td> </td>   \n",
       "</tr>\n",
       "</table>\n",
       "<table class=\"simpletable\">\n",
       "<tr>\n",
       "      <td></td>         <th>coef</th>     <th>std err</th>      <th>t</th>      <th>P>|t|</th>  <th>[0.025</th>    <th>0.975]</th>  \n",
       "</tr>\n",
       "<tr>\n",
       "  <th>Intercept</th> <td> 5.594e+04</td> <td> 7936.330</td> <td>    7.049</td> <td> 0.000</td> <td>    4e+04</td> <td> 7.19e+04</td>\n",
       "</tr>\n",
       "<tr>\n",
       "  <th>RnD_Exp</th>   <td>    0.7472</td> <td>    0.055</td> <td>   13.707</td> <td> 0.000</td> <td>    0.638</td> <td>    0.857</td>\n",
       "</tr>\n",
       "<tr>\n",
       "  <th>Admin_Exp</th> <td>   -0.0149</td> <td>    0.062</td> <td>   -0.242</td> <td> 0.810</td> <td>   -0.139</td> <td>    0.109</td>\n",
       "</tr>\n",
       "<tr>\n",
       "  <th>Mktg_Exp</th>  <td>    0.0221</td> <td>    0.020</td> <td>    1.112</td> <td> 0.272</td> <td>   -0.018</td> <td>    0.062</td>\n",
       "</tr>\n",
       "</table>\n",
       "<table class=\"simpletable\">\n",
       "<tr>\n",
       "  <th>Omnibus:</th>       <td>45.356</td> <th>  Durbin-Watson:     </th> <td>   1.603</td>\n",
       "</tr>\n",
       "<tr>\n",
       "  <th>Prob(Omnibus):</th> <td> 0.000</td> <th>  Jarque-Bera (JB):  </th> <td> 233.667</td>\n",
       "</tr>\n",
       "<tr>\n",
       "  <th>Skew:</th>          <td> 2.221</td> <th>  Prob(JB):          </th> <td>1.82e-51</td>\n",
       "</tr>\n",
       "<tr>\n",
       "  <th>Kurtosis:</th>      <td>12.614</td> <th>  Cond. No.          </th> <td>1.40e+06</td>\n",
       "</tr>\n",
       "</table><br/><br/>Notes:<br/>[1] Standard Errors assume that the covariance matrix of the errors is correctly specified.<br/>[2] The condition number is large, 1.4e+06. This might indicate that there are<br/>strong multicollinearity or other numerical problems."
      ],
      "text/plain": [
       "<class 'statsmodels.iolib.summary.Summary'>\n",
       "\"\"\"\n",
       "                            OLS Regression Results                            \n",
       "==============================================================================\n",
       "Dep. Variable:                 Profit   R-squared:                       0.918\n",
       "Model:                            OLS   Adj. R-squared:                  0.913\n",
       "Method:                 Least Squares   F-statistic:                     172.3\n",
       "Date:                Thu, 03 Nov 2022   Prob (F-statistic):           5.06e-25\n",
       "Time:                        23:58:27   Log-Likelihood:                -534.81\n",
       "No. Observations:                  50   AIC:                             1078.\n",
       "Df Residuals:                      46   BIC:                             1085.\n",
       "Df Model:                           3                                         \n",
       "Covariance Type:            nonrobust                                         \n",
       "==============================================================================\n",
       "                 coef    std err          t      P>|t|      [0.025      0.975]\n",
       "------------------------------------------------------------------------------\n",
       "Intercept   5.594e+04   7936.330      7.049      0.000       4e+04    7.19e+04\n",
       "RnD_Exp        0.7472      0.055     13.707      0.000       0.638       0.857\n",
       "Admin_Exp     -0.0149      0.062     -0.242      0.810      -0.139       0.109\n",
       "Mktg_Exp       0.0221      0.020      1.112      0.272      -0.018       0.062\n",
       "==============================================================================\n",
       "Omnibus:                       45.356   Durbin-Watson:                   1.603\n",
       "Prob(Omnibus):                  0.000   Jarque-Bera (JB):              233.667\n",
       "Skew:                           2.221   Prob(JB):                     1.82e-51\n",
       "Kurtosis:                      12.614   Cond. No.                     1.40e+06\n",
       "==============================================================================\n",
       "\n",
       "Notes:\n",
       "[1] Standard Errors assume that the covariance matrix of the errors is correctly specified.\n",
       "[2] The condition number is large, 1.4e+06. This might indicate that there are\n",
       "strong multicollinearity or other numerical problems.\n",
       "\"\"\""
      ]
     },
     "execution_count": 43,
     "metadata": {},
     "output_type": "execute_result"
    }
   ],
   "source": [
    "# Overall Summary\n",
    "model_2.summary()"
   ]
  },
  {
   "cell_type": "code",
   "execution_count": 44,
   "id": "e061c792",
   "metadata": {
    "ExecuteTime": {
     "end_time": "2022-11-03T18:28:27.128249Z",
     "start_time": "2022-11-03T18:28:27.115266Z"
    }
   },
   "outputs": [
    {
     "data": {
      "text/plain": [
       "11148.345423622899"
      ]
     },
     "execution_count": 44,
     "metadata": {},
     "output_type": "execute_result"
    }
   ],
   "source": [
    "# Root Mean Square Error(RMSE)\n",
    "rmse_2 = np.sqrt(model_2.mse_resid)\n",
    "rmse_2"
   ]
  },
  {
   "cell_type": "markdown",
   "id": "29fb93df",
   "metadata": {},
   "source": [
    "### Step-6.3 : Model after removing outlier"
   ]
  },
  {
   "cell_type": "code",
   "execution_count": 45,
   "id": "60fc7c4a",
   "metadata": {
    "ExecuteTime": {
     "end_time": "2022-11-03T18:28:27.159257Z",
     "start_time": "2022-11-03T18:28:27.131242Z"
    }
   },
   "outputs": [],
   "source": [
    "model_3 = smf.ols(\"Profit~RnD_Exp+Admin_Exp+Mktg_Exp\",data=stup_pft3).fit()"
   ]
  },
  {
   "cell_type": "code",
   "execution_count": 46,
   "id": "3c48b4e8",
   "metadata": {
    "ExecuteTime": {
     "end_time": "2022-11-03T18:28:27.191272Z",
     "start_time": "2022-11-03T18:28:27.162208Z"
    },
    "scrolled": true
   },
   "outputs": [
    {
     "data": {
      "text/plain": [
       "0     190716.676999\n",
       "1     187537.122227\n",
       "2     180575.526396\n",
       "3     172461.144642\n",
       "4     170863.486721\n",
       "5     162582.583177\n",
       "6     157741.338633\n",
       "7     159347.735318\n",
       "8     151328.826941\n",
       "9     154236.846778\n",
       "10    135507.792682\n",
       "11    135472.855621\n",
       "12    129355.599449\n",
       "13    127780.129139\n",
       "14    149295.404796\n",
       "15    145937.941975\n",
       "16    117437.627921\n",
       "17    130408.626295\n",
       "18    129129.234457\n",
       "19    116641.003121\n",
       "20    117097.731866\n",
       "21    117911.019038\n",
       "22    115248.217796\n",
       "23    110603.139045\n",
       "24    114051.073877\n",
       "25    103398.054385\n",
       "26    111547.638935\n",
       "27    114916.165026\n",
       "28    103027.229434\n",
       "29    103057.621761\n",
       "30    100656.410227\n",
       "31     99088.213693\n",
       "32    100325.741335\n",
       "33     98962.303136\n",
       "34     90552.307809\n",
       "35     91709.288672\n",
       "36     77080.554255\n",
       "37     90722.503244\n",
       "38     71433.021956\n",
       "39     85147.375646\n",
       "40     76625.510303\n",
       "41     76492.145175\n",
       "42     72492.394974\n",
       "43     62592.049718\n",
       "44     67025.731107\n",
       "45     50457.297206\n",
       "46     58338.443625\n",
       "47     49375.776655\n",
       "48     51658.096812\n",
       "dtype: float64"
      ]
     },
     "execution_count": 46,
     "metadata": {},
     "output_type": "execute_result"
    }
   ],
   "source": [
    "pred_3 = model_3.predict(stup_pft3)\n",
    "pred_3"
   ]
  },
  {
   "cell_type": "code",
   "execution_count": 47,
   "id": "b3bdfe55",
   "metadata": {
    "ExecuteTime": {
     "end_time": "2022-11-03T18:28:27.224194Z",
     "start_time": "2022-11-03T18:28:27.194210Z"
    }
   },
   "outputs": [
    {
     "data": {
      "text/html": [
       "<table class=\"simpletable\">\n",
       "<caption>OLS Regression Results</caption>\n",
       "<tr>\n",
       "  <th>Dep. Variable:</th>         <td>Profit</td>      <th>  R-squared:         </th> <td>   0.961</td>\n",
       "</tr>\n",
       "<tr>\n",
       "  <th>Model:</th>                   <td>OLS</td>       <th>  Adj. R-squared:    </th> <td>   0.959</td>\n",
       "</tr>\n",
       "<tr>\n",
       "  <th>Method:</th>             <td>Least Squares</td>  <th>  F-statistic:       </th> <td>   372.8</td>\n",
       "</tr>\n",
       "<tr>\n",
       "  <th>Date:</th>             <td>Thu, 03 Nov 2022</td> <th>  Prob (F-statistic):</th> <td>8.85e-32</td>\n",
       "</tr>\n",
       "<tr>\n",
       "  <th>Time:</th>                 <td>23:58:27</td>     <th>  Log-Likelihood:    </th> <td> -506.28</td>\n",
       "</tr>\n",
       "<tr>\n",
       "  <th>No. Observations:</th>      <td>    49</td>      <th>  AIC:               </th> <td>   1021.</td>\n",
       "</tr>\n",
       "<tr>\n",
       "  <th>Df Residuals:</th>          <td>    45</td>      <th>  BIC:               </th> <td>   1028.</td>\n",
       "</tr>\n",
       "<tr>\n",
       "  <th>Df Model:</th>              <td>     3</td>      <th>                     </th>     <td> </td>   \n",
       "</tr>\n",
       "<tr>\n",
       "  <th>Covariance Type:</th>      <td>nonrobust</td>    <th>                     </th>     <td> </td>   \n",
       "</tr>\n",
       "</table>\n",
       "<table class=\"simpletable\">\n",
       "<tr>\n",
       "      <td></td>         <th>coef</th>     <th>std err</th>      <th>t</th>      <th>P>|t|</th>  <th>[0.025</th>    <th>0.975]</th>  \n",
       "</tr>\n",
       "<tr>\n",
       "  <th>Intercept</th> <td> 5.238e+04</td> <td> 5542.657</td> <td>    9.451</td> <td> 0.000</td> <td> 4.12e+04</td> <td> 6.35e+04</td>\n",
       "</tr>\n",
       "<tr>\n",
       "  <th>RnD_Exp</th>   <td>    0.7830</td> <td>    0.038</td> <td>   20.470</td> <td> 0.000</td> <td>    0.706</td> <td>    0.860</td>\n",
       "</tr>\n",
       "<tr>\n",
       "  <th>Admin_Exp</th> <td>   -0.0222</td> <td>    0.043</td> <td>   -0.518</td> <td> 0.607</td> <td>   -0.109</td> <td>    0.064</td>\n",
       "</tr>\n",
       "<tr>\n",
       "  <th>Mktg_Exp</th>  <td>    0.0252</td> <td>    0.014</td> <td>    1.825</td> <td> 0.075</td> <td>   -0.003</td> <td>    0.053</td>\n",
       "</tr>\n",
       "</table>\n",
       "<table class=\"simpletable\">\n",
       "<tr>\n",
       "  <th>Omnibus:</th>       <td> 0.082</td> <th>  Durbin-Watson:     </th> <td>   1.598</td>\n",
       "</tr>\n",
       "<tr>\n",
       "  <th>Prob(Omnibus):</th> <td> 0.960</td> <th>  Jarque-Bera (JB):  </th> <td>   0.232</td>\n",
       "</tr>\n",
       "<tr>\n",
       "  <th>Skew:</th>          <td>-0.082</td> <th>  Prob(JB):          </th> <td>   0.890</td>\n",
       "</tr>\n",
       "<tr>\n",
       "  <th>Kurtosis:</th>      <td> 2.706</td> <th>  Cond. No.          </th> <td>1.41e+06</td>\n",
       "</tr>\n",
       "</table><br/><br/>Notes:<br/>[1] Standard Errors assume that the covariance matrix of the errors is correctly specified.<br/>[2] The condition number is large, 1.41e+06. This might indicate that there are<br/>strong multicollinearity or other numerical problems."
      ],
      "text/plain": [
       "<class 'statsmodels.iolib.summary.Summary'>\n",
       "\"\"\"\n",
       "                            OLS Regression Results                            \n",
       "==============================================================================\n",
       "Dep. Variable:                 Profit   R-squared:                       0.961\n",
       "Model:                            OLS   Adj. R-squared:                  0.959\n",
       "Method:                 Least Squares   F-statistic:                     372.8\n",
       "Date:                Thu, 03 Nov 2022   Prob (F-statistic):           8.85e-32\n",
       "Time:                        23:58:27   Log-Likelihood:                -506.28\n",
       "No. Observations:                  49   AIC:                             1021.\n",
       "Df Residuals:                      45   BIC:                             1028.\n",
       "Df Model:                           3                                         \n",
       "Covariance Type:            nonrobust                                         \n",
       "==============================================================================\n",
       "                 coef    std err          t      P>|t|      [0.025      0.975]\n",
       "------------------------------------------------------------------------------\n",
       "Intercept   5.238e+04   5542.657      9.451      0.000    4.12e+04    6.35e+04\n",
       "RnD_Exp        0.7830      0.038     20.470      0.000       0.706       0.860\n",
       "Admin_Exp     -0.0222      0.043     -0.518      0.607      -0.109       0.064\n",
       "Mktg_Exp       0.0252      0.014      1.825      0.075      -0.003       0.053\n",
       "==============================================================================\n",
       "Omnibus:                        0.082   Durbin-Watson:                   1.598\n",
       "Prob(Omnibus):                  0.960   Jarque-Bera (JB):                0.232\n",
       "Skew:                          -0.082   Prob(JB):                        0.890\n",
       "Kurtosis:                       2.706   Cond. No.                     1.41e+06\n",
       "==============================================================================\n",
       "\n",
       "Notes:\n",
       "[1] Standard Errors assume that the covariance matrix of the errors is correctly specified.\n",
       "[2] The condition number is large, 1.41e+06. This might indicate that there are\n",
       "strong multicollinearity or other numerical problems.\n",
       "\"\"\""
      ]
     },
     "execution_count": 47,
     "metadata": {},
     "output_type": "execute_result"
    }
   ],
   "source": [
    "model_3.summary()"
   ]
  },
  {
   "cell_type": "code",
   "execution_count": 48,
   "id": "ee7decb8",
   "metadata": {
    "ExecuteTime": {
     "end_time": "2022-11-03T18:28:27.239150Z",
     "start_time": "2022-11-03T18:28:27.227179Z"
    }
   },
   "outputs": [
    {
     "data": {
      "text/plain": [
       "7753.807752288891"
      ]
     },
     "execution_count": 48,
     "metadata": {},
     "output_type": "execute_result"
    }
   ],
   "source": [
    "# Root Mean Square Error(RMSE)\n",
    "rmse_3 = np.sqrt(model_3.mse_resid)\n",
    "rmse_3"
   ]
  },
  {
   "cell_type": "markdown",
   "id": "7ea67978",
   "metadata": {},
   "source": [
    "#### Out of all the transformations, the model after removing the outlier has the best R² value and less RMSE value."
   ]
  },
  {
   "cell_type": "markdown",
   "id": "f3eb3a34",
   "metadata": {
    "ExecuteTime": {
     "end_time": "2022-10-28T06:35:23.268471Z",
     "start_time": "2022-10-28T06:35:23.254511Z"
    }
   },
   "source": [
    "#### As the 'State' column does not influence the profit, remove the column."
   ]
  },
  {
   "cell_type": "code",
   "execution_count": 49,
   "id": "a12c116c",
   "metadata": {
    "ExecuteTime": {
     "end_time": "2022-11-03T18:28:27.270211Z",
     "start_time": "2022-11-03T18:28:27.243675Z"
    }
   },
   "outputs": [
    {
     "data": {
      "text/html": [
       "<div>\n",
       "<style scoped>\n",
       "    .dataframe tbody tr th:only-of-type {\n",
       "        vertical-align: middle;\n",
       "    }\n",
       "\n",
       "    .dataframe tbody tr th {\n",
       "        vertical-align: top;\n",
       "    }\n",
       "\n",
       "    .dataframe thead th {\n",
       "        text-align: right;\n",
       "    }\n",
       "</style>\n",
       "<table border=\"1\" class=\"dataframe\">\n",
       "  <thead>\n",
       "    <tr style=\"text-align: right;\">\n",
       "      <th></th>\n",
       "      <th>RnD_Exp</th>\n",
       "      <th>Admin_Exp</th>\n",
       "      <th>Mktg_Exp</th>\n",
       "      <th>Profit</th>\n",
       "    </tr>\n",
       "  </thead>\n",
       "  <tbody>\n",
       "    <tr>\n",
       "      <th>0</th>\n",
       "      <td>165349.20</td>\n",
       "      <td>136897.80</td>\n",
       "      <td>471784.10</td>\n",
       "      <td>192261.83</td>\n",
       "    </tr>\n",
       "    <tr>\n",
       "      <th>1</th>\n",
       "      <td>162597.70</td>\n",
       "      <td>151377.59</td>\n",
       "      <td>443898.53</td>\n",
       "      <td>191792.06</td>\n",
       "    </tr>\n",
       "    <tr>\n",
       "      <th>2</th>\n",
       "      <td>153441.51</td>\n",
       "      <td>101145.55</td>\n",
       "      <td>407934.54</td>\n",
       "      <td>191050.39</td>\n",
       "    </tr>\n",
       "    <tr>\n",
       "      <th>3</th>\n",
       "      <td>144372.41</td>\n",
       "      <td>118671.85</td>\n",
       "      <td>383199.62</td>\n",
       "      <td>182901.99</td>\n",
       "    </tr>\n",
       "    <tr>\n",
       "      <th>4</th>\n",
       "      <td>142107.34</td>\n",
       "      <td>91391.77</td>\n",
       "      <td>366168.42</td>\n",
       "      <td>166187.94</td>\n",
       "    </tr>\n",
       "  </tbody>\n",
       "</table>\n",
       "</div>"
      ],
      "text/plain": [
       "     RnD_Exp  Admin_Exp   Mktg_Exp     Profit\n",
       "0  165349.20  136897.80  471784.10  192261.83\n",
       "1  162597.70  151377.59  443898.53  191792.06\n",
       "2  153441.51  101145.55  407934.54  191050.39\n",
       "3  144372.41  118671.85  383199.62  182901.99\n",
       "4  142107.34   91391.77  366168.42  166187.94"
      ]
     },
     "execution_count": 49,
     "metadata": {},
     "output_type": "execute_result"
    }
   ],
   "source": [
    "stup_pft4=stup_pft3.drop('State',axis=1)\n",
    "stup_pft4.head()"
   ]
  },
  {
   "cell_type": "markdown",
   "id": "47c30493",
   "metadata": {
    "ExecuteTime": {
     "end_time": "2022-10-26T07:18:53.300015Z",
     "start_time": "2022-10-26T07:18:53.289042Z"
    }
   },
   "source": [
    "### Step-7 : Check the significance of each indpendent variable"
   ]
  },
  {
   "cell_type": "markdown",
   "id": "cc98eae0",
   "metadata": {},
   "source": [
    "#### Perform Simple linear regression on each variable and check the significance. If the P-value<0.05, then it is significant."
   ]
  },
  {
   "cell_type": "markdown",
   "id": "71924aa7",
   "metadata": {},
   "source": [
    "#### Check for Significance of R&D Expenditure"
   ]
  },
  {
   "cell_type": "code",
   "execution_count": 50,
   "id": "84d4ec2c",
   "metadata": {
    "ExecuteTime": {
     "end_time": "2022-11-03T18:28:27.301195Z",
     "start_time": "2022-11-03T18:28:27.275198Z"
    }
   },
   "outputs": [],
   "source": [
    "Slr_Rnd = smf.ols(\"Profit~RnD_Exp\",data=stup_pft4).fit()"
   ]
  },
  {
   "cell_type": "code",
   "execution_count": 51,
   "id": "b0147f6a",
   "metadata": {
    "ExecuteTime": {
     "end_time": "2022-11-03T18:28:27.348773Z",
     "start_time": "2022-11-03T18:28:27.309230Z"
    }
   },
   "outputs": [
    {
     "data": {
      "text/html": [
       "<table class=\"simpletable\">\n",
       "<caption>OLS Regression Results</caption>\n",
       "<tr>\n",
       "  <th>Dep. Variable:</th>         <td>Profit</td>      <th>  R-squared:         </th> <td>   0.957</td>\n",
       "</tr>\n",
       "<tr>\n",
       "  <th>Model:</th>                   <td>OLS</td>       <th>  Adj. R-squared:    </th> <td>   0.956</td>\n",
       "</tr>\n",
       "<tr>\n",
       "  <th>Method:</th>             <td>Least Squares</td>  <th>  F-statistic:       </th> <td>   1055.</td>\n",
       "</tr>\n",
       "<tr>\n",
       "  <th>Date:</th>             <td>Thu, 03 Nov 2022</td> <th>  Prob (F-statistic):</th> <td>7.56e-34</td>\n",
       "</tr>\n",
       "<tr>\n",
       "  <th>Time:</th>                 <td>23:58:27</td>     <th>  Log-Likelihood:    </th> <td> -508.68</td>\n",
       "</tr>\n",
       "<tr>\n",
       "  <th>No. Observations:</th>      <td>    49</td>      <th>  AIC:               </th> <td>   1021.</td>\n",
       "</tr>\n",
       "<tr>\n",
       "  <th>Df Residuals:</th>          <td>    47</td>      <th>  BIC:               </th> <td>   1025.</td>\n",
       "</tr>\n",
       "<tr>\n",
       "  <th>Df Model:</th>              <td>     1</td>      <th>                     </th>     <td> </td>   \n",
       "</tr>\n",
       "<tr>\n",
       "  <th>Covariance Type:</th>      <td>nonrobust</td>    <th>                     </th>     <td> </td>   \n",
       "</tr>\n",
       "</table>\n",
       "<table class=\"simpletable\">\n",
       "<tr>\n",
       "      <td></td>         <th>coef</th>     <th>std err</th>      <th>t</th>      <th>P>|t|</th>  <th>[0.025</th>    <th>0.975]</th>  \n",
       "</tr>\n",
       "<tr>\n",
       "  <th>Intercept</th> <td> 5.172e+04</td> <td> 2229.914</td> <td>   23.195</td> <td> 0.000</td> <td> 4.72e+04</td> <td> 5.62e+04</td>\n",
       "</tr>\n",
       "<tr>\n",
       "  <th>RnD_Exp</th>   <td>    0.8278</td> <td>    0.025</td> <td>   32.477</td> <td> 0.000</td> <td>    0.777</td> <td>    0.879</td>\n",
       "</tr>\n",
       "</table>\n",
       "<table class=\"simpletable\">\n",
       "<tr>\n",
       "  <th>Omnibus:</th>       <td> 0.070</td> <th>  Durbin-Watson:     </th> <td>   1.372</td>\n",
       "</tr>\n",
       "<tr>\n",
       "  <th>Prob(Omnibus):</th> <td> 0.966</td> <th>  Jarque-Bera (JB):  </th> <td>   0.203</td>\n",
       "</tr>\n",
       "<tr>\n",
       "  <th>Skew:</th>          <td>-0.080</td> <th>  Prob(JB):          </th> <td>   0.903</td>\n",
       "</tr>\n",
       "<tr>\n",
       "  <th>Kurtosis:</th>      <td> 2.728</td> <th>  Cond. No.          </th> <td>1.71e+05</td>\n",
       "</tr>\n",
       "</table><br/><br/>Notes:<br/>[1] Standard Errors assume that the covariance matrix of the errors is correctly specified.<br/>[2] The condition number is large, 1.71e+05. This might indicate that there are<br/>strong multicollinearity or other numerical problems."
      ],
      "text/plain": [
       "<class 'statsmodels.iolib.summary.Summary'>\n",
       "\"\"\"\n",
       "                            OLS Regression Results                            \n",
       "==============================================================================\n",
       "Dep. Variable:                 Profit   R-squared:                       0.957\n",
       "Model:                            OLS   Adj. R-squared:                  0.956\n",
       "Method:                 Least Squares   F-statistic:                     1055.\n",
       "Date:                Thu, 03 Nov 2022   Prob (F-statistic):           7.56e-34\n",
       "Time:                        23:58:27   Log-Likelihood:                -508.68\n",
       "No. Observations:                  49   AIC:                             1021.\n",
       "Df Residuals:                      47   BIC:                             1025.\n",
       "Df Model:                           1                                         \n",
       "Covariance Type:            nonrobust                                         \n",
       "==============================================================================\n",
       "                 coef    std err          t      P>|t|      [0.025      0.975]\n",
       "------------------------------------------------------------------------------\n",
       "Intercept   5.172e+04   2229.914     23.195      0.000    4.72e+04    5.62e+04\n",
       "RnD_Exp        0.8278      0.025     32.477      0.000       0.777       0.879\n",
       "==============================================================================\n",
       "Omnibus:                        0.070   Durbin-Watson:                   1.372\n",
       "Prob(Omnibus):                  0.966   Jarque-Bera (JB):                0.203\n",
       "Skew:                          -0.080   Prob(JB):                        0.903\n",
       "Kurtosis:                       2.728   Cond. No.                     1.71e+05\n",
       "==============================================================================\n",
       "\n",
       "Notes:\n",
       "[1] Standard Errors assume that the covariance matrix of the errors is correctly specified.\n",
       "[2] The condition number is large, 1.71e+05. This might indicate that there are\n",
       "strong multicollinearity or other numerical problems.\n",
       "\"\"\""
      ]
     },
     "execution_count": 51,
     "metadata": {},
     "output_type": "execute_result"
    }
   ],
   "source": [
    "Slr_Rnd.summary()"
   ]
  },
  {
   "cell_type": "markdown",
   "id": "beaad1ab",
   "metadata": {},
   "source": [
    "#### As the P-value<0.05, R & D expenditure is significant  to the model."
   ]
  },
  {
   "cell_type": "markdown",
   "id": "67d08b57",
   "metadata": {},
   "source": [
    "#### Check for Significance of Administration Expenditure"
   ]
  },
  {
   "cell_type": "code",
   "execution_count": 52,
   "id": "aeff1701",
   "metadata": {
    "ExecuteTime": {
     "end_time": "2022-11-03T18:28:27.364657Z",
     "start_time": "2022-11-03T18:28:27.351694Z"
    }
   },
   "outputs": [],
   "source": [
    "Slr_Admin = smf.ols(\"Profit~Admin_Exp\",data=stup_pft4).fit()"
   ]
  },
  {
   "cell_type": "code",
   "execution_count": 53,
   "id": "a10e350d",
   "metadata": {
    "ExecuteTime": {
     "end_time": "2022-11-03T18:28:27.395613Z",
     "start_time": "2022-11-03T18:28:27.366654Z"
    },
    "scrolled": true
   },
   "outputs": [
    {
     "data": {
      "text/html": [
       "<table class=\"simpletable\">\n",
       "<caption>OLS Regression Results</caption>\n",
       "<tr>\n",
       "  <th>Dep. Variable:</th>         <td>Profit</td>      <th>  R-squared:         </th> <td>   0.042</td>\n",
       "</tr>\n",
       "<tr>\n",
       "  <th>Model:</th>                   <td>OLS</td>       <th>  Adj. R-squared:    </th> <td>   0.022</td>\n",
       "</tr>\n",
       "<tr>\n",
       "  <th>Method:</th>             <td>Least Squares</td>  <th>  F-statistic:       </th> <td>   2.080</td>\n",
       "</tr>\n",
       "<tr>\n",
       "  <th>Date:</th>             <td>Thu, 03 Nov 2022</td> <th>  Prob (F-statistic):</th>  <td> 0.156</td> \n",
       "</tr>\n",
       "<tr>\n",
       "  <th>Time:</th>                 <td>23:58:27</td>     <th>  Log-Likelihood:    </th> <td> -584.90</td>\n",
       "</tr>\n",
       "<tr>\n",
       "  <th>No. Observations:</th>      <td>    49</td>      <th>  AIC:               </th> <td>   1174.</td>\n",
       "</tr>\n",
       "<tr>\n",
       "  <th>Df Residuals:</th>          <td>    47</td>      <th>  BIC:               </th> <td>   1178.</td>\n",
       "</tr>\n",
       "<tr>\n",
       "  <th>Df Model:</th>              <td>     1</td>      <th>                     </th>     <td> </td>   \n",
       "</tr>\n",
       "<tr>\n",
       "  <th>Covariance Type:</th>      <td>nonrobust</td>    <th>                     </th>     <td> </td>   \n",
       "</tr>\n",
       "</table>\n",
       "<table class=\"simpletable\">\n",
       "<tr>\n",
       "      <td></td>         <th>coef</th>     <th>std err</th>      <th>t</th>      <th>P>|t|</th>  <th>[0.025</th>    <th>0.975]</th>  \n",
       "</tr>\n",
       "<tr>\n",
       "  <th>Intercept</th> <td> 8.029e+04</td> <td>  2.4e+04</td> <td>    3.346</td> <td> 0.002</td> <td>  3.2e+04</td> <td> 1.29e+05</td>\n",
       "</tr>\n",
       "<tr>\n",
       "  <th>Admin_Exp</th> <td>    0.2776</td> <td>    0.193</td> <td>    1.442</td> <td> 0.156</td> <td>   -0.110</td> <td>    0.665</td>\n",
       "</tr>\n",
       "</table>\n",
       "<table class=\"simpletable\">\n",
       "<tr>\n",
       "  <th>Omnibus:</th>       <td> 1.016</td> <th>  Durbin-Watson:     </th> <td>   0.084</td>\n",
       "</tr>\n",
       "<tr>\n",
       "  <th>Prob(Omnibus):</th> <td> 0.602</td> <th>  Jarque-Bera (JB):  </th> <td>   1.052</td>\n",
       "</tr>\n",
       "<tr>\n",
       "  <th>Skew:</th>          <td> 0.310</td> <th>  Prob(JB):          </th> <td>   0.591</td>\n",
       "</tr>\n",
       "<tr>\n",
       "  <th>Kurtosis:</th>      <td> 2.639</td> <th>  Cond. No.          </th> <td>5.54e+05</td>\n",
       "</tr>\n",
       "</table><br/><br/>Notes:<br/>[1] Standard Errors assume that the covariance matrix of the errors is correctly specified.<br/>[2] The condition number is large, 5.54e+05. This might indicate that there are<br/>strong multicollinearity or other numerical problems."
      ],
      "text/plain": [
       "<class 'statsmodels.iolib.summary.Summary'>\n",
       "\"\"\"\n",
       "                            OLS Regression Results                            \n",
       "==============================================================================\n",
       "Dep. Variable:                 Profit   R-squared:                       0.042\n",
       "Model:                            OLS   Adj. R-squared:                  0.022\n",
       "Method:                 Least Squares   F-statistic:                     2.080\n",
       "Date:                Thu, 03 Nov 2022   Prob (F-statistic):              0.156\n",
       "Time:                        23:58:27   Log-Likelihood:                -584.90\n",
       "No. Observations:                  49   AIC:                             1174.\n",
       "Df Residuals:                      47   BIC:                             1178.\n",
       "Df Model:                           1                                         \n",
       "Covariance Type:            nonrobust                                         \n",
       "==============================================================================\n",
       "                 coef    std err          t      P>|t|      [0.025      0.975]\n",
       "------------------------------------------------------------------------------\n",
       "Intercept   8.029e+04    2.4e+04      3.346      0.002     3.2e+04    1.29e+05\n",
       "Admin_Exp      0.2776      0.193      1.442      0.156      -0.110       0.665\n",
       "==============================================================================\n",
       "Omnibus:                        1.016   Durbin-Watson:                   0.084\n",
       "Prob(Omnibus):                  0.602   Jarque-Bera (JB):                1.052\n",
       "Skew:                           0.310   Prob(JB):                        0.591\n",
       "Kurtosis:                       2.639   Cond. No.                     5.54e+05\n",
       "==============================================================================\n",
       "\n",
       "Notes:\n",
       "[1] Standard Errors assume that the covariance matrix of the errors is correctly specified.\n",
       "[2] The condition number is large, 5.54e+05. This might indicate that there are\n",
       "strong multicollinearity or other numerical problems.\n",
       "\"\"\""
      ]
     },
     "execution_count": 53,
     "metadata": {},
     "output_type": "execute_result"
    }
   ],
   "source": [
    "Slr_Admin.summary()"
   ]
  },
  {
   "cell_type": "markdown",
   "id": "cd32bd25",
   "metadata": {
    "ExecuteTime": {
     "end_time": "2022-10-26T13:10:09.416650Z",
     "start_time": "2022-10-26T13:10:09.398656Z"
    }
   },
   "source": [
    "#### As the P-value>0.05, Administration expenditure is insignificant  to the model."
   ]
  },
  {
   "cell_type": "markdown",
   "id": "fb2af513",
   "metadata": {},
   "source": [
    "#### Check for Significance of  Marketing Expenditure"
   ]
  },
  {
   "cell_type": "code",
   "execution_count": 54,
   "id": "a02f0206",
   "metadata": {
    "ExecuteTime": {
     "end_time": "2022-11-03T18:28:27.425553Z",
     "start_time": "2022-11-03T18:28:27.398567Z"
    }
   },
   "outputs": [],
   "source": [
    "Slr_Mktg = smf.ols(\"Profit~Mktg_Exp\",data=stup_pft4).fit()"
   ]
  },
  {
   "cell_type": "code",
   "execution_count": 55,
   "id": "7be83241",
   "metadata": {
    "ExecuteTime": {
     "end_time": "2022-11-03T18:28:27.455995Z",
     "start_time": "2022-11-03T18:28:27.428555Z"
    }
   },
   "outputs": [
    {
     "data": {
      "text/html": [
       "<table class=\"simpletable\">\n",
       "<caption>OLS Regression Results</caption>\n",
       "<tr>\n",
       "  <th>Dep. Variable:</th>         <td>Profit</td>      <th>  R-squared:         </th> <td>   0.547</td>\n",
       "</tr>\n",
       "<tr>\n",
       "  <th>Model:</th>                   <td>OLS</td>       <th>  Adj. R-squared:    </th> <td>   0.537</td>\n",
       "</tr>\n",
       "<tr>\n",
       "  <th>Method:</th>             <td>Least Squares</td>  <th>  F-statistic:       </th> <td>   56.66</td>\n",
       "</tr>\n",
       "<tr>\n",
       "  <th>Date:</th>             <td>Thu, 03 Nov 2022</td> <th>  Prob (F-statistic):</th> <td>1.30e-09</td>\n",
       "</tr>\n",
       "<tr>\n",
       "  <th>Time:</th>                 <td>23:58:27</td>     <th>  Log-Likelihood:    </th> <td> -566.59</td>\n",
       "</tr>\n",
       "<tr>\n",
       "  <th>No. Observations:</th>      <td>    49</td>      <th>  AIC:               </th> <td>   1137.</td>\n",
       "</tr>\n",
       "<tr>\n",
       "  <th>Df Residuals:</th>          <td>    47</td>      <th>  BIC:               </th> <td>   1141.</td>\n",
       "</tr>\n",
       "<tr>\n",
       "  <th>Df Model:</th>              <td>     1</td>      <th>                     </th>     <td> </td>   \n",
       "</tr>\n",
       "<tr>\n",
       "  <th>Covariance Type:</th>      <td>nonrobust</td>    <th>                     </th>     <td> </td>   \n",
       "</tr>\n",
       "</table>\n",
       "<table class=\"simpletable\">\n",
       "<tr>\n",
       "      <td></td>         <th>coef</th>     <th>std err</th>      <th>t</th>      <th>P>|t|</th>  <th>[0.025</th>    <th>0.975]</th>  \n",
       "</tr>\n",
       "<tr>\n",
       "  <th>Intercept</th> <td> 6.406e+04</td> <td> 7601.574</td> <td>    8.428</td> <td> 0.000</td> <td> 4.88e+04</td> <td> 7.94e+04</td>\n",
       "</tr>\n",
       "<tr>\n",
       "  <th>Mktg_Exp</th>  <td>    0.2329</td> <td>    0.031</td> <td>    7.527</td> <td> 0.000</td> <td>    0.171</td> <td>    0.295</td>\n",
       "</tr>\n",
       "</table>\n",
       "<table class=\"simpletable\">\n",
       "<tr>\n",
       "  <th>Omnibus:</th>       <td> 4.458</td> <th>  Durbin-Watson:     </th> <td>   1.140</td>\n",
       "</tr>\n",
       "<tr>\n",
       "  <th>Prob(Omnibus):</th> <td> 0.108</td> <th>  Jarque-Bera (JB):  </th> <td>   4.096</td>\n",
       "</tr>\n",
       "<tr>\n",
       "  <th>Skew:</th>          <td>-0.303</td> <th>  Prob(JB):          </th> <td>   0.129</td>\n",
       "</tr>\n",
       "<tr>\n",
       "  <th>Kurtosis:</th>      <td> 4.281</td> <th>  Cond. No.          </th> <td>5.03e+05</td>\n",
       "</tr>\n",
       "</table><br/><br/>Notes:<br/>[1] Standard Errors assume that the covariance matrix of the errors is correctly specified.<br/>[2] The condition number is large, 5.03e+05. This might indicate that there are<br/>strong multicollinearity or other numerical problems."
      ],
      "text/plain": [
       "<class 'statsmodels.iolib.summary.Summary'>\n",
       "\"\"\"\n",
       "                            OLS Regression Results                            \n",
       "==============================================================================\n",
       "Dep. Variable:                 Profit   R-squared:                       0.547\n",
       "Model:                            OLS   Adj. R-squared:                  0.537\n",
       "Method:                 Least Squares   F-statistic:                     56.66\n",
       "Date:                Thu, 03 Nov 2022   Prob (F-statistic):           1.30e-09\n",
       "Time:                        23:58:27   Log-Likelihood:                -566.59\n",
       "No. Observations:                  49   AIC:                             1137.\n",
       "Df Residuals:                      47   BIC:                             1141.\n",
       "Df Model:                           1                                         \n",
       "Covariance Type:            nonrobust                                         \n",
       "==============================================================================\n",
       "                 coef    std err          t      P>|t|      [0.025      0.975]\n",
       "------------------------------------------------------------------------------\n",
       "Intercept   6.406e+04   7601.574      8.428      0.000    4.88e+04    7.94e+04\n",
       "Mktg_Exp       0.2329      0.031      7.527      0.000       0.171       0.295\n",
       "==============================================================================\n",
       "Omnibus:                        4.458   Durbin-Watson:                   1.140\n",
       "Prob(Omnibus):                  0.108   Jarque-Bera (JB):                4.096\n",
       "Skew:                          -0.303   Prob(JB):                        0.129\n",
       "Kurtosis:                       4.281   Cond. No.                     5.03e+05\n",
       "==============================================================================\n",
       "\n",
       "Notes:\n",
       "[1] Standard Errors assume that the covariance matrix of the errors is correctly specified.\n",
       "[2] The condition number is large, 5.03e+05. This might indicate that there are\n",
       "strong multicollinearity or other numerical problems.\n",
       "\"\"\""
      ]
     },
     "execution_count": 55,
     "metadata": {},
     "output_type": "execute_result"
    }
   ],
   "source": [
    "Slr_Mktg.summary()"
   ]
  },
  {
   "cell_type": "markdown",
   "id": "0a45271a",
   "metadata": {},
   "source": [
    "#### As the P-value<0.05, Marketing expenditure is significant  to the model."
   ]
  },
  {
   "cell_type": "markdown",
   "id": "a4dcb122",
   "metadata": {},
   "source": [
    "#### The RnD expenditure and Marketing expenditure are independently significant. \n",
    "#### Let us see whether they are combinedly showing the same."
   ]
  },
  {
   "cell_type": "markdown",
   "id": "636645d0",
   "metadata": {
    "ExecuteTime": {
     "end_time": "2022-10-26T13:38:49.222195Z",
     "start_time": "2022-10-26T13:38:49.207145Z"
    }
   },
   "source": [
    "#### Combination of R&D expenditure and Marketing expenditure"
   ]
  },
  {
   "cell_type": "code",
   "execution_count": 56,
   "id": "6ee3f18b",
   "metadata": {
    "ExecuteTime": {
     "end_time": "2022-11-03T18:28:27.472005Z",
     "start_time": "2022-11-03T18:28:27.457990Z"
    }
   },
   "outputs": [],
   "source": [
    "RnD_Mktg = smf.ols(\"Profit~RnD_Exp+Mktg_Exp\",data=stup_pft4).fit()"
   ]
  },
  {
   "cell_type": "code",
   "execution_count": 57,
   "id": "67710ed5",
   "metadata": {
    "ExecuteTime": {
     "end_time": "2022-11-03T18:28:27.503922Z",
     "start_time": "2022-11-03T18:28:27.476007Z"
    }
   },
   "outputs": [
    {
     "data": {
      "text/html": [
       "<table class=\"simpletable\">\n",
       "<caption>OLS Regression Results</caption>\n",
       "<tr>\n",
       "  <th>Dep. Variable:</th>         <td>Profit</td>      <th>  R-squared:         </th> <td>   0.961</td>\n",
       "</tr>\n",
       "<tr>\n",
       "  <th>Model:</th>                   <td>OLS</td>       <th>  Adj. R-squared:    </th> <td>   0.959</td>\n",
       "</tr>\n",
       "<tr>\n",
       "  <th>Method:</th>             <td>Least Squares</td>  <th>  F-statistic:       </th> <td>   568.0</td>\n",
       "</tr>\n",
       "<tr>\n",
       "  <th>Date:</th>             <td>Thu, 03 Nov 2022</td> <th>  Prob (F-statistic):</th> <td>3.74e-33</td>\n",
       "</tr>\n",
       "<tr>\n",
       "  <th>Time:</th>                 <td>23:58:27</td>     <th>  Log-Likelihood:    </th> <td> -506.43</td>\n",
       "</tr>\n",
       "<tr>\n",
       "  <th>No. Observations:</th>      <td>    49</td>      <th>  AIC:               </th> <td>   1019.</td>\n",
       "</tr>\n",
       "<tr>\n",
       "  <th>Df Residuals:</th>          <td>    46</td>      <th>  BIC:               </th> <td>   1025.</td>\n",
       "</tr>\n",
       "<tr>\n",
       "  <th>Df Model:</th>              <td>     2</td>      <th>                     </th>     <td> </td>   \n",
       "</tr>\n",
       "<tr>\n",
       "  <th>Covariance Type:</th>      <td>nonrobust</td>    <th>                     </th>     <td> </td>   \n",
       "</tr>\n",
       "</table>\n",
       "<table class=\"simpletable\">\n",
       "<tr>\n",
       "      <td></td>         <th>coef</th>     <th>std err</th>      <th>t</th>      <th>P>|t|</th>  <th>[0.025</th>    <th>0.975]</th>  \n",
       "</tr>\n",
       "<tr>\n",
       "  <th>Intercept</th> <td> 4.979e+04</td> <td> 2341.584</td> <td>   21.261</td> <td> 0.000</td> <td> 4.51e+04</td> <td> 5.45e+04</td>\n",
       "</tr>\n",
       "<tr>\n",
       "  <th>RnD_Exp</th>   <td>    0.7754</td> <td>    0.035</td> <td>   22.136</td> <td> 0.000</td> <td>    0.705</td> <td>    0.846</td>\n",
       "</tr>\n",
       "<tr>\n",
       "  <th>Mktg_Exp</th>  <td>    0.0274</td> <td>    0.013</td> <td>    2.104</td> <td> 0.041</td> <td>    0.001</td> <td>    0.054</td>\n",
       "</tr>\n",
       "</table>\n",
       "<table class=\"simpletable\">\n",
       "<tr>\n",
       "  <th>Omnibus:</th>       <td> 0.082</td> <th>  Durbin-Watson:     </th> <td>   1.546</td>\n",
       "</tr>\n",
       "<tr>\n",
       "  <th>Prob(Omnibus):</th> <td> 0.960</td> <th>  Jarque-Bera (JB):  </th> <td>   0.273</td>\n",
       "</tr>\n",
       "<tr>\n",
       "  <th>Skew:</th>          <td>-0.051</td> <th>  Prob(JB):          </th> <td>   0.872</td>\n",
       "</tr>\n",
       "<tr>\n",
       "  <th>Kurtosis:</th>      <td> 2.649</td> <th>  Cond. No.          </th> <td>5.52e+05</td>\n",
       "</tr>\n",
       "</table><br/><br/>Notes:<br/>[1] Standard Errors assume that the covariance matrix of the errors is correctly specified.<br/>[2] The condition number is large, 5.52e+05. This might indicate that there are<br/>strong multicollinearity or other numerical problems."
      ],
      "text/plain": [
       "<class 'statsmodels.iolib.summary.Summary'>\n",
       "\"\"\"\n",
       "                            OLS Regression Results                            \n",
       "==============================================================================\n",
       "Dep. Variable:                 Profit   R-squared:                       0.961\n",
       "Model:                            OLS   Adj. R-squared:                  0.959\n",
       "Method:                 Least Squares   F-statistic:                     568.0\n",
       "Date:                Thu, 03 Nov 2022   Prob (F-statistic):           3.74e-33\n",
       "Time:                        23:58:27   Log-Likelihood:                -506.43\n",
       "No. Observations:                  49   AIC:                             1019.\n",
       "Df Residuals:                      46   BIC:                             1025.\n",
       "Df Model:                           2                                         \n",
       "Covariance Type:            nonrobust                                         \n",
       "==============================================================================\n",
       "                 coef    std err          t      P>|t|      [0.025      0.975]\n",
       "------------------------------------------------------------------------------\n",
       "Intercept   4.979e+04   2341.584     21.261      0.000    4.51e+04    5.45e+04\n",
       "RnD_Exp        0.7754      0.035     22.136      0.000       0.705       0.846\n",
       "Mktg_Exp       0.0274      0.013      2.104      0.041       0.001       0.054\n",
       "==============================================================================\n",
       "Omnibus:                        0.082   Durbin-Watson:                   1.546\n",
       "Prob(Omnibus):                  0.960   Jarque-Bera (JB):                0.273\n",
       "Skew:                          -0.051   Prob(JB):                        0.872\n",
       "Kurtosis:                       2.649   Cond. No.                     5.52e+05\n",
       "==============================================================================\n",
       "\n",
       "Notes:\n",
       "[1] Standard Errors assume that the covariance matrix of the errors is correctly specified.\n",
       "[2] The condition number is large, 5.52e+05. This might indicate that there are\n",
       "strong multicollinearity or other numerical problems.\n",
       "\"\"\""
      ]
     },
     "execution_count": 57,
     "metadata": {},
     "output_type": "execute_result"
    }
   ],
   "source": [
    "RnD_Mktg.summary()"
   ]
  },
  {
   "cell_type": "code",
   "execution_count": 58,
   "id": "8666a33a",
   "metadata": {
    "ExecuteTime": {
     "end_time": "2022-11-03T18:28:27.518921Z",
     "start_time": "2022-11-03T18:28:27.506912Z"
    },
    "scrolled": true
   },
   "outputs": [
    {
     "data": {
      "text/plain": [
       "7691.884748549171"
      ]
     },
     "execution_count": 58,
     "metadata": {},
     "output_type": "execute_result"
    }
   ],
   "source": [
    "# Root Mean Square Error(RMSE)\n",
    "rmse_RnD_Mktg = np.sqrt(RnD_Mktg.mse_resid)\n",
    "rmse_RnD_Mktg"
   ]
  },
  {
   "cell_type": "markdown",
   "id": "28156a79",
   "metadata": {
    "ExecuteTime": {
     "end_time": "2022-10-28T14:07:42.777966Z",
     "start_time": "2022-10-28T14:07:42.757022Z"
    }
   },
   "source": [
    "#### The above model is showing good R² value and both the variables are significant to the model, as the P-values are <0.05. However check for multicollinearity by calculating Variance Inflation factor."
   ]
  },
  {
   "cell_type": "markdown",
   "id": "4e8206e3",
   "metadata": {},
   "source": [
    "### Step-8 : Calculate Variance Inflation Factor"
   ]
  },
  {
   "cell_type": "code",
   "execution_count": 59,
   "id": "e3b527d0",
   "metadata": {
    "ExecuteTime": {
     "end_time": "2022-11-03T18:28:27.549430Z",
     "start_time": "2022-11-03T18:28:27.521873Z"
    }
   },
   "outputs": [
    {
     "data": {
      "text/plain": [
       "2.3777540899785308"
      ]
     },
     "execution_count": 59,
     "metadata": {},
     "output_type": "execute_result"
    }
   ],
   "source": [
    "rsq_RnD = smf.ols('RnD_Exp~Mktg_Exp+Admin_Exp',data=stup_pft4).fit().rsquared  \n",
    "vif_RnD = 1/(1-rsq_RnD)\n",
    "vif_RnD"
   ]
  },
  {
   "cell_type": "code",
   "execution_count": 60,
   "id": "a5229fec",
   "metadata": {
    "ExecuteTime": {
     "end_time": "2022-11-03T18:28:27.581303Z",
     "start_time": "2022-11-03T18:28:27.551350Z"
    }
   },
   "outputs": [
    {
     "data": {
      "text/plain": [
       "2.2399568221016826"
      ]
     },
     "execution_count": 60,
     "metadata": {},
     "output_type": "execute_result"
    }
   ],
   "source": [
    "rsq_Mktg = smf.ols('Mktg_Exp~RnD_Exp+Admin_Exp',data=stup_pft4).fit().rsquared  \n",
    "vif_Mktg = 1/(1-rsq_Mktg)\n",
    "vif_Mktg"
   ]
  },
  {
   "cell_type": "markdown",
   "id": "8a0732b2",
   "metadata": {},
   "source": [
    "#### We have to remove the variable which is having the highest Variance Inflation factor(VIF). But here both the variables are having almost same VIF value.\n",
    "#### So, Build two models eliminating one variable in each model."
   ]
  },
  {
   "cell_type": "code",
   "execution_count": 61,
   "id": "d1b35963",
   "metadata": {
    "ExecuteTime": {
     "end_time": "2022-11-03T18:28:27.613184Z",
     "start_time": "2022-11-03T18:28:27.584262Z"
    }
   },
   "outputs": [],
   "source": [
    "RnD_Admin = smf.ols(\"Profit~RnD_Exp+Admin_Exp\",data=stup_pft4).fit()"
   ]
  },
  {
   "cell_type": "code",
   "execution_count": 62,
   "id": "fe3a3f3a",
   "metadata": {
    "ExecuteTime": {
     "end_time": "2022-11-03T18:28:27.644623Z",
     "start_time": "2022-11-03T18:28:27.615181Z"
    }
   },
   "outputs": [
    {
     "data": {
      "text/html": [
       "<table class=\"simpletable\">\n",
       "<caption>OLS Regression Results</caption>\n",
       "<tr>\n",
       "  <th>Dep. Variable:</th>         <td>Profit</td>      <th>  R-squared:         </th> <td>   0.958</td>\n",
       "</tr>\n",
       "<tr>\n",
       "  <th>Model:</th>                   <td>OLS</td>       <th>  Adj. R-squared:    </th> <td>   0.957</td>\n",
       "</tr>\n",
       "<tr>\n",
       "  <th>Method:</th>             <td>Least Squares</td>  <th>  F-statistic:       </th> <td>   530.6</td>\n",
       "</tr>\n",
       "<tr>\n",
       "  <th>Date:</th>             <td>Thu, 03 Nov 2022</td> <th>  Prob (F-statistic):</th> <td>1.69e-32</td>\n",
       "</tr>\n",
       "<tr>\n",
       "  <th>Time:</th>                 <td>23:58:27</td>     <th>  Log-Likelihood:    </th> <td> -508.03</td>\n",
       "</tr>\n",
       "<tr>\n",
       "  <th>No. Observations:</th>      <td>    49</td>      <th>  AIC:               </th> <td>   1022.</td>\n",
       "</tr>\n",
       "<tr>\n",
       "  <th>Df Residuals:</th>          <td>    46</td>      <th>  BIC:               </th> <td>   1028.</td>\n",
       "</tr>\n",
       "<tr>\n",
       "  <th>Df Model:</th>              <td>     2</td>      <th>                     </th>     <td> </td>   \n",
       "</tr>\n",
       "<tr>\n",
       "  <th>Covariance Type:</th>      <td>nonrobust</td>    <th>                     </th>     <td> </td>   \n",
       "</tr>\n",
       "</table>\n",
       "<table class=\"simpletable\">\n",
       "<tr>\n",
       "      <td></td>         <th>coef</th>     <th>std err</th>      <th>t</th>      <th>P>|t|</th>  <th>[0.025</th>    <th>0.975]</th>  \n",
       "</tr>\n",
       "<tr>\n",
       "  <th>Intercept</th> <td> 5.682e+04</td> <td> 5105.017</td> <td>   11.131</td> <td> 0.000</td> <td> 4.65e+04</td> <td> 6.71e+04</td>\n",
       "</tr>\n",
       "<tr>\n",
       "  <th>RnD_Exp</th>   <td>    0.8349</td> <td>    0.026</td> <td>   31.847</td> <td> 0.000</td> <td>    0.782</td> <td>    0.888</td>\n",
       "</tr>\n",
       "<tr>\n",
       "  <th>Admin_Exp</th> <td>   -0.0464</td> <td>    0.042</td> <td>   -1.110</td> <td> 0.273</td> <td>   -0.131</td> <td>    0.038</td>\n",
       "</tr>\n",
       "</table>\n",
       "<table class=\"simpletable\">\n",
       "<tr>\n",
       "  <th>Omnibus:</th>       <td> 0.444</td> <th>  Durbin-Watson:     </th> <td>   1.498</td>\n",
       "</tr>\n",
       "<tr>\n",
       "  <th>Prob(Omnibus):</th> <td> 0.801</td> <th>  Jarque-Bera (JB):  </th> <td>   0.245</td>\n",
       "</tr>\n",
       "<tr>\n",
       "  <th>Skew:</th>          <td>-0.173</td> <th>  Prob(JB):          </th> <td>   0.885</td>\n",
       "</tr>\n",
       "<tr>\n",
       "  <th>Kurtosis:</th>      <td> 2.972</td> <th>  Cond. No.          </th> <td>6.64e+05</td>\n",
       "</tr>\n",
       "</table><br/><br/>Notes:<br/>[1] Standard Errors assume that the covariance matrix of the errors is correctly specified.<br/>[2] The condition number is large, 6.64e+05. This might indicate that there are<br/>strong multicollinearity or other numerical problems."
      ],
      "text/plain": [
       "<class 'statsmodels.iolib.summary.Summary'>\n",
       "\"\"\"\n",
       "                            OLS Regression Results                            \n",
       "==============================================================================\n",
       "Dep. Variable:                 Profit   R-squared:                       0.958\n",
       "Model:                            OLS   Adj. R-squared:                  0.957\n",
       "Method:                 Least Squares   F-statistic:                     530.6\n",
       "Date:                Thu, 03 Nov 2022   Prob (F-statistic):           1.69e-32\n",
       "Time:                        23:58:27   Log-Likelihood:                -508.03\n",
       "No. Observations:                  49   AIC:                             1022.\n",
       "Df Residuals:                      46   BIC:                             1028.\n",
       "Df Model:                           2                                         \n",
       "Covariance Type:            nonrobust                                         \n",
       "==============================================================================\n",
       "                 coef    std err          t      P>|t|      [0.025      0.975]\n",
       "------------------------------------------------------------------------------\n",
       "Intercept   5.682e+04   5105.017     11.131      0.000    4.65e+04    6.71e+04\n",
       "RnD_Exp        0.8349      0.026     31.847      0.000       0.782       0.888\n",
       "Admin_Exp     -0.0464      0.042     -1.110      0.273      -0.131       0.038\n",
       "==============================================================================\n",
       "Omnibus:                        0.444   Durbin-Watson:                   1.498\n",
       "Prob(Omnibus):                  0.801   Jarque-Bera (JB):                0.245\n",
       "Skew:                          -0.173   Prob(JB):                        0.885\n",
       "Kurtosis:                       2.972   Cond. No.                     6.64e+05\n",
       "==============================================================================\n",
       "\n",
       "Notes:\n",
       "[1] Standard Errors assume that the covariance matrix of the errors is correctly specified.\n",
       "[2] The condition number is large, 6.64e+05. This might indicate that there are\n",
       "strong multicollinearity or other numerical problems.\n",
       "\"\"\""
      ]
     },
     "execution_count": 62,
     "metadata": {},
     "output_type": "execute_result"
    }
   ],
   "source": [
    "RnD_Admin.summary()"
   ]
  },
  {
   "cell_type": "code",
   "execution_count": 63,
   "id": "57f1d519",
   "metadata": {
    "ExecuteTime": {
     "end_time": "2022-11-03T18:28:27.660619Z",
     "start_time": "2022-11-03T18:28:27.647614Z"
    }
   },
   "outputs": [
    {
     "data": {
      "text/plain": [
       "7947.922013017297"
      ]
     },
     "execution_count": 63,
     "metadata": {},
     "output_type": "execute_result"
    }
   ],
   "source": [
    "# Root Mean Square Error(RMSE)\n",
    "rmse_RnD_Admin = np.sqrt(RnD_Admin.mse_resid)\n",
    "rmse_RnD_Admin"
   ]
  },
  {
   "cell_type": "code",
   "execution_count": 64,
   "id": "20e66766",
   "metadata": {
    "ExecuteTime": {
     "end_time": "2022-11-03T18:28:27.676536Z",
     "start_time": "2022-11-03T18:28:27.663571Z"
    }
   },
   "outputs": [],
   "source": [
    "Mktg_Admin = smf.ols(\"Profit~Mktg_Exp+Admin_Exp\",data=stup_pft4).fit()"
   ]
  },
  {
   "cell_type": "code",
   "execution_count": 65,
   "id": "f8d5883b",
   "metadata": {
    "ExecuteTime": {
     "end_time": "2022-11-03T18:28:27.708450Z",
     "start_time": "2022-11-03T18:28:27.679528Z"
    },
    "scrolled": true
   },
   "outputs": [
    {
     "data": {
      "text/html": [
       "<table class=\"simpletable\">\n",
       "<caption>OLS Regression Results</caption>\n",
       "<tr>\n",
       "  <th>Dep. Variable:</th>         <td>Profit</td>      <th>  R-squared:         </th> <td>   0.601</td>\n",
       "</tr>\n",
       "<tr>\n",
       "  <th>Model:</th>                   <td>OLS</td>       <th>  Adj. R-squared:    </th> <td>   0.584</td>\n",
       "</tr>\n",
       "<tr>\n",
       "  <th>Method:</th>             <td>Least Squares</td>  <th>  F-statistic:       </th> <td>   34.66</td>\n",
       "</tr>\n",
       "<tr>\n",
       "  <th>Date:</th>             <td>Thu, 03 Nov 2022</td> <th>  Prob (F-statistic):</th> <td>6.59e-10</td>\n",
       "</tr>\n",
       "<tr>\n",
       "  <th>Time:</th>                 <td>23:58:27</td>     <th>  Log-Likelihood:    </th> <td> -563.45</td>\n",
       "</tr>\n",
       "<tr>\n",
       "  <th>No. Observations:</th>      <td>    49</td>      <th>  AIC:               </th> <td>   1133.</td>\n",
       "</tr>\n",
       "<tr>\n",
       "  <th>Df Residuals:</th>          <td>    46</td>      <th>  BIC:               </th> <td>   1139.</td>\n",
       "</tr>\n",
       "<tr>\n",
       "  <th>Df Model:</th>              <td>     2</td>      <th>                     </th>     <td> </td>   \n",
       "</tr>\n",
       "<tr>\n",
       "  <th>Covariance Type:</th>      <td>nonrobust</td>    <th>                     </th>     <td> </td>   \n",
       "</tr>\n",
       "</table>\n",
       "<table class=\"simpletable\">\n",
       "<tr>\n",
       "      <td></td>         <th>coef</th>     <th>std err</th>      <th>t</th>      <th>P>|t|</th>  <th>[0.025</th>    <th>0.975]</th>  \n",
       "</tr>\n",
       "<tr>\n",
       "  <th>Intercept</th> <td> 2.519e+04</td> <td> 1.71e+04</td> <td>    1.474</td> <td> 0.147</td> <td>-9208.231</td> <td> 5.96e+04</td>\n",
       "</tr>\n",
       "<tr>\n",
       "  <th>Mktg_Exp</th>  <td>    0.2356</td> <td>    0.029</td> <td>    8.027</td> <td> 0.000</td> <td>    0.177</td> <td>    0.295</td>\n",
       "</tr>\n",
       "<tr>\n",
       "  <th>Admin_Exp</th> <td>    0.3152</td> <td>    0.126</td> <td>    2.508</td> <td> 0.016</td> <td>    0.062</td> <td>    0.568</td>\n",
       "</tr>\n",
       "</table>\n",
       "<table class=\"simpletable\">\n",
       "<tr>\n",
       "  <th>Omnibus:</th>       <td> 6.637</td> <th>  Durbin-Watson:     </th> <td>   1.193</td>\n",
       "</tr>\n",
       "<tr>\n",
       "  <th>Prob(Omnibus):</th> <td> 0.036</td> <th>  Jarque-Bera (JB):  </th> <td>   7.219</td>\n",
       "</tr>\n",
       "<tr>\n",
       "  <th>Skew:</th>          <td>-0.454</td> <th>  Prob(JB):          </th> <td>  0.0271</td>\n",
       "</tr>\n",
       "<tr>\n",
       "  <th>Kurtosis:</th>      <td> 4.646</td> <th>  Cond. No.          </th> <td>1.31e+06</td>\n",
       "</tr>\n",
       "</table><br/><br/>Notes:<br/>[1] Standard Errors assume that the covariance matrix of the errors is correctly specified.<br/>[2] The condition number is large, 1.31e+06. This might indicate that there are<br/>strong multicollinearity or other numerical problems."
      ],
      "text/plain": [
       "<class 'statsmodels.iolib.summary.Summary'>\n",
       "\"\"\"\n",
       "                            OLS Regression Results                            \n",
       "==============================================================================\n",
       "Dep. Variable:                 Profit   R-squared:                       0.601\n",
       "Model:                            OLS   Adj. R-squared:                  0.584\n",
       "Method:                 Least Squares   F-statistic:                     34.66\n",
       "Date:                Thu, 03 Nov 2022   Prob (F-statistic):           6.59e-10\n",
       "Time:                        23:58:27   Log-Likelihood:                -563.45\n",
       "No. Observations:                  49   AIC:                             1133.\n",
       "Df Residuals:                      46   BIC:                             1139.\n",
       "Df Model:                           2                                         \n",
       "Covariance Type:            nonrobust                                         \n",
       "==============================================================================\n",
       "                 coef    std err          t      P>|t|      [0.025      0.975]\n",
       "------------------------------------------------------------------------------\n",
       "Intercept   2.519e+04   1.71e+04      1.474      0.147   -9208.231    5.96e+04\n",
       "Mktg_Exp       0.2356      0.029      8.027      0.000       0.177       0.295\n",
       "Admin_Exp      0.3152      0.126      2.508      0.016       0.062       0.568\n",
       "==============================================================================\n",
       "Omnibus:                        6.637   Durbin-Watson:                   1.193\n",
       "Prob(Omnibus):                  0.036   Jarque-Bera (JB):                7.219\n",
       "Skew:                          -0.454   Prob(JB):                       0.0271\n",
       "Kurtosis:                       4.646   Cond. No.                     1.31e+06\n",
       "==============================================================================\n",
       "\n",
       "Notes:\n",
       "[1] Standard Errors assume that the covariance matrix of the errors is correctly specified.\n",
       "[2] The condition number is large, 1.31e+06. This might indicate that there are\n",
       "strong multicollinearity or other numerical problems.\n",
       "\"\"\""
      ]
     },
     "execution_count": 65,
     "metadata": {},
     "output_type": "execute_result"
    }
   ],
   "source": [
    "Mktg_Admin.summary()"
   ]
  },
  {
   "cell_type": "code",
   "execution_count": 66,
   "id": "8a9f0f1a",
   "metadata": {
    "ExecuteTime": {
     "end_time": "2022-11-03T18:28:27.724410Z",
     "start_time": "2022-11-03T18:28:27.710447Z"
    }
   },
   "outputs": [
    {
     "data": {
      "text/plain": [
       "24626.081616195454"
      ]
     },
     "execution_count": 66,
     "metadata": {},
     "output_type": "execute_result"
    }
   ],
   "source": [
    "# Root Mean Square Error(RMSE)\n",
    "rmse_Mktg_Admin = np.sqrt(Mktg_Admin.mse_resid)\n",
    "rmse_Mktg_Admin"
   ]
  },
  {
   "cell_type": "markdown",
   "id": "ca6534c1",
   "metadata": {
    "ExecuteTime": {
     "end_time": "2022-10-27T12:20:45.337446Z",
     "start_time": "2022-10-27T12:20:45.325428Z"
    }
   },
   "source": [
    "#### Therefore, as the R² value for R&D feature is greater than Marketing feature, include R&D feature and remove Marketing feature."
   ]
  },
  {
   "cell_type": "markdown",
   "id": "94d30661",
   "metadata": {},
   "source": [
    "#### In the R&D feature model, the Administration feature shows insignificance. So eliminate it and build a model with only R&D feature."
   ]
  },
  {
   "cell_type": "code",
   "execution_count": 67,
   "id": "62d1cfe8",
   "metadata": {
    "ExecuteTime": {
     "end_time": "2022-11-03T18:28:27.756380Z",
     "start_time": "2022-11-03T18:28:27.728402Z"
    }
   },
   "outputs": [],
   "source": [
    "RnD = smf.ols(\"Profit~RnD_Exp\",data=stup_pft4).fit()"
   ]
  },
  {
   "cell_type": "code",
   "execution_count": 68,
   "id": "0212022c",
   "metadata": {
    "ExecuteTime": {
     "end_time": "2022-11-03T18:28:27.787297Z",
     "start_time": "2022-11-03T18:28:27.762367Z"
    },
    "scrolled": true
   },
   "outputs": [
    {
     "data": {
      "text/html": [
       "<table class=\"simpletable\">\n",
       "<caption>OLS Regression Results</caption>\n",
       "<tr>\n",
       "  <th>Dep. Variable:</th>         <td>Profit</td>      <th>  R-squared:         </th> <td>   0.957</td>\n",
       "</tr>\n",
       "<tr>\n",
       "  <th>Model:</th>                   <td>OLS</td>       <th>  Adj. R-squared:    </th> <td>   0.956</td>\n",
       "</tr>\n",
       "<tr>\n",
       "  <th>Method:</th>             <td>Least Squares</td>  <th>  F-statistic:       </th> <td>   1055.</td>\n",
       "</tr>\n",
       "<tr>\n",
       "  <th>Date:</th>             <td>Thu, 03 Nov 2022</td> <th>  Prob (F-statistic):</th> <td>7.56e-34</td>\n",
       "</tr>\n",
       "<tr>\n",
       "  <th>Time:</th>                 <td>23:58:27</td>     <th>  Log-Likelihood:    </th> <td> -508.68</td>\n",
       "</tr>\n",
       "<tr>\n",
       "  <th>No. Observations:</th>      <td>    49</td>      <th>  AIC:               </th> <td>   1021.</td>\n",
       "</tr>\n",
       "<tr>\n",
       "  <th>Df Residuals:</th>          <td>    47</td>      <th>  BIC:               </th> <td>   1025.</td>\n",
       "</tr>\n",
       "<tr>\n",
       "  <th>Df Model:</th>              <td>     1</td>      <th>                     </th>     <td> </td>   \n",
       "</tr>\n",
       "<tr>\n",
       "  <th>Covariance Type:</th>      <td>nonrobust</td>    <th>                     </th>     <td> </td>   \n",
       "</tr>\n",
       "</table>\n",
       "<table class=\"simpletable\">\n",
       "<tr>\n",
       "      <td></td>         <th>coef</th>     <th>std err</th>      <th>t</th>      <th>P>|t|</th>  <th>[0.025</th>    <th>0.975]</th>  \n",
       "</tr>\n",
       "<tr>\n",
       "  <th>Intercept</th> <td> 5.172e+04</td> <td> 2229.914</td> <td>   23.195</td> <td> 0.000</td> <td> 4.72e+04</td> <td> 5.62e+04</td>\n",
       "</tr>\n",
       "<tr>\n",
       "  <th>RnD_Exp</th>   <td>    0.8278</td> <td>    0.025</td> <td>   32.477</td> <td> 0.000</td> <td>    0.777</td> <td>    0.879</td>\n",
       "</tr>\n",
       "</table>\n",
       "<table class=\"simpletable\">\n",
       "<tr>\n",
       "  <th>Omnibus:</th>       <td> 0.070</td> <th>  Durbin-Watson:     </th> <td>   1.372</td>\n",
       "</tr>\n",
       "<tr>\n",
       "  <th>Prob(Omnibus):</th> <td> 0.966</td> <th>  Jarque-Bera (JB):  </th> <td>   0.203</td>\n",
       "</tr>\n",
       "<tr>\n",
       "  <th>Skew:</th>          <td>-0.080</td> <th>  Prob(JB):          </th> <td>   0.903</td>\n",
       "</tr>\n",
       "<tr>\n",
       "  <th>Kurtosis:</th>      <td> 2.728</td> <th>  Cond. No.          </th> <td>1.71e+05</td>\n",
       "</tr>\n",
       "</table><br/><br/>Notes:<br/>[1] Standard Errors assume that the covariance matrix of the errors is correctly specified.<br/>[2] The condition number is large, 1.71e+05. This might indicate that there are<br/>strong multicollinearity or other numerical problems."
      ],
      "text/plain": [
       "<class 'statsmodels.iolib.summary.Summary'>\n",
       "\"\"\"\n",
       "                            OLS Regression Results                            \n",
       "==============================================================================\n",
       "Dep. Variable:                 Profit   R-squared:                       0.957\n",
       "Model:                            OLS   Adj. R-squared:                  0.956\n",
       "Method:                 Least Squares   F-statistic:                     1055.\n",
       "Date:                Thu, 03 Nov 2022   Prob (F-statistic):           7.56e-34\n",
       "Time:                        23:58:27   Log-Likelihood:                -508.68\n",
       "No. Observations:                  49   AIC:                             1021.\n",
       "Df Residuals:                      47   BIC:                             1025.\n",
       "Df Model:                           1                                         \n",
       "Covariance Type:            nonrobust                                         \n",
       "==============================================================================\n",
       "                 coef    std err          t      P>|t|      [0.025      0.975]\n",
       "------------------------------------------------------------------------------\n",
       "Intercept   5.172e+04   2229.914     23.195      0.000    4.72e+04    5.62e+04\n",
       "RnD_Exp        0.8278      0.025     32.477      0.000       0.777       0.879\n",
       "==============================================================================\n",
       "Omnibus:                        0.070   Durbin-Watson:                   1.372\n",
       "Prob(Omnibus):                  0.966   Jarque-Bera (JB):                0.203\n",
       "Skew:                          -0.080   Prob(JB):                        0.903\n",
       "Kurtosis:                       2.728   Cond. No.                     1.71e+05\n",
       "==============================================================================\n",
       "\n",
       "Notes:\n",
       "[1] Standard Errors assume that the covariance matrix of the errors is correctly specified.\n",
       "[2] The condition number is large, 1.71e+05. This might indicate that there are\n",
       "strong multicollinearity or other numerical problems.\n",
       "\"\"\""
      ]
     },
     "execution_count": 68,
     "metadata": {},
     "output_type": "execute_result"
    }
   ],
   "source": [
    "RnD.summary()"
   ]
  },
  {
   "cell_type": "code",
   "execution_count": 69,
   "id": "90f9ed87",
   "metadata": {
    "ExecuteTime": {
     "end_time": "2022-11-03T18:28:27.802270Z",
     "start_time": "2022-11-03T18:28:27.789292Z"
    }
   },
   "outputs": [
    {
     "data": {
      "text/plain": [
       "7967.4713794050385"
      ]
     },
     "execution_count": 69,
     "metadata": {},
     "output_type": "execute_result"
    }
   ],
   "source": [
    "# Root Mean Square Error(RMSE)\n",
    "rmse_RnD = np.sqrt(RnD.mse_resid)\n",
    "rmse_RnD"
   ]
  },
  {
   "cell_type": "markdown",
   "id": "88f0bd10",
   "metadata": {
    "ExecuteTime": {
     "end_time": "2022-10-21T15:07:39.709626Z",
     "start_time": "2022-10-21T15:07:39.701546Z"
    }
   },
   "source": [
    "### Step-9 : Final Results"
   ]
  },
  {
   "cell_type": "code",
   "execution_count": 70,
   "id": "1320d682",
   "metadata": {
    "ExecuteTime": {
     "end_time": "2022-11-03T18:28:27.832231Z",
     "start_time": "2022-11-03T18:28:27.805290Z"
    },
    "scrolled": true
   },
   "outputs": [
    {
     "data": {
      "text/html": [
       "<div>\n",
       "<style scoped>\n",
       "    .dataframe tbody tr th:only-of-type {\n",
       "        vertical-align: middle;\n",
       "    }\n",
       "\n",
       "    .dataframe tbody tr th {\n",
       "        vertical-align: top;\n",
       "    }\n",
       "\n",
       "    .dataframe thead th {\n",
       "        text-align: right;\n",
       "    }\n",
       "</style>\n",
       "<table border=\"1\" class=\"dataframe\">\n",
       "  <thead>\n",
       "    <tr style=\"text-align: right;\">\n",
       "      <th></th>\n",
       "      <th>MODEL</th>\n",
       "      <th>R²_Values</th>\n",
       "      <th>RMSE_Values</th>\n",
       "    </tr>\n",
       "  </thead>\n",
       "  <tbody>\n",
       "    <tr>\n",
       "      <th>0</th>\n",
       "      <td>Given data</td>\n",
       "      <td>0.950746</td>\n",
       "      <td>9232.334837</td>\n",
       "    </tr>\n",
       "    <tr>\n",
       "      <th>1</th>\n",
       "      <td>Mean Imputation model</td>\n",
       "      <td>0.911954</td>\n",
       "      <td>11570.325358</td>\n",
       "    </tr>\n",
       "    <tr>\n",
       "      <th>2</th>\n",
       "      <td>Median Imputation model</td>\n",
       "      <td>0.918296</td>\n",
       "      <td>11148.345424</td>\n",
       "    </tr>\n",
       "    <tr>\n",
       "      <th>3</th>\n",
       "      <td>After removing outlier</td>\n",
       "      <td>0.961316</td>\n",
       "      <td>7753.807752</td>\n",
       "    </tr>\n",
       "    <tr>\n",
       "      <th>4</th>\n",
       "      <td>Comb. of R&amp;D and Marketing</td>\n",
       "      <td>0.961086</td>\n",
       "      <td>7691.884749</td>\n",
       "    </tr>\n",
       "    <tr>\n",
       "      <th>5</th>\n",
       "      <td>Comb. of R&amp;D and Administration</td>\n",
       "      <td>0.958452</td>\n",
       "      <td>7947.922013</td>\n",
       "    </tr>\n",
       "    <tr>\n",
       "      <th>6</th>\n",
       "      <td>Comb. of Marketing and Administration</td>\n",
       "      <td>0.601127</td>\n",
       "      <td>24626.081616</td>\n",
       "    </tr>\n",
       "    <tr>\n",
       "      <th>7</th>\n",
       "      <td>Only R&amp;D</td>\n",
       "      <td>0.957340</td>\n",
       "      <td>7967.471379</td>\n",
       "    </tr>\n",
       "  </tbody>\n",
       "</table>\n",
       "</div>"
      ],
      "text/plain": [
       "                                   MODEL  R²_Values   RMSE_Values\n",
       "0                             Given data   0.950746   9232.334837\n",
       "1                  Mean Imputation model   0.911954  11570.325358\n",
       "2                Median Imputation model   0.918296  11148.345424\n",
       "3                 After removing outlier   0.961316   7753.807752\n",
       "4             Comb. of R&D and Marketing   0.961086   7691.884749\n",
       "5        Comb. of R&D and Administration   0.958452   7947.922013\n",
       "6  Comb. of Marketing and Administration   0.601127  24626.081616\n",
       "7                               Only R&D   0.957340   7967.471379"
      ]
     },
     "execution_count": 70,
     "metadata": {},
     "output_type": "execute_result"
    }
   ],
   "source": [
    "results = {\"MODEL\":pd.Series([\"Given data\",\"Mean Imputation model\",\"Median Imputation model\",\"After removing outlier\",\"Comb. of R&D and Marketing\",\"Comb. of R&D and Administration\",\"Comb. of Marketing and Administration\",\"Only R&D\"]),\n",
    "           \"R²_Values\":pd.Series([model.rsquared,model_1.rsquared,model_2.rsquared,model_3.rsquared,RnD_Mktg.rsquared,RnD_Admin.rsquared,Mktg_Admin.rsquared,RnD.rsquared]),\n",
    "           \"RMSE_Values\":pd.Series([rmse,rmse_1,rmse_2,rmse_3,rmse_RnD_Mktg,rmse_RnD_Admin,rmse_Mktg_Admin,rmse_RnD])\n",
    "          }\n",
    "result_table=pd.DataFrame(results)\n",
    "result_table "
   ]
  },
  {
   "cell_type": "code",
   "execution_count": 71,
   "id": "b9d3b731",
   "metadata": {
    "ExecuteTime": {
     "end_time": "2022-11-03T18:28:28.100618Z",
     "start_time": "2022-11-03T18:28:27.835216Z"
    }
   },
   "outputs": [
    {
     "data": {
      "image/png": "[encoded data removed]",
      "text/plain": [
       "<Figure size 432x288 with 1 Axes>"
      ]
     },
     "metadata": {},
     "output_type": "display_data"
    }
   ],
   "source": [
    "sb.barplot(x=result_table['R²_Values'],y=result_table['MODEL'])\n",
    "plt.title(\"R-squared values for different models\")\n",
    "plt.show()"
   ]
  },
  {
   "cell_type": "code",
   "execution_count": 72,
   "id": "9d4271aa",
   "metadata": {
    "ExecuteTime": {
     "end_time": "2022-11-03T18:28:28.323731Z",
     "start_time": "2022-11-03T18:28:28.102645Z"
    },
    "scrolled": true
   },
   "outputs": [
    {
     "data": {
      "image/png": "[encoded data removed]",
      "text/plain": [
       "<Figure size 432x288 with 1 Axes>"
      ]
     },
     "metadata": {},
     "output_type": "display_data"
    }
   ],
   "source": [
    "\n",
    "sb.barplot(x=result_table['RMSE_Values'],y=result_table['MODEL'])\n",
    "plt.title(\"RMSE values for different models\")\n",
    "plt.show()"
   ]
  },
  {
   "cell_type": "markdown",
   "id": "b0eac6a7",
   "metadata": {},
   "source": [
    "#### From the above results, we can see that the model using combination of R&D expenditure and Marketing feature gives the best R² value and less RMSE value\n",
    "#### Hence this model can be selected as our final model and used for predicting the profit."
   ]
  },
  {
   "cell_type": "markdown",
   "id": "d18d3b26",
   "metadata": {},
   "source": [
    "### Step-10 : Residual Analysis"
   ]
  },
  {
   "cell_type": "markdown",
   "id": "8a85459a",
   "metadata": {
    "ExecuteTime": {
     "end_time": "2022-10-29T09:19:25.797672Z",
     "start_time": "2022-10-29T09:19:25.766153Z"
    }
   },
   "source": [
    "#### Q-Q Plot"
   ]
  },
  {
   "cell_type": "code",
   "execution_count": 73,
   "id": "24ca71f7",
   "metadata": {
    "ExecuteTime": {
     "end_time": "2022-11-03T18:28:28.541984Z",
     "start_time": "2022-11-03T18:28:28.326685Z"
    }
   },
   "outputs": [
    {
     "data": {
      "image/png": "[encoded data removed]",
      "text/plain": [
       "<Figure size 432x288 with 1 Axes>"
      ]
     },
     "metadata": {},
     "output_type": "display_data"
    }
   ],
   "source": [
    "#Residuals values or errors\n",
    "sm.qqplot(RnD_Mktg.resid, line = 'q')\n",
    "plt.title('Normal Q-Q plot of residuals')\n",
    "plt.show()"
   ]
  },
  {
   "cell_type": "markdown",
   "id": "e18a6895",
   "metadata": {},
   "source": [
    "#### Test for Homoscedasticity"
   ]
  },
  {
   "cell_type": "code",
   "execution_count": 74,
   "id": "10b82446",
   "metadata": {
    "ExecuteTime": {
     "end_time": "2022-11-03T18:28:28.557043Z",
     "start_time": "2022-11-03T18:28:28.543979Z"
    }
   },
   "outputs": [],
   "source": [
    "def get_standardized_values( vals ):\n",
    "    return (vals - vals.mean())/vals.std()"
   ]
  },
  {
   "cell_type": "code",
   "execution_count": 75,
   "id": "4323f8b5",
   "metadata": {
    "ExecuteTime": {
     "end_time": "2022-11-03T18:28:28.757875Z",
     "start_time": "2022-11-03T18:28:28.560092Z"
    }
   },
   "outputs": [
    {
     "data": {
      "image/png": "[encoded data removed]",
      "text/plain": [
       "<Figure size 432x288 with 1 Axes>"
      ]
     },
     "metadata": {},
     "output_type": "display_data"
    }
   ],
   "source": [
    "plt.scatter(get_standardized_values(RnD_Mktg.fittedvalues), RnD_Mktg.resid_pearson)\n",
    "plt.title('Residual Plot')\n",
    "plt.xlabel('Standardized Fitted Values')\n",
    "plt.ylabel('Standardized Residual Values')\n",
    "plt.show()"
   ]
  },
  {
   "cell_type": "code",
   "execution_count": 76,
   "id": "dfd7c60b",
   "metadata": {
    "ExecuteTime": {
     "end_time": "2022-11-03T18:28:28.931866Z",
     "start_time": "2022-11-03T18:28:28.759871Z"
    }
   },
   "outputs": [
    {
     "data": {
      "image/png": "[encoded data removed]",
      "text/plain": [
       "<Figure size 432x288 with 1 Axes>"
      ]
     },
     "metadata": {},
     "output_type": "display_data"
    }
   ],
   "source": [
    "plt.plot(np.arange(len(stup_pft4)),RnD_Mktg.resid_pearson)\n",
    "plt.axhline(y=0,color='red')\n",
    "plt.xlabel(\"Observation Number\")\n",
    "plt.ylabel(\"Standardized Residual\") \n",
    "plt.show()"
   ]
  },
  {
   "cell_type": "code",
   "execution_count": 77,
   "id": "9846815a",
   "metadata": {
    "ExecuteTime": {
     "end_time": "2022-11-03T18:28:29.117910Z",
     "start_time": "2022-11-03T18:28:28.933963Z"
    }
   },
   "outputs": [
    {
     "data": {
      "image/png": "[encoded data removed]",
      "text/plain": [
       "<Figure size 432x288 with 1 Axes>"
      ]
     },
     "metadata": {},
     "output_type": "display_data"
    }
   ],
   "source": [
    "plt.scatter(np.arange(len(stup_pft4)),RnD_Mktg.resid_pearson)\n",
    "plt.axhline(y=0,color='red')\n",
    "plt.xlabel(\"Observation Number\")\n",
    "plt.ylabel(\"Standardized Residual\")\n",
    "plt.show()"
   ]
  },
  {
   "cell_type": "code",
   "execution_count": 78,
   "id": "ded7c12a",
   "metadata": {
    "ExecuteTime": {
     "end_time": "2022-11-03T18:28:29.291142Z",
     "start_time": "2022-11-03T18:28:29.119958Z"
    },
    "scrolled": false
   },
   "outputs": [
    {
     "data": {
      "image/png": "[encoded data removed]",
      "text/plain": [
       "<Figure size 432x288 with 1 Axes>"
      ]
     },
     "metadata": {},
     "output_type": "display_data"
    }
   ],
   "source": [
    "plt.hist(RnD_Mktg.resid_pearson)\n",
    "plt.show()"
   ]
  },
  {
   "cell_type": "markdown",
   "id": "81f77d4e",
   "metadata": {},
   "source": [
    "#### Residual VS Regressors"
   ]
  },
  {
   "cell_type": "code",
   "execution_count": 79,
   "id": "c72e0caf",
   "metadata": {
    "ExecuteTime": {
     "end_time": "2022-11-03T18:28:30.318741Z",
     "start_time": "2022-11-03T18:28:29.293101Z"
    }
   },
   "outputs": [
    {
     "name": "stdout",
     "output_type": "stream",
     "text": [
      "eval_env: 1\n"
     ]
    },
    {
     "data": {
      "image/png": "[encoded data removed]",
      "text/plain": [
       "<Figure size 1152x648 with 4 Axes>"
      ]
     },
     "metadata": {},
     "output_type": "display_data"
    }
   ],
   "source": [
    "fig = plt.figure(figsize = (16,9))\n",
    "plot_RnD = sm.graphics.plot_regress_exog(RnD_Mktg, 'RnD_Exp', fig=fig)\n",
    "plt.show()"
   ]
  },
  {
   "cell_type": "code",
   "execution_count": 80,
   "id": "d44d6df9",
   "metadata": {
    "ExecuteTime": {
     "end_time": "2022-11-03T18:28:31.427627Z",
     "start_time": "2022-11-03T18:28:30.320732Z"
    }
   },
   "outputs": [
    {
     "name": "stdout",
     "output_type": "stream",
     "text": [
      "eval_env: 1\n"
     ]
    },
    {
     "data": {
      "image/png": "[encoded data removed]",
      "text/plain": [
       "<Figure size 1152x648 with 4 Axes>"
      ]
     },
     "metadata": {},
     "output_type": "display_data"
    }
   ],
   "source": [
    "fig = plt.figure(figsize = (16,9))\n",
    "plot_RnD = sm.graphics.plot_regress_exog(RnD_Mktg, 'Mktg_Exp', fig=fig)\n",
    "plt.show()"
   ]
  },
  {
   "cell_type": "markdown",
   "id": "7668291e",
   "metadata": {},
   "source": [
    "### Step-11 : Detecting Influencers in the Model"
   ]
  },
  {
   "cell_type": "markdown",
   "id": "4c8429da",
   "metadata": {},
   "source": [
    "#### By using Cook's distance"
   ]
  },
  {
   "cell_type": "code",
   "execution_count": 81,
   "id": "dde7100a",
   "metadata": {
    "ExecuteTime": {
     "end_time": "2022-11-03T18:28:31.443555Z",
     "start_time": "2022-11-03T18:28:31.430583Z"
    }
   },
   "outputs": [],
   "source": [
    "influence_points=RnD_Mktg.get_influence()\n",
    "c, p_value=influence_points.cooks_distance"
   ]
  },
  {
   "cell_type": "code",
   "execution_count": 82,
   "id": "d1da45ba",
   "metadata": {
    "ExecuteTime": {
     "end_time": "2022-11-03T18:28:31.863565Z",
     "start_time": "2022-11-03T18:28:31.461039Z"
    },
    "scrolled": false
   },
   "outputs": [
    {
     "data": {
      "image/png": "[encoded data removed]",
      "text/plain": [
       "<Figure size 432x288 with 1 Axes>"
      ]
     },
     "metadata": {},
     "output_type": "display_data"
    }
   ],
   "source": [
    "# Leverage Value using High Influence Points : Points beyond Leverage_cutoff value are influencers\n",
    "influence_plot(RnD_Mktg)\n",
    "plt.show()"
   ]
  },
  {
   "cell_type": "markdown",
   "id": "47c3e418",
   "metadata": {},
   "source": [
    "#### Leverage Cuttoff Value = 3*(k+1)/n ; k = no.of features/columns & n = no. of datapoints"
   ]
  },
  {
   "cell_type": "code",
   "execution_count": 83,
   "id": "deb233b9",
   "metadata": {
    "ExecuteTime": {
     "end_time": "2022-11-03T18:28:31.879522Z",
     "start_time": "2022-11-03T18:28:31.866556Z"
    }
   },
   "outputs": [
    {
     "name": "stdout",
     "output_type": "stream",
     "text": [
      "Cut-off line at 0.31\n"
     ]
    }
   ],
   "source": [
    "k=stup_pft4.shape[1]\n",
    "n=stup_pft4.shape[0]\n",
    "leverage_cutoff = (3*(k+1))/n\n",
    "print('Cut-off line at',np.round(leverage_cutoff,2))"
   ]
  },
  {
   "cell_type": "code",
   "execution_count": 84,
   "id": "e6280948",
   "metadata": {
    "ExecuteTime": {
     "end_time": "2022-11-03T18:28:32.175296Z",
     "start_time": "2022-11-03T18:28:31.883510Z"
    }
   },
   "outputs": [
    {
     "data": {
      "image/png": "[encoded data removed]",
      "text/plain": [
       "<Figure size 1152x648 with 1 Axes>"
      ]
     },
     "metadata": {},
     "output_type": "display_data"
    }
   ],
   "source": [
    "fig = plt.figure(figsize = (16,9))\n",
    "x = [0,48]\n",
    "y = [0.5,0.5]\n",
    "plt.plot(x, y,color='darkred', linewidth=2)\n",
    "y1 = [0.31,0.31]\n",
    "plt.plot(x , y1, color = 'red', linewidth = 2)\n",
    "plt.stem(np.arange(len(stup_pft4)), np.round(c, 3))\n",
    "plt.xlabel('Row index')\n",
    "plt.ylabel(\"Cook's Distance\")\n",
    "plt.show()"
   ]
  },
  {
   "cell_type": "markdown",
   "id": "52f1de58",
   "metadata": {
    "ExecuteTime": {
     "end_time": "2022-10-29T10:23:42.785343Z",
     "start_time": "2022-10-29T10:23:42.778184Z"
    }
   },
   "source": [
    " #### Hence, we can say that there are no influencers present in our model."
   ]
  },
  {
   "cell_type": "markdown",
   "id": "cc09bd0e",
   "metadata": {},
   "source": [
    "### Step-12 : Using the model for new data"
   ]
  },
  {
   "cell_type": "code",
   "execution_count": 85,
   "id": "6d2cdaa7",
   "metadata": {
    "ExecuteTime": {
     "end_time": "2022-11-03T18:28:32.190259Z",
     "start_time": "2022-11-03T18:28:32.178288Z"
    }
   },
   "outputs": [],
   "source": [
    "#Predict for new data\n",
    "newdata={'RnD_Exp':[100000,200000,300000],'Mktg_Exp':[100000,200000,100000]}"
   ]
  },
  {
   "cell_type": "code",
   "execution_count": 86,
   "id": "f63cdf3a",
   "metadata": {
    "ExecuteTime": {
     "end_time": "2022-11-03T18:28:32.221219Z",
     "start_time": "2022-11-03T18:28:32.196242Z"
    }
   },
   "outputs": [
    {
     "data": {
      "text/html": [
       "<div>\n",
       "<style scoped>\n",
       "    .dataframe tbody tr th:only-of-type {\n",
       "        vertical-align: middle;\n",
       "    }\n",
       "\n",
       "    .dataframe tbody tr th {\n",
       "        vertical-align: top;\n",
       "    }\n",
       "\n",
       "    .dataframe thead th {\n",
       "        text-align: right;\n",
       "    }\n",
       "</style>\n",
       "<table border=\"1\" class=\"dataframe\">\n",
       "  <thead>\n",
       "    <tr style=\"text-align: right;\">\n",
       "      <th></th>\n",
       "      <th>RnD_Exp</th>\n",
       "      <th>Mktg_Exp</th>\n",
       "    </tr>\n",
       "  </thead>\n",
       "  <tbody>\n",
       "    <tr>\n",
       "      <th>0</th>\n",
       "      <td>100000</td>\n",
       "      <td>100000</td>\n",
       "    </tr>\n",
       "    <tr>\n",
       "      <th>1</th>\n",
       "      <td>200000</td>\n",
       "      <td>200000</td>\n",
       "    </tr>\n",
       "    <tr>\n",
       "      <th>2</th>\n",
       "      <td>300000</td>\n",
       "      <td>100000</td>\n",
       "    </tr>\n",
       "  </tbody>\n",
       "</table>\n",
       "</div>"
      ],
      "text/plain": [
       "   RnD_Exp  Mktg_Exp\n",
       "0   100000    100000\n",
       "1   200000    200000\n",
       "2   300000    100000"
      ]
     },
     "execution_count": 86,
     "metadata": {},
     "output_type": "execute_result"
    }
   ],
   "source": [
    "data_pred=pd.DataFrame(newdata,columns=['RnD_Exp','Mktg_Exp'])\n",
    "data_pred"
   ]
  },
  {
   "cell_type": "code",
   "execution_count": 87,
   "id": "57909990",
   "metadata": {
    "ExecuteTime": {
     "end_time": "2022-11-03T18:28:32.252678Z",
     "start_time": "2022-11-03T18:28:32.226171Z"
    }
   },
   "outputs": [
    {
     "data": {
      "text/html": [
       "<div>\n",
       "<style scoped>\n",
       "    .dataframe tbody tr th:only-of-type {\n",
       "        vertical-align: middle;\n",
       "    }\n",
       "\n",
       "    .dataframe tbody tr th {\n",
       "        vertical-align: top;\n",
       "    }\n",
       "\n",
       "    .dataframe thead th {\n",
       "        text-align: right;\n",
       "    }\n",
       "</style>\n",
       "<table border=\"1\" class=\"dataframe\">\n",
       "  <thead>\n",
       "    <tr style=\"text-align: right;\">\n",
       "      <th></th>\n",
       "      <th>RnD_Exp</th>\n",
       "      <th>Mktg_Exp</th>\n",
       "      <th>Pred_Profit</th>\n",
       "    </tr>\n",
       "  </thead>\n",
       "  <tbody>\n",
       "    <tr>\n",
       "      <th>0</th>\n",
       "      <td>100000</td>\n",
       "      <td>100000</td>\n",
       "      <td>130068.21</td>\n",
       "    </tr>\n",
       "    <tr>\n",
       "      <th>1</th>\n",
       "      <td>200000</td>\n",
       "      <td>200000</td>\n",
       "      <td>210351.14</td>\n",
       "    </tr>\n",
       "    <tr>\n",
       "      <th>2</th>\n",
       "      <td>300000</td>\n",
       "      <td>100000</td>\n",
       "      <td>285144.98</td>\n",
       "    </tr>\n",
       "  </tbody>\n",
       "</table>\n",
       "</div>"
      ],
      "text/plain": [
       "   RnD_Exp  Mktg_Exp  Pred_Profit\n",
       "0   100000    100000    130068.21\n",
       "1   200000    200000    210351.14\n",
       "2   300000    100000    285144.98"
      ]
     },
     "execution_count": 87,
     "metadata": {},
     "output_type": "execute_result"
    }
   ],
   "source": [
    "new_pred = RnD_Mktg.predict(data_pred)\n",
    "data_pred['Pred_Profit']=np.round(new_pred,2)\n",
    "data_pred"
   ]
  },
  {
   "cell_type": "markdown",
   "id": "54e27379",
   "metadata": {},
   "source": [
    "#### Hence the Multiple Linear Regression model gives accurate predictions."
   ]
  }
 ],
 "metadata": {
  "kernelspec": {
   "display_name": "Python 3 (ipykernel)",
   "language": "python",
   "name": "python3"
  },
  "language_info": {
   "codemirror_mode": {
    "name": "ipython",
    "version": 3
   },
   "file_extension": ".py",
   "mimetype": "text/x-python",
   "name": "python",
   "nbconvert_exporter": "python",
   "pygments_lexer": "ipython3",
   "version": "3.9.12"
  }
 },
 "nbformat": 4,
 "nbformat_minor": 5
}
